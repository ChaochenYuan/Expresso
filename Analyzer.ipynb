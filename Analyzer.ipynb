{
 "cells": [
  {
   "cell_type": "code",
   "execution_count": 1,
   "id": "0139650e",
   "metadata": {},
   "outputs": [
    {
     "name": "stdout",
     "output_type": "stream",
     "text": [
      "Welcome to JupyROOT 6.22/06\n"
     ]
    }
   ],
   "source": [
    "import ROOT\n",
    "ROOT.ROOT.EnableImplicitMT()\n",
    "ROOT.gInterpreter.AddIncludePath(\"./include/\");\n",
    "ROOT.gInterpreter.ProcessLine('#include \"Helper.h\"')\n",
    "from include.PyHelper import *"
   ]
  },
  {
   "cell_type": "code",
   "execution_count": 2,
   "id": "88a84898",
   "metadata": {},
   "outputs": [],
   "source": [
    "ROOT.gStyle.SetOptStat(0)"
   ]
  },
  {
   "cell_type": "code",
   "execution_count": 3,
   "id": "7ab0e779",
   "metadata": {},
   "outputs": [],
   "source": [
    "goodelectrons=ObjectMask()\n",
    "goodelectrons.addcut(\"(Electron_pt > 10)\")\n",
    "goodelectrons.addcut(\"((Electron_sieie<0.011)&&(abs(Electron_eta)<=1.479))|| ((Electron_sieie<0.030)&&(abs(Electron_eta)>1.479))\")\n",
    "goodelectrons.addcut(\"abs(Electron_dxy)< 0.05\")\n",
    "goodelectrons.addcut(\"Electron_mvaTTH > 0.8\")\n",
    "goodelectrons.addcut(\"Electron_hoe<0.1\")\n",
    "goodelectrons.addcut(\"Electron_eInvMinusPInv>-0.04\")\n",
    "goodelectrons.addcut(\"Electron_sip3d<8\")\n",
    "goodelectrons.addcut(\"Electron_convVeto\")\n",
    "goodelectrons.addcut(\"Electron_mvaFall17noIso_WPL\")\n",
    "goodelectrons.addcut(\"(Electron_pfRelIso03_all < (0.4*Electron_pt))\")\n",
    "goodelectrons.addcut(\"Electron_lostHits==0\")\n",
    "goodelectrons.addcut(\"(abs(Electron_eta)< 1.479)\")\n",
    "\n",
    "Ana= MyAnalyzer()\n",
    "Ana.definition(\"GoodElectrons\",goodelectrons.mask)\n",
    "Ana.definition(\"NGoodElectrons\",\"Sum(GoodElectrons)\")\n",
    "Ana.definition(\"MyElectron_pt\",\"Take(Electron_pt[GoodElectrons], Reverse(Argsort(Electron_pt[GoodElectrons])))\")\n",
    "Ana.definition(\"MyElectron_eta\",\"Take(Electron_eta[GoodElectrons], Reverse(Argsort(Electron_pt[GoodElectrons])))\")\n",
    "Ana.definition(\"MyElectron_phi\",\"Take(Electron_phi[GoodElectrons], Reverse(Argsort(Electron_pt[GoodElectrons])))\")\n",
    "Ana.definition(\"MyElectron_mass\",\"Take(Electron_mass[GoodElectrons], Reverse(Argsort(Electron_pt[GoodElectrons])))\")\n",
    "Ana.definition(\"MyElectron_charge\",\"Take(Electron_charge[GoodElectrons], Reverse(Argsort(Electron_pt[GoodElectrons])))\")\n",
    "Ana.definition(\"MyElectron_genPartIdx\",\"Take(Electron_genPartIdx[GoodElectrons], Reverse(Argsort(Electron_pt[GoodElectrons])))\")\n",
    "Ana.definition(\"MyElectron_jetIdx\",\"Take(Electron_jetIdx[GoodElectrons], Reverse(Argsort(Electron_pt[GoodElectrons])))\")\n",
    "Ana.definition(\"MyElectron_pt1\",\"MyElectron_pt[0]\")\n",
    "Ana.definition(\"MyElectron_eta1\",\"MyElectron_eta[0]\")\n",
    "Ana.definition(\"MyElectron_phi1\",\"MyElectron_phi[0]\")\n",
    "Ana.definition(\"MyElectron_mass1\",\"MyElectron_mass[0]\")\n",
    "Ana.definition(\"MyElectron_charge1\",\"MyElectron_charge[0]\")\n",
    "Ana.definition(\"MyElectron_genPartIdx1\",\"MyElectron_genPartIdx[0]\")\n",
    "Ana.definition(\"MyElectron_jetIdx1\",\"MyElectron_jetIdx[0]\")\n",
    "Ana.definition(\"MyElectron_motherpid1\",\"GenPart_pdgId[GenPart_genPartIdxMother[MyElectron_genPartIdx1]]\")\n",
    "Ana.definition(\"MyElectron_deepjet1\",\"Jet_btagDeepFlavB[MyElectron_jetIdx1]\")\n",
    "Ana.definition(\"MyElectron_pt2\",\"MyElectron_pt[1]\")\n",
    "Ana.definition(\"MyElectron_eta2\",\"MyElectron_eta[1]\")\n",
    "Ana.definition(\"MyElectron_phi2\",\"MyElectron_phi[1]\")\n",
    "Ana.definition(\"MyElectron_mass2\",\"MyElectron_mass[1]\")\n",
    "Ana.definition(\"MyElectron_charge2\",\"MyElectron_charge[1]\")\n",
    "Ana.definition(\"MyElectron_genPartIdx2\",\"MyElectron_genPartIdx[1]\")\n",
    "Ana.definition(\"MyElectron_jetIdx2\",\"MyElectron_jetIdx[1]\")\n",
    "Ana.definition(\"MyElectron_motherpid2\",\"GenPart_pdgId[GenPart_genPartIdxMother[MyElectron_genPartIdx2]]\")\n",
    "Ana.definition(\"MyElectron_deepjet2\",\"Jet_btagDeepFlavB[MyElectron_jetIdx2]\")\n",
    "Ana.definition(\"Dielectron_mass\",\"ComputeInvariantMass(MyElectron_pt, MyElectron_eta, MyElectron_phi, MyElectron_mass)\")\n",
    "\n",
    "Ana.alias(\"elpt\",\"MyElectron_pt\")\n",
    "Ana.alias(\"eleta\",\"MyElectron_eta\")\n",
    "Ana.alias(\"elphi\",\"MyElectron_phi\")\n",
    "Ana.alias(\"elmass\",\"MyElectron_mass\")\n",
    "Ana.alias(\"elq\",\"MyElectron_charge\")\n",
    "Ana.alias(\"elpt1\",\"MyElectron_pt1\")\n",
    "Ana.alias(\"eleta1\",\"MyElectron_eta1\")\n",
    "Ana.alias(\"elphi1\",\"MyElectron_phi1\")\n",
    "Ana.alias(\"elmass1\",\"MyElectron_mass1\")\n",
    "Ana.alias(\"elq1\",\"MyElectron_charge1\")\n",
    "Ana.alias(\"elpt2\",\"MyElectron_pt2\")\n",
    "Ana.alias(\"eleta2\",\"MyElectron_eta2\")\n",
    "Ana.alias(\"elphi2\",\"MyElectron_phi2\")\n",
    "Ana.alias(\"elmass2\",\"MyElectron_mass2\")\n",
    "Ana.alias(\"elq2\",\"MyElectron_charge2\")\n",
    "\n",
    "Ana.sel(\"Sum(GoodElectrons) == 2\",\"Two or more good electrons\")\n",
    "#Ana.sel(\"MyElectron_motherpid1==23 && MyElectron_motherpid2==23\",\"Come from Z\")\n",
    "Ana.sel(\"(MyElectron_deepjet1<0.3033) && (MyElectron_deepjet2<0.3033)\",\"DeepJet cuts on ele\")\n",
    "Ana.sel(\"(Dielectron_mass<121) && (Dielectron_mass>61)\",\"Z mass cut\")\n",
    "Ana.sel(\"DeltaR(eleta1, eleta2, elphi1, elphi2)>0.4\",\"DeltaR cut\")\n",
    "Ana.sel(\"Flag_goodVertices && Flag_globalSuperTightHalo2016Filter && Flag_HBHENoiseFilter\",\"Quality1\")\n",
    "Ana.sel(\"Flag_HBHENoiseIsoFilter && Flag_EcalDeadCellTriggerPrimitiveFilter && Flag_BadPFMuonFilter\",\"Quality2\")\n",
    "Ana.sel(\"Flag_HBHENoiseIsoFilter && Flag_EcalDeadCellTriggerPrimitiveFilter && Flag_BadPFMuonFilter\",\"Quality3\")\n",
    "\n",
    "Ana.process(\"DY\",{'Files':'/eos/cms/store/group/phys_egamma/akapoor/ChargeMisID/newsamples2/*.root',\n",
    "                  'Type':'Bkg','Tree':'Events','Xsec':1})"
   ]
  },
  {
   "cell_type": "code",
   "execution_count": 4,
   "id": "6f3975bb",
   "metadata": {},
   "outputs": [
    {
     "name": "stderr",
     "output_type": "stream",
     "text": [
      "Warning in <TClass::Init>: no dictionary for class edm::ProcessHistory is available\n",
      "Warning in <TClass::Init>: no dictionary for class edm::ProcessConfiguration is available\n",
      "Warning in <TClass::Init>: no dictionary for class edm::ParameterSetBlob is available\n",
      "Warning in <TClass::Init>: no dictionary for class edm::Hash<1> is available\n",
      "Warning in <TClass::Init>: no dictionary for class pair<edm::Hash<1>,edm::ParameterSetBlob> is available\n"
     ]
    }
   ],
   "source": [
    "Ana.prepare()"
   ]
  },
  {
   "cell_type": "code",
   "execution_count": 5,
   "id": "58432a89",
   "metadata": {},
   "outputs": [],
   "source": [
    "#for PD in PDs:\n",
    "#    PD['RDF'].Display({\"NGoodElectrons\",\"elpt\",\"MyElectron_pt\"}).Print()"
   ]
  },
  {
   "cell_type": "code",
   "execution_count": 6,
   "id": "0a0fa2bf",
   "metadata": {},
   "outputs": [],
   "source": [
    "#hMeeSS = PDs[0]['RDF'].Filter(\"(elq1+elq2)!=0\", \"Two SS\").Histo1D((\"Dielectron_mass_SS\", \"Dielectron_mass;m_{ee} (GeV);Events\", 10, 71, 111), \"Dielectron_mass\")\n",
    "#hMee = PDs[0]['RDF'].Histo1D((\"Dielectron_mass_all\", \"Dielectron_mass;m_{ee} (GeV);Events\", 10, 71, 111), \"Dielectron_mass\")\n",
    "\n",
    "\n",
    "#hemotherpid1 = PDs[0]['RDF'].Histo1D((\"MyElectron_motherpid1\", \"MyElectron_motherpid1;MyElectron_motherpid1;Events\", 50, -25, 25), \"MyElectron_motherpid1\")\n",
    "\n",
    "#helpt1SS = PDs[0]['RDF'].Filter(\"(elq1+elq2)!=0\", \"Two SS\").Histo1D((\"elpt1_SS\", \"elpt1;elpt1 (GeV);Events\", 5, 10, 100), \"elpt1\")\n",
    "#helpt1 = PDs[0]['RDF'].Histo1D((\"elpt1_all\", \"elpt1;elpt1 (GeV);Events\", 5, 10, 100), \"elpt1\")"
   ]
  },
  {
   "cell_type": "code",
   "execution_count": 7,
   "id": "e2b7595c",
   "metadata": {},
   "outputs": [],
   "source": [
    "#savehist([hMeeSS.Clone(),hMee.Clone()],[ROOT.kRed,ROOT.kBlue,ROOT.kGreen],norm=True)\n",
    "\n",
    "#savehist([hemotherpid1.Clone()],[ROOT.kRed,ROOT.kBlue,ROOT.kGreen])\n",
    "\n",
    "#savehistonlyratio([hMeeSS.Clone(),hMee.Clone()],[ROOT.kRed,ROOT.kBlue,ROOT.kGreen])"
   ]
  },
  {
   "cell_type": "code",
   "execution_count": 8,
   "id": "18e02caf",
   "metadata": {},
   "outputs": [],
   "source": [
    "#savehist([helpt1SS.Clone(),helpt1.Clone()],[ROOT.kRed,ROOT.kBlue,ROOT.kGreen],norm=True)\n",
    "#savehist([helpt1SS.Clone(),helpt1.Clone()],[ROOT.kRed,ROOT.kBlue,ROOT.kGreen])\n",
    "\n",
    "#savehistonlyratio([helpt1SS.Clone(),helpt1.Clone()],[ROOT.kRed,ROOT.kBlue,ROOT.kGreen])"
   ]
  },
  {
   "cell_type": "code",
   "execution_count": 9,
   "id": "a1c9fc9a",
   "metadata": {},
   "outputs": [],
   "source": [
    "#print(PDs[0]['RDF'].GetColumnNames())"
   ]
  },
  {
   "cell_type": "code",
   "execution_count": null,
   "id": "2169bb93",
   "metadata": {},
   "outputs": [],
   "source": []
  },
  {
   "cell_type": "code",
   "execution_count": 10,
   "id": "c0aaf8ea",
   "metadata": {},
   "outputs": [],
   "source": [
    "#PDs[0]['RDF'].Display({\"MyElectron_pt\",\"MyElectron_motherpid1\"}).Print()\n",
    "\n",
    "DY=Ana.PD['DY']['RDF']"
   ]
  },
  {
   "cell_type": "code",
   "execution_count": 11,
   "id": "f12f1106",
   "metadata": {},
   "outputs": [],
   "source": [
    "GlobalRate=DY.Filter(\"(elq1+elq2)!=0\", \"Two SS\").Count().GetValue() / DY.Count().GetValue()"
   ]
  },
  {
   "cell_type": "code",
   "execution_count": 12,
   "id": "0bee3b98",
   "metadata": {},
   "outputs": [
    {
     "name": "stdout",
     "output_type": "stream",
     "text": [
      "The global charge flip rate is 0.49%\n"
     ]
    }
   ],
   "source": [
    "print(f\"The global charge flip rate is {round(GlobalRate*100,3)}%\")"
   ]
  },
  {
   "cell_type": "code",
   "execution_count": 13,
   "id": "b0fbd293",
   "metadata": {},
   "outputs": [
    {
     "name": "stdout",
     "output_type": "stream",
     "text": [
      "Two or more good electrons: pass=206007     all=4621815    -- eff=4.46 % cumulative eff=4.46 %\n",
      "DeepJet cuts on ele: pass=203821     all=206007     -- eff=98.94 % cumulative eff=4.41 %\n",
      "Z mass cut: pass=196059     all=203821     -- eff=96.19 % cumulative eff=4.24 %\n",
      "DeltaR cut: pass=195749     all=196059     -- eff=99.84 % cumulative eff=4.24 %\n",
      "Quality1  : pass=195697     all=195749     -- eff=99.97 % cumulative eff=4.23 %\n",
      "Quality3  : pass=195618     all=195697     -- eff=99.96 % cumulative eff=4.23 %\n"
     ]
    }
   ],
   "source": [
    "Ana.printCutFlow('DY')"
   ]
  }
 ],
 "metadata": {
  "kernelspec": {
   "display_name": "Python 3",
   "language": "python",
   "name": "python3"
  },
  "language_info": {
   "codemirror_mode": {
    "name": "ipython",
    "version": 3
   },
   "file_extension": ".py",
   "mimetype": "text/x-python",
   "name": "python",
   "nbconvert_exporter": "python",
   "pygments_lexer": "ipython3",
   "version": "3.8.6"
  }
 },
 "nbformat": 4,
 "nbformat_minor": 5
}
