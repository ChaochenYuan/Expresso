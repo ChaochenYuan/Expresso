{
 "cells": [
  {
   "cell_type": "code",
   "execution_count": 1,
   "id": "d599328b",
   "metadata": {},
   "outputs": [],
   "source": [
    "files='/eos/cms/store/group/phys_egamma/akapoor/ChargeMisID/newsamples/*.root'"
   ]
  },
  {
   "cell_type": "code",
   "execution_count": 2,
   "id": "d748a249",
   "metadata": {},
   "outputs": [
    {
     "name": "stdout",
     "output_type": "stream",
     "text": [
      "Welcome to JupyROOT 6.24/00\n"
     ]
    }
   ],
   "source": [
    "import ROOT\n",
    "import os\n",
    "ROOT.gStyle.SetPalette(55)\n",
    "ROOT.gStyle.SetOptStat(0); \n",
    "ROOT.gStyle.SetTextFont(42)"
   ]
  },
  {
   "cell_type": "code",
   "execution_count": 3,
   "id": "7048c0a8",
   "metadata": {},
   "outputs": [],
   "source": [
    "#ROOT.ROOT.EnableImplicitMT()"
   ]
  },
  {
   "cell_type": "code",
   "execution_count": 4,
   "id": "702d46bc",
   "metadata": {},
   "outputs": [
    {
     "data": {
      "text/plain": [
       "True"
      ]
     },
     "execution_count": 4,
     "metadata": {},
     "output_type": "execute_result"
    }
   ],
   "source": [
    "#header_path = \"/eos/user/a/akapoor/SWAN_projects/ChargeMisID_ttH/ChargeFlipStudies/Analysis_python.h\"\n",
    " \n",
    "#ROOT.gInterpreter.Declare(f'#include <{header_path}>')\n",
    "\n",
    "ROOT.gInterpreter.Declare('''\n",
    "using Vec_t = const ROOT::RVec<float>&;\n",
    "float ComputeInvariantMass(Vec_t pt, Vec_t eta, Vec_t phi, Vec_t mass) {\n",
    "    const ROOT::Math::PtEtaPhiMVector p1(pt[0], eta[0], phi[0], mass[0]);\n",
    "    const ROOT::Math::PtEtaPhiMVector p2(pt[1], eta[1], phi[1], mass[1]);\n",
    "    return (p1 + p2).M();\n",
    "}\n",
    "float SumpT(Vec_t pt) {\n",
    "    return (pt[0] + pt[1]);\n",
    "}\n",
    "''')"
   ]
  },
  {
   "cell_type": "code",
   "execution_count": 5,
   "id": "65bcd9a7",
   "metadata": {},
   "outputs": [],
   "source": [
    "def selection_2el2mu(df):\n",
    "    df = df.Filter(\"nElectron==2\", \"Exactly two electrons\")\n",
    "    df = df.Define(\"GoodElectrons\", \"(Electron_pt > 10) && (Electron_mvaTTH > 0.8) && (Electron_cutBased > 2)\")\n",
    "    df = df.Filter(\"Sum(GoodElectrons) == 2\",\"Exactly two good electrons\")\n",
    "    #df = df.Define(\"SortedElectronpT\",\"Take(Electron_pt, Argsort(Electron_pt))\")\n",
    "    #df = df.Define(\"SortedElectroneta\",\"Take(Electron_eta, Argsort(Electron_pt))\")\n",
    "    #df = df.Define(\"SortedElectronphi\",\"Take(Electron_phi, Argsort(Electron_pt))\")\n",
    "    #df = df.Define(\"SortedElectronmass\",\"Take(Electron_mass, Argsort(Electron_pt))\")\n",
    "    df = df.Define(\"NGoodElectrons\", \"Sum(GoodElectrons)\")\n",
    "    df = df.Define(\"Dielectron_mass\", \n",
    "                   \"ComputeInvariantMass(Electron_pt[GoodElectrons], Electron_eta[GoodElectrons], Electron_phi[GoodElectrons], Electron_mass[GoodElectrons])\")\n",
    "    df = df.Filter(\"(Dielectron_mass<111) && (Dielectron_mass>71)\",\"Z mass cut\")\n",
    "    df = df.Define(\"SumpT\", \"SumpT(Electron_pt[GoodElectrons])\")\n",
    "    \n",
    "    return df"
   ]
  },
  {
   "cell_type": "code",
   "execution_count": 6,
   "id": "cd6770a5",
   "metadata": {},
   "outputs": [],
   "source": [
    "df = ROOT.RDataFrame(\"Events\", files)"
   ]
  },
  {
   "cell_type": "code",
   "execution_count": 7,
   "id": "e711e9cc",
   "metadata": {},
   "outputs": [
    {
     "name": "stderr",
     "output_type": "stream",
     "text": [
      "Warning in <TClass::Init>: no dictionary for class edm::ProcessHistory is available\n",
      "Warning in <TClass::Init>: no dictionary for class edm::ProcessConfiguration is available\n",
      "Warning in <TClass::Init>: no dictionary for class edm::ParameterSetBlob is available\n",
      "Warning in <TClass::Init>: no dictionary for class edm::Hash<1> is available\n",
      "Warning in <TClass::Init>: no dictionary for class pair<edm::Hash<1>,edm::ParameterSetBlob> is available\n"
     ]
    }
   ],
   "source": [
    "dfsel=selection_2el2mu(df)"
   ]
  },
  {
   "cell_type": "code",
   "execution_count": 8,
   "id": "1690b218",
   "metadata": {},
   "outputs": [],
   "source": [
    "report = dfsel.Report()"
   ]
  },
  {
   "cell_type": "code",
   "execution_count": 9,
   "id": "cef3da76",
   "metadata": {},
   "outputs": [
    {
     "name": "stdout",
     "output_type": "stream",
     "text": [
      "Exactly two electrons: pass=145074     all=861432     -- eff=16.84 % cumulative eff=16.84 %\n",
      "Exactly two good electrons: pass=55759      all=145074     -- eff=38.43 % cumulative eff=6.47 %\n",
      "Z mass cut: pass=52426      all=55759      -- eff=94.02 % cumulative eff=6.09 %\n"
     ]
    }
   ],
   "source": [
    "report.Print()"
   ]
  },
  {
   "cell_type": "code",
   "execution_count": 10,
   "id": "7e54bca9",
   "metadata": {},
   "outputs": [
    {
     "name": "stdout",
     "output_type": "stream",
     "text": [
      "GoodElectrons | NGoodElectrons | Dielectron_mass | SumpT    | run | luminosityBlock | event   | \n",
      "1             | 2              | 90.2180f        | 75.3159f | 1   | 18773           | 8920041 | \n",
      "1             |                |                 |          |     |                 |         | \n",
      "1             | 2              | 92.6971f        | 64.6227f | 1   | 18773           | 8920100 | \n",
      "1             |                |                 |          |     |                 |         | \n",
      "1             | 2              | 96.4948f        | 63.9394f | 1   | 18773           | 8920163 | \n",
      "1             |                |                 |          |     |                 |         | \n",
      "1             | 2              | 78.9774f        | 84.6764f | 1   | 18773           | 8920218 | \n",
      "1             |                |                 |          |     |                 |         | \n",
      "1             | 2              | 85.9138f        | 85.6897f | 1   | 18773           | 8920291 | \n",
      "1             |                |                 |          |     |                 |         | \n"
     ]
    },
    {
     "name": "stderr",
     "output_type": "stream",
     "text": [
      "Info in <Print>: Only showing 7 columns out of 1032\n",
      "\n"
     ]
    }
   ],
   "source": []
  },
  {
   "cell_type": "code",
   "execution_count": 11,
   "id": "662aa71a",
   "metadata": {},
   "outputs": [],
   "source": [
    "def savehist(h=[],col=[],op=\"l\"):\n",
    "    \n",
    "    c = ROOT.TCanvas(\"c\", \"\", 800, 700)\n",
    "    \n",
    "    pad1 = ROOT.TPad(\"pad1\",\"pad1\",0,0.3,1,1);\n",
    "    pad1.SetBottomMargin(0)\n",
    "    pad1.Draw()\n",
    "    pad1.cd()\n",
    "    \n",
    "    legend=ROOT.TLegend(0.5,0.8,0.9,0.9)\n",
    "    \n",
    "    h[0].GetXaxis().SetTitleSize(0.04)\n",
    "    h[0].GetYaxis().SetTitleSize(0.02)\n",
    "    \n",
    "    h[0].SetLineColor(col[0])\n",
    "    h[0].Draw(\"hist\")\n",
    "    legend.AddEntry(h[0].GetName(), h[0].GetName(), op)\n",
    "    if len(h)>1:\n",
    "        for i,hi in enumerate(h):\n",
    "            if i!=0:\n",
    "                h[i].SetLineColor(col[i])\n",
    "                h[i].Draw(\"histsame\")\n",
    "                legend.AddEntry(h[i].GetName(), h[i].GetName(), op)\n",
    "    legend.Draw()\n",
    "    legend.SetTextSize(0.04)\n",
    "    #h[0].SetAxisRange(h[0].GetMinimum(), 0.2*h[0].GetMaximum(), \"Y\");\n",
    "    c.SaveAs((h[0].GetTitle())+\".pdf\")\n",
    "    \n",
    "    \n",
    "def savehistwithratio(h=[],col=[],op=\"l\"):\n",
    "    if len(h)!=2:\n",
    "        print(\"Only works with 2 hists\")\n",
    "        return 0;\n",
    "    h1=h[0].Clone()\n",
    "    h2=h[1].Clone()\n",
    "    c1 = ROOT.TCanvas(\"c1\",\"example\",600,700);\n",
    "    pad1 = ROOT.TPad(\"pad1\",\"pad1\",0,0.3,1,1);\n",
    "    pad1.SetBottomMargin(0);\n",
    "    pad1.Draw();\n",
    "    pad1.cd();\n",
    "    legend=ROOT.TLegend(0.5,0.8,0.9,0.9)\n",
    "    \n",
    "    h1.DrawCopy();\n",
    "    h1.SetLineColor(col[0])\n",
    "    legend.AddEntry(h1.GetName(), h1.GetName(), op)\n",
    "    h2.Draw(\"same\");\n",
    "    h2.SetLineColor(col[1])\n",
    "    legend.AddEntry(h2.GetName(), h2.GetName(), op)\n",
    "    legend.Draw()\n",
    "    legend.SetTextSize(0.04)\n",
    "    \n",
    "    c1.cd();\n",
    "    \n",
    "    pad2 = ROOT.TPad(\"pad2\",\"pad2\",0,0,1,0.3);\n",
    "    pad2.SetTopMargin(0);\n",
    "    pad2.Draw();\n",
    "    pad2.cd();\n",
    "    h1.Sumw2();\n",
    "    h1.SetStats(0);\n",
    "    h1.Divide(h2);\n",
    "    #h1.SetMarkerStyle(21);\n",
    "    h1.SetMarkerSize(1)\n",
    "    h1.Draw(\"text0 ep\");\n",
    "    c1.cd();\n",
    "    \n",
    "    c1.SaveAs((h[0].GetTitle())+\".pdf\")\n",
    "    \n",
    "    \n",
    "def savehistonlyratio(h=[],col=[],op=\"l\"):\n",
    "    ROOT.gStyle.SetPaintTextFormat(\"4.4f\");\n",
    "    if len(h)!=2:\n",
    "        print(\"Only works with 2 hists\")\n",
    "        return 0;\n",
    "    h1=h[0].Clone()\n",
    "    h2=h[1].Clone()\n",
    "    c1 = ROOT.TCanvas(\"c1\",\"example\",600,700);\n",
    "    legend=ROOT.TLegend(0.5,0.8,0.9,0.9)\n",
    "    \n",
    "    h1.Sumw2();\n",
    "    h1.SetStats(0);\n",
    "    h1.Divide(h2);\n",
    "    #h1.SetMarkerStyle(21);\n",
    "    h1.SetMarkerSize(1)\n",
    "    h1.Draw(\"text0 ep\");\n",
    "    c1.SaveAs((h[0].GetTitle())+\"_ratio.pdf\")"
   ]
  },
  {
   "cell_type": "code",
   "execution_count": null,
   "id": "6882e463",
   "metadata": {},
   "outputs": [],
   "source": []
  },
  {
   "cell_type": "code",
   "execution_count": 12,
   "id": "d2ea34fc",
   "metadata": {},
   "outputs": [],
   "source": [
    "dfos=dfsel.Filter(\"Sum(Electron_charge)==0\", \"Two OS\")"
   ]
  },
  {
   "cell_type": "code",
   "execution_count": 13,
   "id": "8b911ecd",
   "metadata": {},
   "outputs": [],
   "source": [
    "report = dfos.Report()"
   ]
  },
  {
   "cell_type": "code",
   "execution_count": 14,
   "id": "13590051",
   "metadata": {},
   "outputs": [
    {
     "name": "stdout",
     "output_type": "stream",
     "text": [
      "Exactly two electrons: pass=145074     all=861432     -- eff=16.84 % cumulative eff=16.84 %\n",
      "Exactly two good electrons: pass=55759      all=145074     -- eff=38.43 % cumulative eff=6.47 %\n",
      "Z mass cut: pass=52426      all=55759      -- eff=94.02 % cumulative eff=6.09 %\n",
      "Two OS    : pass=51748      all=52426      -- eff=98.71 % cumulative eff=6.01 %\n"
     ]
    }
   ],
   "source": [
    "report.Print()"
   ]
  },
  {
   "cell_type": "code",
   "execution_count": 15,
   "id": "e7b76806",
   "metadata": {},
   "outputs": [],
   "source": [
    "def BookHisto(df,Args,Branch):\n",
    "    return df.Histo1D(Args, Branch)"
   ]
  },
  {
   "cell_type": "code",
   "execution_count": 16,
   "id": "b863184e",
   "metadata": {},
   "outputs": [],
   "source": [
    "h1 = dfsel.Filter(\"Sum(Electron_charge)==0\", \"Two OS\").Histo1D((\"Dielectron_mass_OS\", \"Dielectron_mass;m_{ee} (GeV);Events\", 300, 71, 111), \"Dielectron_mass\")\n",
    "h2 = dfsel.Histo1D((\"Dielectron_mass_all\", \"Dielectron_mass;m_{ee} (GeV);Events\", 300, 71, 111), \"Dielectron_mass\")\n",
    "\n",
    "hSumpT= BookHisto(dfos,(\"SumpT\", \"SumpT_OS;pT_{e1}+pT_{e2} (GeV);Events\", 1000, 0, 1000),\"SumpT\")\n",
    "hNel= BookHisto(dfos,(\"NGoodElectrons\", \"NGoodElectrons;N_{el} (GeV);Events\", 3, -0.5, 2.5),\"NGoodElectrons\")\n"
   ]
  },
  {
   "cell_type": "code",
   "execution_count": null,
   "id": "59a328e3",
   "metadata": {},
   "outputs": [],
   "source": []
  },
  {
   "cell_type": "code",
   "execution_count": 17,
   "id": "81f1e4e3",
   "metadata": {},
   "outputs": [
    {
     "name": "stderr",
     "output_type": "stream",
     "text": [
      "Info in <TCanvas::Print>: pdf file SumpT_OS.pdf has been created\n",
      "Info in <TCanvas::Print>: pdf file NGoodElectrons.pdf has been created\n",
      "Info in <TCanvas::Print>: pdf file Dielectron_mass.pdf has been created\n"
     ]
    }
   ],
   "source": [
    "savehist([hSumpT,h1,h2],\n",
    "         [ROOT.kRed,ROOT.kBlue,ROOT.kGreen])\n",
    "\n",
    "savehist([hNel],\n",
    "         [ROOT.kRed])\n",
    "\n",
    "savehistwithratio([h1,h2],\n",
    "         [ROOT.kRed,ROOT.kBlue])"
   ]
  },
  {
   "cell_type": "code",
   "execution_count": 18,
   "id": "c22c08b2",
   "metadata": {},
   "outputs": [
    {
     "name": "stdout",
     "output_type": "stream",
     "text": [
      "Exactly two electrons: pass=145074     all=861432     -- eff=16.84 % cumulative eff=16.84 %\n",
      "Exactly two good electrons: pass=55759      all=145074     -- eff=38.43 % cumulative eff=6.47 %\n",
      "Z mass cut: pass=52426      all=55759      -- eff=94.02 % cumulative eff=6.09 %\n",
      "Two OS    : pass=51748      all=52426      -- eff=98.71 % cumulative eff=6.01 %\n"
     ]
    }
   ],
   "source": [
    "dfos.Report().Print()"
   ]
  },
  {
   "cell_type": "code",
   "execution_count": 19,
   "id": "8de70297",
   "metadata": {},
   "outputs": [
    {
     "name": "stderr",
     "output_type": "stream",
     "text": [
      "Warning in <TCanvas::Constructor>: Deleting canvas with same name: c1\n",
      "Info in <TCanvas::Print>: pdf file Electron_pt_ratio.pdf has been created\n",
      "Info in <TCanvas::Print>: pdf file SubElectron_pt_ratio.pdf has been created\n",
      "Info in <TCanvas::Print>: pdf file Electron_pt.pdf has been created\n"
     ]
    }
   ],
   "source": [
    "dfsel=dfsel.Define(\"LeadingGoodElectronpT\", \"Electron_pt[0]\")\n",
    "dfsel=dfsel.Define(\"SubLeadingGoodElectronpT\", \"Electron_pt[1]\")\n",
    "\n",
    "h1 = dfsel.Filter(\"Sum(Electron_charge)!=0\", \"Two SS\").Histo1D((\"Electron_pt_SS\", \"Electron_pt;Electron_pt (GeV);Events\", 5, 0, 100), \"LeadingGoodElectronpT\")\n",
    "h2 = dfsel.Histo1D((\"Electron_pt_all\", \"Electron_pt;Electron_pt;Events\", 5, 0, 100), \"LeadingGoodElectronpT\")\n",
    "savehistonlyratio([h1,h2],\n",
    "                  [ROOT.kRed,ROOT.kBlue])\n",
    "\n",
    "h1 = dfsel.Filter(\"Sum(Electron_charge)!=0\", \"Two SS\").Histo1D((\"SubElectron_pt_SS\", \"SubElectron_pt;SubElectron_pt (GeV);Events\", 5, 0, 100), \"SubLeadingGoodElectronpT\")\n",
    "h2 = dfsel.Histo1D((\"SubElectron_pt_all\", \"SubElectron_pt;SubElectron_pt;Events\", 5, 0, 100), \"SubLeadingGoodElectronpT\")\n",
    "savehistonlyratio([h1,h2],\n",
    "                  [ROOT.kRed,ROOT.kBlue])\n",
    "\n",
    "\n",
    "\n",
    "savehistwithratio([dfsel.Histo1D((\"Electron_pt_all\", \"Electron_pt;Electron_pt;Events\", 5, 0, 100), \"LeadingGoodElectronpT\"),\n",
    "                   dfsel.Histo1D((\"SubElectron_pt_all\", \"SubElectron_pt;SubElectron_pt;Events\", 5, 0, 100), \"SubLeadingGoodElectronpT\")],\n",
    "                  [ROOT.kRed,ROOT.kBlue])"
   ]
  },
  {
   "cell_type": "code",
   "execution_count": 20,
   "id": "d50e866f",
   "metadata": {},
   "outputs": [],
   "source": [
    "#import pandas\n",
    "#df=pandas.DataFrame(dfsel.AsNumpy())"
   ]
  },
  {
   "cell_type": "code",
   "execution_count": 21,
   "id": "bb882018",
   "metadata": {},
   "outputs": [
    {
     "data": {
      "text/html": [
       "<div>\n",
       "<style scoped>\n",
       "    .dataframe tbody tr th:only-of-type {\n",
       "        vertical-align: middle;\n",
       "    }\n",
       "\n",
       "    .dataframe tbody tr th {\n",
       "        vertical-align: top;\n",
       "    }\n",
       "\n",
       "    .dataframe thead th {\n",
       "        text-align: right;\n",
       "    }\n",
       "</style>\n",
       "<table border=\"1\" class=\"dataframe\">\n",
       "  <thead>\n",
       "    <tr style=\"text-align: right;\">\n",
       "      <th></th>\n",
       "      <th>GoodElectrons</th>\n",
       "      <th>NGoodElectrons</th>\n",
       "      <th>Dielectron_mass</th>\n",
       "      <th>SumpT</th>\n",
       "      <th>LeadingGoodElectronpT</th>\n",
       "      <th>SubLeadingGoodElectronpT</th>\n",
       "      <th>run</th>\n",
       "      <th>luminosityBlock</th>\n",
       "      <th>event</th>\n",
       "      <th>btagWeight_CSVV2</th>\n",
       "      <th>...</th>\n",
       "      <th>Flag_chargedHadronTrackResolutionFilter</th>\n",
       "      <th>Flag_muonBadTrackFilter</th>\n",
       "      <th>Flag_BadChargedCandidateFilter</th>\n",
       "      <th>Flag_BadPFMuonFilter</th>\n",
       "      <th>Flag_BadChargedCandidateSummer16Filter</th>\n",
       "      <th>Flag_BadPFMuonSummer16Filter</th>\n",
       "      <th>Flag_trkPOG_manystripclus53X</th>\n",
       "      <th>Flag_trkPOG_toomanystripclus53X</th>\n",
       "      <th>Flag_trkPOG_logErrorTooManyClusters</th>\n",
       "      <th>Flag_METFilters</th>\n",
       "    </tr>\n",
       "  </thead>\n",
       "  <tbody>\n",
       "    <tr>\n",
       "      <th>0</th>\n",
       "      <td>[]</td>\n",
       "      <td>2</td>\n",
       "      <td>90.218025</td>\n",
       "      <td>75.315903</td>\n",
       "      <td>39.488518</td>\n",
       "      <td>35.827385</td>\n",
       "      <td>1</td>\n",
       "      <td>18773</td>\n",
       "      <td>8920041</td>\n",
       "      <td>0.999266</td>\n",
       "      <td>...</td>\n",
       "      <td>True</td>\n",
       "      <td>True</td>\n",
       "      <td>True</td>\n",
       "      <td>True</td>\n",
       "      <td>True</td>\n",
       "      <td>True</td>\n",
       "      <td>True</td>\n",
       "      <td>True</td>\n",
       "      <td>True</td>\n",
       "      <td>True</td>\n",
       "    </tr>\n",
       "    <tr>\n",
       "      <th>1</th>\n",
       "      <td>[1815900783, 543649391]</td>\n",
       "      <td>2</td>\n",
       "      <td>92.697060</td>\n",
       "      <td>64.622650</td>\n",
       "      <td>33.326252</td>\n",
       "      <td>31.296398</td>\n",
       "      <td>1</td>\n",
       "      <td>18773</td>\n",
       "      <td>8920100</td>\n",
       "      <td>1.068812</td>\n",
       "      <td>...</td>\n",
       "      <td>True</td>\n",
       "      <td>True</td>\n",
       "      <td>True</td>\n",
       "      <td>True</td>\n",
       "      <td>True</td>\n",
       "      <td>True</td>\n",
       "      <td>True</td>\n",
       "      <td>True</td>\n",
       "      <td>True</td>\n",
       "      <td>True</td>\n",
       "    </tr>\n",
       "    <tr>\n",
       "      <th>2</th>\n",
       "      <td>[3290161, 0]</td>\n",
       "      <td>2</td>\n",
       "      <td>96.494766</td>\n",
       "      <td>63.939358</td>\n",
       "      <td>32.464668</td>\n",
       "      <td>31.474689</td>\n",
       "      <td>1</td>\n",
       "      <td>18773</td>\n",
       "      <td>8920163</td>\n",
       "      <td>1.064976</td>\n",
       "      <td>...</td>\n",
       "      <td>True</td>\n",
       "      <td>True</td>\n",
       "      <td>True</td>\n",
       "      <td>True</td>\n",
       "      <td>True</td>\n",
       "      <td>True</td>\n",
       "      <td>True</td>\n",
       "      <td>True</td>\n",
       "      <td>True</td>\n",
       "      <td>True</td>\n",
       "    </tr>\n",
       "    <tr>\n",
       "      <th>3</th>\n",
       "      <td>[0, 0]</td>\n",
       "      <td>2</td>\n",
       "      <td>78.977440</td>\n",
       "      <td>84.676399</td>\n",
       "      <td>46.002689</td>\n",
       "      <td>38.673710</td>\n",
       "      <td>1</td>\n",
       "      <td>18773</td>\n",
       "      <td>8920218</td>\n",
       "      <td>1.103870</td>\n",
       "      <td>...</td>\n",
       "      <td>True</td>\n",
       "      <td>True</td>\n",
       "      <td>True</td>\n",
       "      <td>True</td>\n",
       "      <td>True</td>\n",
       "      <td>True</td>\n",
       "      <td>True</td>\n",
       "      <td>True</td>\n",
       "      <td>True</td>\n",
       "      <td>True</td>\n",
       "    </tr>\n",
       "    <tr>\n",
       "      <th>4</th>\n",
       "      <td>[1919251561, 1919906913]</td>\n",
       "      <td>2</td>\n",
       "      <td>85.913849</td>\n",
       "      <td>85.689743</td>\n",
       "      <td>43.223740</td>\n",
       "      <td>42.466000</td>\n",
       "      <td>1</td>\n",
       "      <td>18773</td>\n",
       "      <td>8920291</td>\n",
       "      <td>0.982134</td>\n",
       "      <td>...</td>\n",
       "      <td>True</td>\n",
       "      <td>True</td>\n",
       "      <td>True</td>\n",
       "      <td>True</td>\n",
       "      <td>True</td>\n",
       "      <td>True</td>\n",
       "      <td>True</td>\n",
       "      <td>True</td>\n",
       "      <td>True</td>\n",
       "      <td>True</td>\n",
       "    </tr>\n",
       "  </tbody>\n",
       "</table>\n",
       "<p>5 rows × 1034 columns</p>\n",
       "</div>"
      ],
      "text/plain": [
       "              GoodElectrons  NGoodElectrons  Dielectron_mass      SumpT  \\\n",
       "0                        []               2        90.218025  75.315903   \n",
       "1   [1815900783, 543649391]               2        92.697060  64.622650   \n",
       "2              [3290161, 0]               2        96.494766  63.939358   \n",
       "3                    [0, 0]               2        78.977440  84.676399   \n",
       "4  [1919251561, 1919906913]               2        85.913849  85.689743   \n",
       "\n",
       "   LeadingGoodElectronpT  SubLeadingGoodElectronpT  run  luminosityBlock  \\\n",
       "0              39.488518                 35.827385    1            18773   \n",
       "1              33.326252                 31.296398    1            18773   \n",
       "2              32.464668                 31.474689    1            18773   \n",
       "3              46.002689                 38.673710    1            18773   \n",
       "4              43.223740                 42.466000    1            18773   \n",
       "\n",
       "     event  btagWeight_CSVV2  ...  Flag_chargedHadronTrackResolutionFilter  \\\n",
       "0  8920041          0.999266  ...                                     True   \n",
       "1  8920100          1.068812  ...                                     True   \n",
       "2  8920163          1.064976  ...                                     True   \n",
       "3  8920218          1.103870  ...                                     True   \n",
       "4  8920291          0.982134  ...                                     True   \n",
       "\n",
       "   Flag_muonBadTrackFilter  Flag_BadChargedCandidateFilter  \\\n",
       "0                     True                            True   \n",
       "1                     True                            True   \n",
       "2                     True                            True   \n",
       "3                     True                            True   \n",
       "4                     True                            True   \n",
       "\n",
       "   Flag_BadPFMuonFilter  Flag_BadChargedCandidateSummer16Filter  \\\n",
       "0                  True                                    True   \n",
       "1                  True                                    True   \n",
       "2                  True                                    True   \n",
       "3                  True                                    True   \n",
       "4                  True                                    True   \n",
       "\n",
       "  Flag_BadPFMuonSummer16Filter Flag_trkPOG_manystripclus53X  \\\n",
       "0                         True                         True   \n",
       "1                         True                         True   \n",
       "2                         True                         True   \n",
       "3                         True                         True   \n",
       "4                         True                         True   \n",
       "\n",
       "  Flag_trkPOG_toomanystripclus53X Flag_trkPOG_logErrorTooManyClusters  \\\n",
       "0                            True                                True   \n",
       "1                            True                                True   \n",
       "2                            True                                True   \n",
       "3                            True                                True   \n",
       "4                            True                                True   \n",
       "\n",
       "  Flag_METFilters  \n",
       "0            True  \n",
       "1            True  \n",
       "2            True  \n",
       "3            True  \n",
       "4            True  \n",
       "\n",
       "[5 rows x 1034 columns]"
      ]
     },
     "execution_count": 21,
     "metadata": {},
     "output_type": "execute_result"
    }
   ],
   "source": [
    "#df.head()"
   ]
  },
  {
   "cell_type": "code",
   "execution_count": 22,
   "id": "4c77c177",
   "metadata": {},
   "outputs": [
    {
     "data": {
      "text/plain": [
       "52426"
      ]
     },
     "execution_count": 22,
     "metadata": {},
     "output_type": "execute_result"
    }
   ],
   "source": []
  },
  {
   "cell_type": "code",
   "execution_count": null,
   "id": "c1e89865",
   "metadata": {},
   "outputs": [],
   "source": []
  }
 ],
 "metadata": {
  "kernelspec": {
   "display_name": "Python 3",
   "language": "python",
   "name": "python3"
  },
  "language_info": {
   "codemirror_mode": {
    "name": "ipython",
    "version": 3
   },
   "file_extension": ".py",
   "mimetype": "text/x-python",
   "name": "python",
   "nbconvert_exporter": "python",
   "pygments_lexer": "ipython3",
   "version": "3.8.6"
  }
 },
 "nbformat": 4,
 "nbformat_minor": 5
}
