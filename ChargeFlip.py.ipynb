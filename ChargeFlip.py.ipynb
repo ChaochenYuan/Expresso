{
 "cells": [
  {
   "cell_type": "code",
   "execution_count": 1,
   "id": "d748a249",
   "metadata": {},
   "outputs": [
    {
     "name": "stdout",
     "output_type": "stream",
     "text": [
      "Welcome to JupyROOT 6.24/06\n"
     ]
    }
   ],
   "source": [
    "import ROOT\n",
    "import os\n",
    "ROOT.gStyle.SetPalette(ROOT.kOcean);"
   ]
  },
  {
   "cell_type": "code",
   "execution_count": 2,
   "id": "7048c0a8",
   "metadata": {},
   "outputs": [
    {
     "name": "stderr",
     "output_type": "stream",
     "text": [
      "Warning in <RTaskArenaWrapper>: CPU Bandwith Control Active. Proceeding with 4 threads accordingly\n"
     ]
    }
   ],
   "source": [
    "ROOT.ROOT.EnableImplicitMT()"
   ]
  },
  {
   "cell_type": "code",
   "execution_count": 3,
   "id": "702d46bc",
   "metadata": {},
   "outputs": [
    {
     "data": {
      "text/plain": [
       "True"
      ]
     },
     "execution_count": 3,
     "metadata": {},
     "output_type": "execute_result"
    }
   ],
   "source": [
    "higgs_header_path = os.path.join(os.sep, str(ROOT.gROOT.GetTutorialDir()) + os.sep, \"dataframe\" + os.sep,\n",
    "                                 \"df103_NanoAODHiggsAnalysis_python.h\")\n",
    " \n",
    "ROOT.gInterpreter.Declare('#include \"{}\"'.format(higgs_header_path))"
   ]
  },
  {
   "cell_type": "code",
   "execution_count": 4,
   "id": "65bcd9a7",
   "metadata": {},
   "outputs": [],
   "source": [
    "def selection_2el2mu(df):\n",
    "    df = df.Filter(\"nElectron==2\", \"Exactly two electrons\")\n",
    "    df = df.Define(\"GoodElectrons\", \"(Electron_pt > 10) && (Electron_mvaTTH > 0.8) && (Electron_cutBased > 2)\")\n",
    "    df = df.Filter(\"Sum(GoodElectrons) == 2\",\"Exactly two good electrons\")\n",
    "    df = df.Define(\"Dielectron_mass\", \n",
    "                   \"InvariantMass(Electron_pt[GoodElectrons], Electron_eta[GoodElectrons], Electron_phi[GoodElectrons], Electron_mass[GoodElectrons])\")\n",
    "    df = df.Filter(\"(Dielectron_mass<111) && (Dielectron_mass>71)\",\"Z mass cut\")\n",
    "    \n",
    "    return df"
   ]
  },
  {
   "cell_type": "code",
   "execution_count": 5,
   "id": "cd6770a5",
   "metadata": {},
   "outputs": [],
   "source": [
    "df = ROOT.RDataFrame(\"Events\", '/eos/cms/store/group/phys_egamma/akapoor/ChargeMisID/newsamples/*.root')"
   ]
  },
  {
   "cell_type": "code",
   "execution_count": 6,
   "id": "e711e9cc",
   "metadata": {},
   "outputs": [
    {
     "name": "stderr",
     "output_type": "stream",
     "text": [
      "Warning in <TClass::Init>: no dictionary for class edm::ProcessHistory is available\n",
      "Warning in <TClass::Init>: no dictionary for class edm::ProcessConfiguration is available\n",
      "Warning in <TClass::Init>: no dictionary for class edm::ParameterSetBlob is available\n",
      "Warning in <TClass::Init>: no dictionary for class edm::Hash<1> is available\n",
      "Warning in <TClass::Init>: no dictionary for class pair<edm::Hash<1>,edm::ParameterSetBlob> is available\n"
     ]
    }
   ],
   "source": [
    "dfsel=selection_2el2mu(df)"
   ]
  },
  {
   "cell_type": "code",
   "execution_count": 7,
   "id": "1690b218",
   "metadata": {},
   "outputs": [],
   "source": [
    "report = dfsel.Report()"
   ]
  },
  {
   "cell_type": "code",
   "execution_count": 8,
   "id": "cef3da76",
   "metadata": {},
   "outputs": [
    {
     "name": "stdout",
     "output_type": "stream",
     "text": [
      "Exactly two electrons: pass=145074     all=861432     -- eff=16.84 % cumulative eff=16.84 %\n",
      "Exactly two good electrons: pass=55759      all=145074     -- eff=38.43 % cumulative eff=6.47 %\n",
      "Z mass cut: pass=52426      all=55759      -- eff=94.02 % cumulative eff=6.09 %\n"
     ]
    }
   ],
   "source": [
    "report.Print()"
   ]
  },
  {
   "cell_type": "code",
   "execution_count": 9,
   "id": "7e54bca9",
   "metadata": {},
   "outputs": [],
   "source": [
    "h1 = dfsel.Filter(\"Sum(Electron_charge)==0\", \"Two OS\").Histo1D((\"Dielectron_mass\", \"Dielectron_mass;m_{ee} (GeV);Events\", 300, 71, 111), \"Dielectron_mass\")\n",
    "h2 = dfsel.Histo1D((\"Dielectron_mass_all\", \"Dielectron_mass;m_{ee} (GeV);Events\", 300, 71, 111), \"Dielectron_mass\")"
   ]
  },
  {
   "cell_type": "code",
   "execution_count": 11,
   "id": "662aa71a",
   "metadata": {},
   "outputs": [],
   "source": [
    "ROOT.gStyle.SetOptStat(0); ROOT.gStyle.SetTextFont(42)\n",
    "c = ROOT.TCanvas(\"c\", \"\", 800, 700)\n",
    "c.SetLogy()\n",
    " \n",
    "h1.SetTitle(\"\")\n",
    "h1.GetXaxis().SetTitleSize(0.04)\n",
    "h1.GetYaxis().SetTitleSize(0.04)\n",
    "h1.Draw(\"\")"
   ]
  },
  {
   "cell_type": "code",
   "execution_count": 12,
   "id": "6882e463",
   "metadata": {},
   "outputs": [
    {
     "name": "stderr",
     "output_type": "stream",
     "text": [
      "Info in <TCanvas::Print>: pdf file dielectron_spectrum.pdf has been created\n"
     ]
    }
   ],
   "source": [
    "c.SaveAs(\"dielectron_spectrum.pdf\")"
   ]
  },
  {
   "cell_type": "code",
   "execution_count": 13,
   "id": "d2ea34fc",
   "metadata": {},
   "outputs": [],
   "source": [
    "dfos=dfsel.Filter(\"Sum(Electron_charge)==0\", \"Two OS\")"
   ]
  },
  {
   "cell_type": "code",
   "execution_count": 14,
   "id": "8b911ecd",
   "metadata": {},
   "outputs": [],
   "source": [
    "report = dfos.Report()"
   ]
  },
  {
   "cell_type": "code",
   "execution_count": 15,
   "id": "13590051",
   "metadata": {},
   "outputs": [
    {
     "name": "stdout",
     "output_type": "stream",
     "text": [
      "Exactly two electrons: pass=145074     all=861432     -- eff=16.84 % cumulative eff=16.84 %\n",
      "Exactly two good electrons: pass=55759      all=145074     -- eff=38.43 % cumulative eff=6.47 %\n",
      "Z mass cut: pass=52426      all=55759      -- eff=94.02 % cumulative eff=6.09 %\n",
      "Two OS    : pass=51748      all=52426      -- eff=98.71 % cumulative eff=6.01 %\n"
     ]
    }
   ],
   "source": [
    "report.Print()"
   ]
  },
  {
   "cell_type": "code",
   "execution_count": null,
   "id": "e7b76806",
   "metadata": {},
   "outputs": [],
   "source": []
  },
  {
   "cell_type": "code",
   "execution_count": null,
   "id": "b863184e",
   "metadata": {},
   "outputs": [],
   "source": []
  }
 ],
 "metadata": {
  "kernelspec": {
   "display_name": "Python 3",
   "language": "python",
   "name": "python3"
  },
  "language_info": {
   "codemirror_mode": {
    "name": "ipython",
    "version": 3
   },
   "file_extension": ".py",
   "mimetype": "text/x-python",
   "name": "python",
   "nbconvert_exporter": "python",
   "pygments_lexer": "ipython3",
   "version": "3.9.6"
  }
 },
 "nbformat": 4,
 "nbformat_minor": 5
}
