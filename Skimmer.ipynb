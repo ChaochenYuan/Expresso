{
 "cells": [
  {
   "cell_type": "code",
   "execution_count": 1,
   "id": "2837a7dd",
   "metadata": {},
   "outputs": [
    {
     "name": "stdout",
     "output_type": "stream",
     "text": [
      "Defaulting to user installation because normal site-packages is not writeable\n",
      "Requirement already satisfied: correctionlib in /eos/home-a/akapoor/.local/lib/python3.8/site-packages (2.1.0)\n",
      "Requirement already satisfied: rich in /eos/home-a/akapoor/.local/lib/python3.8/site-packages (from correctionlib) (11.0.0)\n",
      "Requirement already satisfied: numpy>=1.13.3 in /cvmfs/sft.cern.ch/lcg/views/LCG_100/x86_64-centos7-gcc8-opt/lib/python3.8/site-packages (from correctionlib) (1.18.2)\n",
      "Requirement already satisfied: pydantic>=1.7.3 in /eos/home-a/akapoor/.local/lib/python3.8/site-packages (from correctionlib) (1.9.0)\n",
      "Requirement already satisfied: typing-extensions>=3.7.4.3 in /cvmfs/sft.cern.ch/lcg/views/LCG_100/x86_64-centos7-gcc8-opt/lib/python3.8/site-packages (from pydantic>=1.7.3->correctionlib) (3.7.4.3)\n",
      "Requirement already satisfied: colorama<0.5.0,>=0.4.0 in /eos/home-a/akapoor/.local/lib/python3.8/site-packages (from rich->correctionlib) (0.4.4)\n",
      "Requirement already satisfied: commonmark<0.10.0,>=0.9.0 in /eos/home-a/akapoor/.local/lib/python3.8/site-packages (from rich->correctionlib) (0.9.1)\n",
      "Collecting pygments<3.0.0,>=2.6.0\n",
      "  Using cached Pygments-2.11.2-py3-none-any.whl (1.1 MB)\n",
      "Installing collected packages: pygments\n",
      "\u001b[33m  WARNING: The script pygmentize is installed in '/eos/user/a/akapoor/.local/bin' which is not on PATH.\n",
      "  Consider adding this directory to PATH or, if you prefer to suppress this warning, use --no-warn-script-location.\u001b[0m\n",
      "\u001b[31mERROR: pip's dependency resolver does not currently take into account all the packages that are installed. This behaviour is the source of the following dependency conflicts.\n",
      "sphinx 3.4.3 requires sphinxcontrib-applehelp, which is not installed.\n",
      "sphinx 3.4.3 requires sphinxcontrib-devhelp, which is not installed.\n",
      "sphinx 3.4.3 requires sphinxcontrib-htmlhelp, which is not installed.\n",
      "sphinx 3.4.3 requires sphinxcontrib-jsmath, which is not installed.\n",
      "sphinx 3.4.3 requires sphinxcontrib-qthelp, which is not installed.\n",
      "sphinx 3.4.3 requires sphinxcontrib-serializinghtml, which is not installed.\n",
      "jupyter-server 1.9.0 requires requests-unixsocket, which is not installed.\n",
      "jupyter-server 1.9.0 requires jupyter_client>=6.1.1, but you have jupyter-client 5.3.4 which is incompatible.\n",
      "jupyter-server 1.9.0 requires terminado>=0.8.3, but you have terminado 0.8.2 which is incompatible.\n",
      "jupyter-server 1.9.0 requires tornado>=6.1.0, but you have tornado 5.1.1 which is incompatible.\u001b[0m\n",
      "Successfully installed pygments-2.11.2\n"
     ]
    },
    {
     "name": "stderr",
     "output_type": "stream",
     "text": [
      "mkdir: cannot create directory ‘Output’: File exists\n"
     ]
    },
    {
     "data": {
      "text/plain": [
       "256"
      ]
     },
     "execution_count": 1,
     "metadata": {},
     "output_type": "execute_result"
    }
   ],
   "source": [
    "import argparse\n",
    "import os\n",
    "\n",
    "if hasattr(__builtins__,'__IPYTHON__'):\n",
    "    !export PATH=\"/eos/user/a/akapoor/.local/bin/:$PATH\"\n",
    "    !source BashTools.sh\n",
    "    sysName='DY'\n",
    "    sysfiles='/eos/cms/store/group/phys_egamma/akapoor/ChargeMisID/newsamples2/06544C90-EFDF-E811-80E6-842B2B6F5D5C.root'\n",
    "    saveRootFile=True\n",
    "    outfolder='Output'\n",
    "    outsuffix='1'\n",
    "    debugprint=True\n",
    "    analysis='Analyses/TTH'\n",
    "    multithreaded=False\n",
    "    xsec=1.00\n",
    "    istype='mc'\n",
    "    #!python3 -m pip install correctionlib\n",
    "    path = '/eos/user/a/akapoor/.local/bin'\n",
    "    os.environ['PATH'] += ':'+path\n",
    "    #branchlist=\"(ChargeFlip_Category|MyElectron_pt)\"\n",
    "else:\n",
    "    parser = argparse.ArgumentParser(description='Options for the analyzer')\n",
    "    parser.add_argument('--name', metavar='n', action='store', type=str,help='short name of the physics process/Data sample', required=True)\n",
    "    parser.add_argument('--file', metavar='f', action='store', type=str,help='location of files',required=True)\n",
    "    parser.add_argument('--saveroot',action='store_true', help='save root file',default=False)\n",
    "    parser.add_argument('--debugprint',action='store_true', help='print analysis settings for debug',default=False)\n",
    "    parser.add_argument('--outfolder', metavar='of', action='store', type=str,help='location of output',default='Output',required=True)\n",
    "    parser.add_argument('--outsuffix', metavar='os', action='store', type=str,help='suffix to recognize job',default='Output')\n",
    "    parser.add_argument('--analysis', metavar='ana', action='store', type=str,help='Folder name that has analysis configs',default='Output',required=True)\n",
    "    parser.add_argument('--multithreaded', action='store_true', help='mt',default=False)\n",
    "    parser.add_argument('--xsec', metavar='xsec', action='store', type=float, help='xsec',default=1,required=True )\n",
    "    parser.add_argument('--istype', metavar='istype', action='store', type=str, help='data or mc',default='mc',required=True )\n",
    "    #parser.add_argument('--branchlist', metavar='bl', action='store', type=str,help='branches to store in skim',default=\"(MyElectron_eta|MyElectron_pt)\")\n",
    "    args = parser.parse_args()\n",
    "    \n",
    "    sysName=str(args.name)\n",
    "    sysfiles=str(args.file)\n",
    "    saveRootFile=args.saveroot\n",
    "    outfolder=str(args.outfolder)\n",
    "    outsuffix=str(args.outsuffix)\n",
    "    analysis=str(args.analysis)\n",
    "    debugprint=args.debugprint\n",
    "    multithreaded=args.multithreaded\n",
    "    xsec=args.xsec\n",
    "    istype=args.istype\n",
    "    #branchlist=str(args.branchlist)\n",
    "\n",
    "os.system(\"mkdir \"+outfolder)"
   ]
  },
  {
   "cell_type": "code",
   "execution_count": 2,
   "id": "d558c6dc",
   "metadata": {},
   "outputs": [
    {
     "name": "stdout",
     "output_type": "stream",
     "text": [
      "Welcome to JupyROOT 6.24/06\n"
     ]
    }
   ],
   "source": [
    "import ROOT\n",
    "if multithreaded:\n",
    "    ROOT.ROOT.EnableImplicitMT()\n",
    "\n",
    "#ROOT.gROOT.ProcessLine(\".L /correctionlib/correctionlib/include/_core.cpython-38-x86_64-linux-gnu.so\");\n",
    "#ROOT.gSystem.Load('_core.cpython-38-x86_64-linux-gnu.so')\n",
    "ROOT.gInterpreter.AddIncludePath(\"./include/modules/\");\n",
    "#ROOT.gInterpreter.AddIncludePath(\"./correctionlib/correctionlib/include/\");"
   ]
  },
  {
   "cell_type": "code",
   "execution_count": 3,
   "id": "c11b967e",
   "metadata": {},
   "outputs": [],
   "source": [
    "import glob\n",
    "modules = [os.path.basename(x) for x in glob.glob('./include/modules/*.h')]"
   ]
  },
  {
   "cell_type": "code",
   "execution_count": 4,
   "id": "f5e846bb",
   "metadata": {},
   "outputs": [
    {
     "data": {
      "text/plain": [
       "['GenerateDecayTime.h', 'Helper.h']"
      ]
     },
     "execution_count": 4,
     "metadata": {},
     "output_type": "execute_result"
    }
   ],
   "source": [
    "modules"
   ]
  },
  {
   "cell_type": "code",
   "execution_count": 5,
   "id": "a3826281",
   "metadata": {},
   "outputs": [],
   "source": [
    "for mo in modules:\n",
    "    ROOT.gInterpreter.ProcessLine('#include \"'+mo+'\"')\n",
    "#ROOT.gInterpreter.ProcessLine('#include \"correction.h\"')\n",
    "\n",
    "from include.PyHelper import *"
   ]
  },
  {
   "cell_type": "code",
   "execution_count": 6,
   "id": "e78dfe05",
   "metadata": {},
   "outputs": [],
   "source": [
    "import yaml\n",
    "ObjectCutsFile=analysis+\"/ObjectCuts.yaml\"\n",
    "DefinitionsFile=analysis+\"/Definitions.yaml\"\n",
    "SelectionsFile=analysis+\"/Selections.yaml\"\n",
    "BranchesToSaveFile=analysis+\"/BranchesToSave.yaml\"\n",
    "WeightConfig=analysis+\"/WeightConfig.yaml\"\n",
    "ApplyWeights=analysis+\"/ApplyWeights.yaml\"\n",
    "\n",
    "ObjectCuts = yaml.safe_load(open(ObjectCutsFile, 'r'))\n",
    "Definitions = yaml.safe_load(open(DefinitionsFile, 'r'))\n",
    "Selections = yaml.safe_load(open(SelectionsFile, 'r'))\n",
    "BranchesToSave = yaml.safe_load(open(BranchesToSaveFile, 'r'))\n",
    "WeightConfig = yaml.safe_load(open(WeightConfig, 'r'))\n",
    "ApplyWeights = yaml.safe_load(open(ApplyWeights, 'r'))"
   ]
  },
  {
   "cell_type": "code",
   "execution_count": 7,
   "id": "4b7ddf80",
   "metadata": {},
   "outputs": [],
   "source": [
    "def listtostdvector(mylist):\n",
    "    mynewList = ROOT.std.vector('std::string')()\n",
    "    for element in mylist:\n",
    "        mynewList.push_back(element)\n",
    "    return mynewList"
   ]
  },
  {
   "cell_type": "code",
   "execution_count": null,
   "id": "58ba718e",
   "metadata": {},
   "outputs": [],
   "source": [
    "\n"
   ]
  },
  {
   "cell_type": "code",
   "execution_count": null,
   "id": "0139650e",
   "metadata": {},
   "outputs": [],
   "source": []
  },
  {
   "cell_type": "code",
   "execution_count": 8,
   "id": "1d3ecd2d",
   "metadata": {},
   "outputs": [
    {
     "ename": "ModuleNotFoundError",
     "evalue": "No module named 'correctionlib'",
     "output_type": "error",
     "traceback": [
      "\u001b[0;31m---------------------------------------------------------------------------\u001b[0m",
      "\u001b[0;31mModuleNotFoundError\u001b[0m                       Traceback (most recent call last)",
      "\u001b[0;32m/tmp/ipykernel_2149/2075173414.py\u001b[0m in \u001b[0;36m<module>\u001b[0;34m\u001b[0m\n\u001b[0;32m----> 1\u001b[0;31m \u001b[0;32mimport\u001b[0m \u001b[0mcorrectionlib\u001b[0m\u001b[0;34m\u001b[0m\u001b[0;34m\u001b[0m\u001b[0m\n\u001b[0m\u001b[1;32m      2\u001b[0m \u001b[0mcorrectionlib\u001b[0m\u001b[0;34m.\u001b[0m\u001b[0mregister_pyroot_binding\u001b[0m\u001b[0;34m(\u001b[0m\u001b[0;34m)\u001b[0m\u001b[0;34m\u001b[0m\u001b[0;34m\u001b[0m\u001b[0m\n\u001b[1;32m      3\u001b[0m \u001b[0;34m\u001b[0m\u001b[0m\n\u001b[1;32m      4\u001b[0m \u001b[0mAna\u001b[0m\u001b[0;34m=\u001b[0m \u001b[0mMyAnalyzer\u001b[0m\u001b[0;34m(\u001b[0m\u001b[0;34m)\u001b[0m\u001b[0;34m\u001b[0m\u001b[0;34m\u001b[0m\u001b[0m\n\u001b[1;32m      5\u001b[0m \u001b[0;32mfor\u001b[0m \u001b[0mkey\u001b[0m \u001b[0;32min\u001b[0m \u001b[0mObjectCuts\u001b[0m\u001b[0;34m.\u001b[0m\u001b[0mkeys\u001b[0m\u001b[0;34m(\u001b[0m\u001b[0;34m)\u001b[0m\u001b[0;34m:\u001b[0m\u001b[0;34m\u001b[0m\u001b[0;34m\u001b[0m\u001b[0m\n",
      "\u001b[0;32m/cvmfs/sft.cern.ch/lcg/views/LCG_101swan/x86_64-centos7-gcc8-opt/lib/ROOT/_facade.py\u001b[0m in \u001b[0;36m_importhook\u001b[0;34m(name, *args, **kwds)\u001b[0m\n\u001b[1;32m    148\u001b[0m                 \u001b[0;32mexcept\u001b[0m \u001b[0mException\u001b[0m\u001b[0;34m:\u001b[0m\u001b[0;34m\u001b[0m\u001b[0;34m\u001b[0m\u001b[0m\n\u001b[1;32m    149\u001b[0m                     \u001b[0;32mpass\u001b[0m\u001b[0;34m\u001b[0m\u001b[0;34m\u001b[0m\u001b[0m\n\u001b[0;32m--> 150\u001b[0;31m             \u001b[0;32mreturn\u001b[0m \u001b[0m_orig_ihook\u001b[0m\u001b[0;34m(\u001b[0m\u001b[0mname\u001b[0m\u001b[0;34m,\u001b[0m \u001b[0;34m*\u001b[0m\u001b[0margs\u001b[0m\u001b[0;34m,\u001b[0m \u001b[0;34m**\u001b[0m\u001b[0mkwds\u001b[0m\u001b[0;34m)\u001b[0m\u001b[0;34m\u001b[0m\u001b[0;34m\u001b[0m\u001b[0m\n\u001b[0m\u001b[1;32m    151\u001b[0m         \u001b[0m__builtin__\u001b[0m\u001b[0;34m.\u001b[0m\u001b[0m__import__\u001b[0m \u001b[0;34m=\u001b[0m \u001b[0m_importhook\u001b[0m\u001b[0;34m\u001b[0m\u001b[0;34m\u001b[0m\u001b[0m\n\u001b[1;32m    152\u001b[0m \u001b[0;34m\u001b[0m\u001b[0m\n",
      "\u001b[0;31mModuleNotFoundError\u001b[0m: No module named 'correctionlib'"
     ]
    }
   ],
   "source": [
    "import correctionlib\n",
    "correctionlib.register_pyroot_binding()\n",
    "\n",
    "Ana= MyAnalyzer()\n",
    "for key in ObjectCuts.keys():\n",
    "    exec(f'{key}mask=ObjectMask()')\n",
    "    for cut in ObjectCuts[key]:\n",
    "        exec(f'{key}mask.addcut(\"{cut}\")')\n",
    "    exec(f'mask={key}mask.mask')\n",
    "    exec(f'Ana.definition(\"{key}\",{key}mask.mask)')\n",
    "for key in Definitions.keys():\n",
    "    Ana.definition(key,Definitions[key])\n",
    "for key in Selections.keys():\n",
    "    Ana.sel(key,Selections[key])\n",
    "for corr in WeightConfig:\n",
    "    ROOT.gInterpreter.Declare(corr)\n",
    "for key in ApplyWeights:\n",
    "    Ana.definition(key,ApplyWeights[key])\n",
    "    \n",
    "    \n",
    "processname=sysName\n",
    "processdict={'Files':sysfiles,'Type':istype,'Tree':'Events','Xsec':xsec}\n",
    "Ana.process(processname,processdict)\n"
   ]
  },
  {
   "cell_type": "code",
   "execution_count": null,
   "id": "cada756f",
   "metadata": {},
   "outputs": [],
   "source": [
    "Total=Ana.prepare()"
   ]
  },
  {
   "cell_type": "code",
   "execution_count": null,
   "id": "c3ac538a",
   "metadata": {},
   "outputs": [],
   "source": [
    "DF=Ana.PD[sysName]['RDF']"
   ]
  },
  {
   "cell_type": "code",
   "execution_count": null,
   "id": "6f3975bb",
   "metadata": {},
   "outputs": [],
   "source": []
  },
  {
   "cell_type": "code",
   "execution_count": null,
   "id": "58432a89",
   "metadata": {},
   "outputs": [],
   "source": [
    "import json\n",
    "if debugprint:\n",
    "    \n",
    "    print('---------------------------------------------------')\n",
    "    print('---------------------------------------------------')\n",
    "    print('Dumping the analysis graph')\n",
    "    print('---------------------------------------------------')\n",
    "    print('---------------------------------------------------')\n",
    "    print(f'Object Mask Cuts from {ObjectCutsFile}')\n",
    "    print(json.dumps(ObjectCuts, indent=3))\n",
    "    print('---------------------------------------------------')\n",
    "    print('---------------------------------------------------')\n",
    "    print(f'All the definitions from {DefinitionsFile}')\n",
    "    print(json.dumps(Definitions, indent=3))\n",
    "    print('---------------------------------------------------')\n",
    "    print('---------------------------------------------------')\n",
    "    print(f'All the Event Selections from {SelectionsFile}')\n",
    "    print(json.dumps(Selections, indent=3))\n",
    "    print('---------------------------------------------------')\n",
    "    print('---------------------------------------------------')\n",
    "    print(f'Sample information provided as options')\n",
    "    print(json.dumps(processdict, indent=3))\n",
    "    print('---------------------------------------------------')\n",
    "    print('---------------------------------------------------')\n",
    "    print(f'Branches to save taken from {BranchesToSaveFile}')\n",
    "    print(json.dumps(BranchesToSave, indent=3))\n",
    "    print('---------------------------------------------------')\n",
    "    print('---------------------------------------------------')\n",
    "    if not hasattr(__builtins__,'__IPYTHON__'):\n",
    "        print('Skimmer options used')\n",
    "        print(args)\n",
    "    print('---------------------------------------------------')\n",
    "    print('---------------------------------------------------')"
   ]
  },
  {
   "cell_type": "code",
   "execution_count": null,
   "id": "7a75e83f",
   "metadata": {},
   "outputs": [],
   "source": [
    "#DF.Display({\"event\",\"elpt\",\"eldeepjet\"}).Print()\n",
    "cutflow=DF.Report()\n",
    "Final=DF.Count()\n",
    "\n",
    "hleadElSF = DF.Histo1D(\"leadElSF\")"
   ]
  },
  {
   "cell_type": "code",
   "execution_count": null,
   "id": "0a0fa2bf",
   "metadata": {},
   "outputs": [],
   "source": [
    "print('Saving the Action Graph')\n",
    "ROOT.RDF.SaveGraph(cutflow, f'{outfolder}/ActionGraph.dot')\n",
    "from graphviz import render\n",
    "render('dot', 'png', f'{outfolder}/ActionGraph.dot')"
   ]
  },
  {
   "cell_type": "code",
   "execution_count": null,
   "id": "b0fd619d",
   "metadata": {},
   "outputs": [],
   "source": [
    "import sys\n",
    "if saveRootFile:\n",
    "    #BRS=BranchesToSave.replace(\" \", \"\")\n",
    "    outfilenow=outfolder+\"/output_\"+outsuffix+\".root\"\n",
    "    snapshot=DF.Snapshot(\"Events\",outfilenow,listtostdvector(BranchesToSave))\n",
    "    #fdf=DF.Snapshot(\"Events\",outfilenow,f\"{BRS}\")\n",
    "    #if debugprint:\n",
    "    cutflow.Print()\n",
    "    #sys.stdout = open(outfolder+\"/CutFlow.csv\", \"a\")\n",
    "    #print(f'{sysfiles}' + \"\\n\")\n",
    "    \n",
    "    #sys.stdout.close()\n",
    "    TotalEvents=Total.GetValue()\n",
    "    FinalEvents=Final.GetValue()\n",
    "    with open(outfolder+\"/Info.csv\", \"a\") as text_file:\n",
    "            #print(driver.current_url)\n",
    "            text_file.write(f'{sysfiles}, {istype}, {xsec}, {FinalEvents}, {TotalEvents}, {round((FinalEvents*100)/TotalEvents,2)}%, {outfilenow}' + \"\\n\")"
   ]
  },
  {
   "cell_type": "code",
   "execution_count": null,
   "id": "a45c3179",
   "metadata": {},
   "outputs": [],
   "source": []
  },
  {
   "cell_type": "code",
   "execution_count": null,
   "id": "9e683736",
   "metadata": {},
   "outputs": [],
   "source": [
    "if saveRootFile:\n",
    "    f = ROOT.TFile(outfilenow,\"update\")\n",
    "    hleadElSF.Write()\n",
    "    f.Close()"
   ]
  },
  {
   "cell_type": "code",
   "execution_count": null,
   "id": "5d086abb",
   "metadata": {},
   "outputs": [],
   "source": []
  },
  {
   "cell_type": "code",
   "execution_count": null,
   "id": "800e737b",
   "metadata": {},
   "outputs": [],
   "source": []
  },
  {
   "cell_type": "code",
   "execution_count": null,
   "id": "99486171",
   "metadata": {},
   "outputs": [],
   "source": []
  },
  {
   "cell_type": "code",
   "execution_count": null,
   "id": "7003d784",
   "metadata": {},
   "outputs": [],
   "source": []
  },
  {
   "cell_type": "code",
   "execution_count": null,
   "id": "3233d862",
   "metadata": {},
   "outputs": [],
   "source": []
  },
  {
   "cell_type": "code",
   "execution_count": null,
   "id": "f803546c",
   "metadata": {},
   "outputs": [],
   "source": []
  },
  {
   "cell_type": "code",
   "execution_count": null,
   "id": "8797cdb1",
   "metadata": {},
   "outputs": [],
   "source": []
  },
  {
   "cell_type": "code",
   "execution_count": null,
   "id": "6566607f",
   "metadata": {},
   "outputs": [],
   "source": []
  }
 ],
 "metadata": {
  "kernelspec": {
   "display_name": "Python 3",
   "language": "python",
   "name": "python3"
  },
  "language_info": {
   "codemirror_mode": {
    "name": "ipython",
    "version": 3
   },
   "file_extension": ".py",
   "mimetype": "text/x-python",
   "name": "python",
   "nbconvert_exporter": "python",
   "pygments_lexer": "ipython3",
   "version": "3.9.6"
  }
 },
 "nbformat": 4,
 "nbformat_minor": 5
}
