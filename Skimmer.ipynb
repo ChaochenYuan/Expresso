{
 "cells": [
  {
   "cell_type": "code",
   "execution_count": 1,
   "id": "2837a7dd",
   "metadata": {},
   "outputs": [
    {
     "name": "stderr",
     "output_type": "stream",
     "text": [
      "mkdir: cannot create directory ‘Output’: File exists\n"
     ]
    },
    {
     "data": {
      "text/plain": [
       "256"
      ]
     },
     "execution_count": 1,
     "metadata": {},
     "output_type": "execute_result"
    }
   ],
   "source": [
    "import argparse\n",
    "import os\n",
    "\n",
    "if hasattr(__builtins__,'__IPYTHON__'):\n",
    "    \n",
    "    sysName='DY'\n",
    "    sysfiles='/eos/cms/store/group/phys_egamma/akapoor/ChargeMisID/newsamples2/06544C90-EFDF-E811-80E6-842B2B6F5D5C.root'\n",
    "    saveRootFile=True\n",
    "    outfolder='Output'\n",
    "    outsuffix='1'\n",
    "    debugprint=True\n",
    "    analysis='TTH'\n",
    "    multithreaded=True\n",
    "    xsec=1.00\n",
    "    istype='mc'\n",
    "    #branchlist=\"(ChargeFlip_Category|MyElectron_pt)\"\n",
    "else:\n",
    "    parser = argparse.ArgumentParser(description='Options for the analyzer')\n",
    "    parser.add_argument('--name', metavar='n', action='store', type=str,help='short name of the physics process/Data sample', required=True)\n",
    "    parser.add_argument('--file', metavar='f', action='store', type=str,help='location of files',required=True)\n",
    "    parser.add_argument('--saveroot',action='store_true', help='save root file',default=False)\n",
    "    parser.add_argument('--debugprint',action='store_true', help='print analysis settings for debug',default=False)\n",
    "    parser.add_argument('--outfolder', metavar='of', action='store', type=str,help='location of output',default='Output',required=True)\n",
    "    parser.add_argument('--outsuffix', metavar='os', action='store', type=str,help='suffix to recognize job',default='Output')\n",
    "    parser.add_argument('--analysis', metavar='ana', action='store', type=str,help='Folder name that has analysis configs',default='Output',required=True)\n",
    "    parser.add_argument('--multithreaded', action='store_true', help='save root file',default=False,required=True )\n",
    "    parser.add_argument('--xsec', metavar='xsec', action='store', type=float, help='xsec',default=1,required=True )\n",
    "    parser.add_argument('--istype', metavar='istype', action='store', type=str, help='data or mc',default='mc',required=True )\n",
    "    #parser.add_argument('--branchlist', metavar='bl', action='store', type=str,help='branches to store in skim',default=\"(MyElectron_eta|MyElectron_pt)\")\n",
    "    args = parser.parse_args()\n",
    "    \n",
    "    sysName=str(args.name)\n",
    "    sysfiles=str(args.file)\n",
    "    saveRootFile=args.saveroot\n",
    "    outfolder=str(args.outfolder)\n",
    "    outsuffix=str(args.outsuffix)\n",
    "    analysis=str(args.analysis)\n",
    "    debugprint=args.debugprint\n",
    "    multithreaded=args.multithreaded\n",
    "    xsec=args.xsec\n",
    "    istype=args.istype\n",
    "    #branchlist=str(args.branchlist)\n",
    "\n",
    "os.system(\"mkdir \"+outfolder)"
   ]
  },
  {
   "cell_type": "code",
   "execution_count": 2,
   "id": "a3826281",
   "metadata": {},
   "outputs": [
    {
     "name": "stdout",
     "output_type": "stream",
     "text": [
      "Welcome to JupyROOT 6.24/06\n"
     ]
    },
    {
     "name": "stderr",
     "output_type": "stream",
     "text": [
      "Warning in <RTaskArenaWrapper>: CPU Bandwith Control Active. Proceeding with 4 threads accordingly\n"
     ]
    }
   ],
   "source": [
    "import ROOT\n",
    "if multithreaded:\n",
    "    ROOT.ROOT.EnableImplicitMT()\n",
    "\n",
    "ROOT.gInterpreter.AddIncludePath(\"./include/\");\n",
    "ROOT.gInterpreter.ProcessLine('#include \"Helper.h\"')\n",
    "from include.PyHelper import *"
   ]
  },
  {
   "cell_type": "code",
   "execution_count": 3,
   "id": "0139650e",
   "metadata": {},
   "outputs": [],
   "source": [
    "import yaml\n",
    "ObjectCutsFile=analysis+\"/ObjectCuts.yaml\"\n",
    "DefinitionsFile=analysis+\"/Definitions.yaml\"\n",
    "SelectionsFile=analysis+\"/Selections.yaml\"\n",
    "BranchesToSaveFile=analysis+\"/BranchesToSave.yaml\"\n",
    "\n",
    "ObjectCuts = yaml.safe_load(open(ObjectCutsFile, 'r'))\n",
    "Definitions = yaml.safe_load(open(DefinitionsFile, 'r'))\n",
    "Selections = yaml.safe_load(open(SelectionsFile, 'r'))\n",
    "BranchesToSave = yaml.safe_load(open(BranchesToSaveFile, 'r'))"
   ]
  },
  {
   "cell_type": "code",
   "execution_count": 4,
   "id": "1d3ecd2d",
   "metadata": {},
   "outputs": [],
   "source": [
    "Ana= MyAnalyzer()\n",
    "for key in ObjectCuts.keys():\n",
    "    exec(f'{key}mask=ObjectMask()')\n",
    "    for cut in ObjectCuts[key]:\n",
    "        exec(f'{key}mask.addcut(\"{cut}\")')\n",
    "    exec(f'mask={key}mask.mask')\n",
    "    exec(f'Ana.definition(\"{key}\",{key}mask.mask)')\n",
    "for key in Definitions.keys():\n",
    "    Ana.definition(key,Definitions[key])\n",
    "for key in Selections.keys():\n",
    "    Ana.sel(key,Selections[key])\n",
    "    \n",
    "    \n",
    "processname=sysName\n",
    "processdict={'Files':sysfiles,'Type':istype,'Tree':'Events','Xsec':xsec}\n",
    "Ana.process(processname,processdict)"
   ]
  },
  {
   "cell_type": "code",
   "execution_count": 5,
   "id": "cada756f",
   "metadata": {},
   "outputs": [
    {
     "name": "stderr",
     "output_type": "stream",
     "text": [
      "Warning in <TClass::Init>: no dictionary for class edm::ProcessHistory is available\n",
      "Warning in <TClass::Init>: no dictionary for class edm::ProcessConfiguration is available\n",
      "Warning in <TClass::Init>: no dictionary for class edm::ParameterSetBlob is available\n",
      "Warning in <TClass::Init>: no dictionary for class edm::Hash<1> is available\n",
      "Warning in <TClass::Init>: no dictionary for class pair<edm::Hash<1>,edm::ParameterSetBlob> is available\n"
     ]
    }
   ],
   "source": [
    "Total=Ana.prepare()"
   ]
  },
  {
   "cell_type": "code",
   "execution_count": 6,
   "id": "6f3975bb",
   "metadata": {},
   "outputs": [],
   "source": [
    "DF=Ana.PD[sysName]['RDF']"
   ]
  },
  {
   "cell_type": "code",
   "execution_count": 7,
   "id": "58432a89",
   "metadata": {},
   "outputs": [
    {
     "name": "stdout",
     "output_type": "stream",
     "text": [
      "---------------------------------------------------\n",
      "---------------------------------------------------\n",
      "Dumping the analysis graph\n",
      "---------------------------------------------------\n",
      "---------------------------------------------------\n",
      "Object Mask Cuts from TTH/ObjectCuts.yaml\n",
      "{\n",
      "   \"GoodElectrons\": [\n",
      "      \"Electron_pt > 10\",\n",
      "      \"Electron_sieie<(0.011+0.019*(abs(Electron_eta+Electron_deltaEtaSC)>1.479))\",\n",
      "      \"abs(Electron_dxy)< 0.05\",\n",
      "      \"abs(Electron_dz)< 0.1\",\n",
      "      \"Electron_mvaTTH > 0.8\",\n",
      "      \"Electron_hoe<0.1\",\n",
      "      \"Electron_eInvMinusPInv>-0.04\",\n",
      "      \"Electron_sip3d<8\",\n",
      "      \"Electron_convVeto\",\n",
      "      \"Electron_miniPFRelIso_all<0.40\",\n",
      "      \"Electron_lostHits==0\"\n",
      "   ]\n",
      "}\n",
      "---------------------------------------------------\n",
      "---------------------------------------------------\n",
      "All the definitions from TTH/Definitions.yaml\n",
      "{\n",
      "   \"Nel\": \"Sum(GoodElectrons)\",\n",
      "   \"elpt\": \"Take(Electron_pt[GoodElectrons], Reverse(Argsort(Electron_pt[GoodElectrons])))\",\n",
      "   \"eleta\": \"Take(Electron_eta[GoodElectrons], Reverse(Argsort(Electron_pt[GoodElectrons])))\",\n",
      "   \"elphi\": \"Take(Electron_phi[GoodElectrons], Reverse(Argsort(Electron_pt[GoodElectrons])))\",\n",
      "   \"elmass\": \"Take(Electron_mass[GoodElectrons], Reverse(Argsort(Electron_pt[GoodElectrons])))\",\n",
      "   \"elcharge\": \"Take(Electron_charge[GoodElectrons], Reverse(Argsort(Electron_pt[GoodElectrons])))\",\n",
      "   \"elgenPartIdx\": \"Take(Electron_genPartIdx[GoodElectrons], Reverse(Argsort(Electron_pt[GoodElectrons])))\",\n",
      "   \"eltightCharge\": \"Take(Electron_tightCharge[GoodElectrons],Reverse(Argsort(Electron_pt[GoodElectrons])))\",\n",
      "   \"eljetIdx\": \"Take(Electron_jetIdx[GoodElectrons], Reverse(Argsort(Electron_pt[GoodElectrons])))\",\n",
      "   \"eldeepjet\": \"Varbutindices(Jet_btagDeepFlavB,eljetIdx)\",\n",
      "   \"Dielectron_mass\": \"ComputeInvariantMass(elpt, eleta, elphi, elmass)\",\n",
      "   \"ChargeFlip_Category\": \"((elpt.size()>1) ? ChargeFlip_Category(elpt[0],elpt[1],eleta[0],eleta[1]):-999)\"\n",
      "}\n",
      "---------------------------------------------------\n",
      "---------------------------------------------------\n",
      "All the Event Selections from TTH/Selections.yaml\n",
      "{\n",
      "   \"Sum(GoodElectrons) == 2\": \"Two or more good electrons\",\n",
      "   \"(eldeepjet[0]<0.3033 && eldeepjet[1]<0.3033 && eldeepjet[0]>-999 && eldeepjet[1]>-999)\": \"DeepJet cuts on ele\",\n",
      "   \"(Dielectron_mass<121) && (Dielectron_mass>61)\": \"Z mass cut\",\n",
      "   \"((Sum(GoodElectrons) >1) ? DeltaR(eleta[0],elphi[0],eleta[1],elphi[1]):0)>0.4\": \"DeltaR cut\",\n",
      "   \"Flag_goodVertices && Flag_globalSuperTightHalo2016Filter && Flag_HBHENoiseFilter\": \"Quality1\",\n",
      "   \"Flag_HBHENoiseIsoFilter && Flag_EcalDeadCellTriggerPrimitiveFilter && Flag_BadPFMuonFilter\": \"Quality3\"\n",
      "}\n",
      "---------------------------------------------------\n",
      "---------------------------------------------------\n",
      "Sample information provided as options\n",
      "{\n",
      "   \"Files\": \"/eos/cms/store/group/phys_egamma/akapoor/ChargeMisID/newsamples2/06544C90-EFDF-E811-80E6-842B2B6F5D5C.root\",\n",
      "   \"Type\": \"mc\",\n",
      "   \"Tree\": \"Events\",\n",
      "   \"Xsec\": 1.0\n",
      "}\n",
      "---------------------------------------------------\n",
      "---------------------------------------------------\n",
      "Branches to save taken from TTH/BranchesToSave.yaml\n",
      "\"NGoodElectrons| ChargeFlip_Category| elpt| eleta| elphi| elmass| elcharge| Dielectron_mass|\"\n",
      "---------------------------------------------------\n",
      "---------------------------------------------------\n",
      "---------------------------------------------------\n",
      "---------------------------------------------------\n",
      "Saving the Action Chart\n"
     ]
    }
   ],
   "source": [
    "import json\n",
    "if debugprint:\n",
    "    \n",
    "    print('---------------------------------------------------')\n",
    "    print('---------------------------------------------------')\n",
    "    print('Dumping the analysis graph')\n",
    "    print('---------------------------------------------------')\n",
    "    print('---------------------------------------------------')\n",
    "    print(f'Object Mask Cuts from {ObjectCutsFile}')\n",
    "    print(json.dumps(ObjectCuts, indent=3))\n",
    "    print('---------------------------------------------------')\n",
    "    print('---------------------------------------------------')\n",
    "    print(f'All the definitions from {DefinitionsFile}')\n",
    "    print(json.dumps(Definitions, indent=3))\n",
    "    print('---------------------------------------------------')\n",
    "    print('---------------------------------------------------')\n",
    "    print(f'All the Event Selections from {SelectionsFile}')\n",
    "    print(json.dumps(Selections, indent=3))\n",
    "    print('---------------------------------------------------')\n",
    "    print('---------------------------------------------------')\n",
    "    print(f'Sample information provided as options')\n",
    "    print(json.dumps(processdict, indent=3))\n",
    "    print('---------------------------------------------------')\n",
    "    print('---------------------------------------------------')\n",
    "    print(f'Branches to save taken from {BranchesToSaveFile}')\n",
    "    print(json.dumps(BranchesToSave, indent=3))\n",
    "    print('---------------------------------------------------')\n",
    "    print('---------------------------------------------------')\n",
    "    if not hasattr(__builtins__,'__IPYTHON__'):\n",
    "        print('Skimmer options used')\n",
    "        print(args)\n",
    "    print('---------------------------------------------------')\n",
    "    print('---------------------------------------------------')"
   ]
  },
  {
   "cell_type": "code",
   "execution_count": 14,
   "id": "7a75e83f",
   "metadata": {},
   "outputs": [],
   "source": [
    "#DF.Display({\"event\",\"elpt\",\"eldeepjet\"}).Print()\n",
    "cutflow=DF.Report()\n",
    "Final=DF.Count()"
   ]
  },
  {
   "cell_type": "code",
   "execution_count": 16,
   "id": "0a0fa2bf",
   "metadata": {},
   "outputs": [
    {
     "name": "stdout",
     "output_type": "stream",
     "text": [
      "Saving the Action Graph\n"
     ]
    },
    {
     "data": {
      "text/plain": [
       "'Output/ActionGraph.dot.png'"
      ]
     },
     "execution_count": 16,
     "metadata": {},
     "output_type": "execute_result"
    }
   ],
   "source": [
    "print('Saving the Action Graph')\n",
    "ROOT.RDF.SaveGraph(cutflow, f'{outfolder}/ActionGraph.dot')\n",
    "from graphviz import render\n",
    "render('dot', 'png', f'{outfolder}/ActionGraph.dot')"
   ]
  },
  {
   "cell_type": "code",
   "execution_count": null,
   "id": "b0fd619d",
   "metadata": {},
   "outputs": [],
   "source": [
    "import sys\n",
    "if saveRootFile:\n",
    "    BRS=BranchesToSave.replace(\" \", \"\")\n",
    "    outfilenow=outfolder+\"/output_\"+outsuffix+\".root\"\n",
    "    snapshot=DF.Snapshot(\"Events\",outfilenow,f\"{BRS}\")\n",
    "    #fdf=DF.Snapshot(\"Events\",outfilenow,f\"{BRS}\")\n",
    "    #if debugprint:\n",
    "    cutflow.Print()\n",
    "    #sys.stdout = open(outfolder+\"/CutFlow.csv\", \"a\")\n",
    "    #print(f'{sysfiles}' + \"\\n\")\n",
    "    \n",
    "    #sys.stdout.close()\n",
    "    TotalEvents=Total.GetValue()\n",
    "    FinalEvents=Final.GetValue()\n",
    "    with open(outfolder+\"/Info.csv\", \"a\") as text_file:\n",
    "            #print(driver.current_url)\n",
    "            text_file.write(f'{sysfiles}, {istype}, {xsec}, {FinalEvents}, {TotalEvents}, {round((FinalEvents*100)/TotalEvents,2)}%, {outfilenow}' + \"\\n\")"
   ]
  },
  {
   "cell_type": "code",
   "execution_count": null,
   "id": "5d086abb",
   "metadata": {},
   "outputs": [],
   "source": []
  },
  {
   "cell_type": "code",
   "execution_count": null,
   "id": "800e737b",
   "metadata": {},
   "outputs": [],
   "source": []
  },
  {
   "cell_type": "code",
   "execution_count": null,
   "id": "99486171",
   "metadata": {},
   "outputs": [],
   "source": []
  },
  {
   "cell_type": "code",
   "execution_count": null,
   "id": "7003d784",
   "metadata": {},
   "outputs": [],
   "source": []
  },
  {
   "cell_type": "code",
   "execution_count": null,
   "id": "3233d862",
   "metadata": {},
   "outputs": [],
   "source": []
  },
  {
   "cell_type": "code",
   "execution_count": null,
   "id": "f803546c",
   "metadata": {},
   "outputs": [],
   "source": []
  },
  {
   "cell_type": "code",
   "execution_count": null,
   "id": "8797cdb1",
   "metadata": {},
   "outputs": [],
   "source": []
  }
 ],
 "metadata": {
  "kernelspec": {
   "display_name": "Python 3",
   "language": "python",
   "name": "python3"
  },
  "language_info": {
   "codemirror_mode": {
    "name": "ipython",
    "version": 3
   },
   "file_extension": ".py",
   "mimetype": "text/x-python",
   "name": "python",
   "nbconvert_exporter": "python",
   "pygments_lexer": "ipython3",
   "version": "3.9.6"
  }
 },
 "nbformat": 4,
 "nbformat_minor": 5
}
