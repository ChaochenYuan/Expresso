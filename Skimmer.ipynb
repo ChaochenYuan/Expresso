{
 "cells": [
  {
   "cell_type": "code",
   "execution_count": 1,
   "id": "2837a7dd",
   "metadata": {},
   "outputs": [
    {
     "data": {
      "text/plain": [
       "256"
      ]
     },
     "execution_count": 1,
     "metadata": {},
     "output_type": "execute_result"
    }
   ],
   "source": [
    "import argparse\n",
    "import os\n",
    "\n",
    "if hasattr(__builtins__,'__IPYTHON__'):\n",
    "    \n",
    "    sysName='DY'\n",
    "    sysfiles='/eos/cms/store/group/phys_egamma/akapoor/ChargeMisID/newsamples2/06544C90-EFDF-E811-80E6-842B2B6F5D5C.root'\n",
    "    saveRootFile=True\n",
    "    outfolder='Output'\n",
    "    outsuffix='1'\n",
    "    debugprint=True\n",
    "    analysis='TTH'\n",
    "    multithreaded=False\n",
    "    xsec=1.00\n",
    "    istype='mc'\n",
    "    #!python3 -m pip install correctionlib\n",
    "    path = '/eos/user/a/akapoor/.local/bin'\n",
    "    os.environ['PATH'] += ':'+path\n",
    "    #branchlist=\"(ChargeFlip_Category|MyElectron_pt)\"\n",
    "else:\n",
    "    parser = argparse.ArgumentParser(description='Options for the analyzer')\n",
    "    parser.add_argument('--name', metavar='n', action='store', type=str,help='short name of the physics process/Data sample', required=True)\n",
    "    parser.add_argument('--file', metavar='f', action='store', type=str,help='location of files',required=True)\n",
    "    parser.add_argument('--saveroot',action='store_true', help='save root file',default=False)\n",
    "    parser.add_argument('--debugprint',action='store_true', help='print analysis settings for debug',default=False)\n",
    "    parser.add_argument('--outfolder', metavar='of', action='store', type=str,help='location of output',default='Output',required=True)\n",
    "    parser.add_argument('--outsuffix', metavar='os', action='store', type=str,help='suffix to recognize job',default='Output')\n",
    "    parser.add_argument('--analysis', metavar='ana', action='store', type=str,help='Folder name that has analysis configs',default='Output',required=True)\n",
    "    parser.add_argument('--multithreaded', action='store_true', help='mt',default=False)\n",
    "    parser.add_argument('--xsec', metavar='xsec', action='store', type=float, help='xsec',default=1,required=True )\n",
    "    parser.add_argument('--istype', metavar='istype', action='store', type=str, help='data or mc',default='mc',required=True )\n",
    "    #parser.add_argument('--branchlist', metavar='bl', action='store', type=str,help='branches to store in skim',default=\"(MyElectron_eta|MyElectron_pt)\")\n",
    "    args = parser.parse_args()\n",
    "    \n",
    "    sysName=str(args.name)\n",
    "    sysfiles=str(args.file)\n",
    "    saveRootFile=args.saveroot\n",
    "    outfolder=str(args.outfolder)\n",
    "    outsuffix=str(args.outsuffix)\n",
    "    analysis=str(args.analysis)\n",
    "    debugprint=args.debugprint\n",
    "    multithreaded=args.multithreaded\n",
    "    xsec=args.xsec\n",
    "    istype=args.istype\n",
    "    #branchlist=str(args.branchlist)\n",
    "\n",
    "os.system(\"mkdir \"+outfolder)"
   ]
  },
  {
   "cell_type": "code",
   "execution_count": 2,
   "id": "a3826281",
   "metadata": {},
   "outputs": [
    {
     "name": "stdout",
     "output_type": "stream",
     "text": [
      "Welcome to JupyROOT 6.24/00\n"
     ]
    }
   ],
   "source": [
    "import ROOT\n",
    "if multithreaded:\n",
    "    ROOT.ROOT.EnableImplicitMT()\n",
    "\n",
    "#ROOT.gROOT.ProcessLine(\".L /correctionlib/correctionlib/include/_core.cpython-38-x86_64-linux-gnu.so\");\n",
    "#ROOT.gSystem.Load('_core.cpython-38-x86_64-linux-gnu.so')\n",
    "ROOT.gInterpreter.AddIncludePath(\"./include/\");\n",
    "#ROOT.gInterpreter.AddIncludePath(\"./correctionlib/correctionlib/include/\");\n",
    "ROOT.gInterpreter.ProcessLine('#include \"Helper.h\"')\n",
    "#ROOT.gInterpreter.ProcessLine('#include \"correction.h\"')\n",
    "\n",
    "from include.PyHelper import *"
   ]
  },
  {
   "cell_type": "code",
   "execution_count": 3,
   "id": "e78dfe05",
   "metadata": {},
   "outputs": [],
   "source": [
    "import yaml\n",
    "ObjectCutsFile=analysis+\"/ObjectCuts.yaml\"\n",
    "DefinitionsFile=analysis+\"/Definitions.yaml\"\n",
    "SelectionsFile=analysis+\"/Selections.yaml\"\n",
    "BranchesToSaveFile=analysis+\"/BranchesToSave.yaml\"\n",
    "WeightConfig=analysis+\"/WeightConfig.yaml\"\n",
    "ApplyWeights=analysis+\"/ApplyWeights.yaml\"\n",
    "\n",
    "ObjectCuts = yaml.safe_load(open(ObjectCutsFile, 'r'))\n",
    "Definitions = yaml.safe_load(open(DefinitionsFile, 'r'))\n",
    "Selections = yaml.safe_load(open(SelectionsFile, 'r'))\n",
    "BranchesToSave = yaml.safe_load(open(BranchesToSaveFile, 'r'))\n",
    "WeightConfig = yaml.safe_load(open(WeightConfig, 'r'))\n",
    "ApplyWeights = yaml.safe_load(open(ApplyWeights, 'r'))"
   ]
  },
  {
   "cell_type": "code",
   "execution_count": 4,
   "id": "4b7ddf80",
   "metadata": {},
   "outputs": [],
   "source": [
    "def listtostdvector(mylist):\n",
    "    mynewList = ROOT.std.vector('std::string')()\n",
    "    for element in mylist:\n",
    "        mynewList.push_back(element)\n",
    "    return mynewList"
   ]
  },
  {
   "cell_type": "code",
   "execution_count": null,
   "id": "58ba718e",
   "metadata": {},
   "outputs": [],
   "source": [
    "\n"
   ]
  },
  {
   "cell_type": "code",
   "execution_count": null,
   "id": "0139650e",
   "metadata": {},
   "outputs": [],
   "source": []
  },
  {
   "cell_type": "code",
   "execution_count": 5,
   "id": "1d3ecd2d",
   "metadata": {},
   "outputs": [
    {
     "name": "stderr",
     "output_type": "stream",
     "text": [
      "IncrementalExecutor::executeFunction: symbol '_ZN10correction13CorrectionSet9from_fileERKNSt7__cxx1112basic_stringIcSt11char_traitsIcESaIcEEE' unresolved while linking function '_GLOBAL__sub_I_cling_module_251'!\n",
      "You are probably missing the definition of correction::CorrectionSet::from_file(std::__cxx11::basic_string<char, std::char_traits<char>, std::allocator<char> > const&)\n",
      "Maybe you need to load the corresponding shared library?\n"
     ]
    }
   ],
   "source": [
    "import correctionlib\n",
    "correctionlib.register_pyroot_binding()\n",
    "\n",
    "Ana= MyAnalyzer()\n",
    "for key in ObjectCuts.keys():\n",
    "    exec(f'{key}mask=ObjectMask()')\n",
    "    for cut in ObjectCuts[key]:\n",
    "        exec(f'{key}mask.addcut(\"{cut}\")')\n",
    "    exec(f'mask={key}mask.mask')\n",
    "    exec(f'Ana.definition(\"{key}\",{key}mask.mask)')\n",
    "for key in Definitions.keys():\n",
    "    Ana.definition(key,Definitions[key])\n",
    "for key in Selections.keys():\n",
    "    Ana.sel(key,Selections[key])\n",
    "for corr in WeightConfig:\n",
    "    ROOT.gInterpreter.Declare(corr)\n",
    "for key in ApplyWeights:\n",
    "    Ana.definition(key,ApplyWeights[key])\n",
    "    \n",
    "    \n",
    "processname=sysName\n",
    "processdict={'Files':sysfiles,'Type':istype,'Tree':'Events','Xsec':xsec}\n",
    "Ana.process(processname,processdict)\n"
   ]
  },
  {
   "cell_type": "code",
   "execution_count": 6,
   "id": "cada756f",
   "metadata": {},
   "outputs": [
    {
     "ename": "runtime_error",
     "evalue": "Template method resolution failed:\n  ROOT::RDF::RInterface<ROOT::Detail::RDF::RLoopManager,void> ROOT::RDF::RInterface<ROOT::Detail::RDF::RLoopManager,void>::Define(basic_string_view<char,char_traits<char> > name, basic_string_view<char,char_traits<char> > expression) =>\n    runtime_error: branch \"Muon_pt\" already present in TTree\n  ROOT::RDF::RInterface<ROOT::Detail::RDF::RLoopManager,void> ROOT::RDF::RInterface<ROOT::Detail::RDF::RLoopManager,void>::Define(basic_string_view<char,char_traits<char> > name, basic_string_view<char,char_traits<char> > expression) =>\n    runtime_error: branch \"Muon_pt\" already present in TTree\n  ROOT::RDF::RInterface<ROOT::Detail::RDF::RLoopManager,void> ROOT::RDF::RInterface<ROOT::Detail::RDF::RLoopManager,void>::Define(basic_string_view<char,char_traits<char> > name, basic_string_view<char,char_traits<char> > expression) =>\n    runtime_error: branch \"Muon_pt\" already present in TTree",
     "output_type": "error",
     "traceback": [
      "\u001b[0;31m---------------------------------------------------------------------------\u001b[0m",
      "\u001b[0;31mruntime_error\u001b[0m                             Traceback (most recent call last)",
      "\u001b[0;32m<ipython-input-6-4ae3a8f023a8>\u001b[0m in \u001b[0;36m<module>\u001b[0;34m\u001b[0m\n\u001b[0;32m----> 1\u001b[0;31m \u001b[0mTotal\u001b[0m\u001b[0;34m=\u001b[0m\u001b[0mAna\u001b[0m\u001b[0;34m.\u001b[0m\u001b[0mprepare\u001b[0m\u001b[0;34m(\u001b[0m\u001b[0;34m)\u001b[0m\u001b[0;34m\u001b[0m\u001b[0;34m\u001b[0m\u001b[0m\n\u001b[0m",
      "\u001b[0;32m/eos/home-a/akapoor/SWAN_projects/ChargeMisID_ttH/FlatAnalyzer/include/PyHelper.py\u001b[0m in \u001b[0;36mprepare\u001b[0;34m(self)\u001b[0m\n\u001b[1;32m    168\u001b[0m             \u001b[0mE\u001b[0m\u001b[0;34m=\u001b[0m\u001b[0mdf\u001b[0m\u001b[0;34m.\u001b[0m\u001b[0mCount\u001b[0m\u001b[0;34m(\u001b[0m\u001b[0;34m)\u001b[0m\u001b[0;34m\u001b[0m\u001b[0;34m\u001b[0m\u001b[0m\n\u001b[1;32m    169\u001b[0m             \u001b[0;32mfor\u001b[0m \u001b[0mdefine\u001b[0m \u001b[0;32min\u001b[0m \u001b[0mDefinitions\u001b[0m\u001b[0;34m.\u001b[0m\u001b[0mkeys\u001b[0m\u001b[0;34m(\u001b[0m\u001b[0;34m)\u001b[0m\u001b[0;34m:\u001b[0m\u001b[0;34m\u001b[0m\u001b[0;34m\u001b[0m\u001b[0m\n\u001b[0;32m--> 170\u001b[0;31m                 \u001b[0mdf\u001b[0m \u001b[0;34m=\u001b[0m \u001b[0mdf\u001b[0m\u001b[0;34m.\u001b[0m\u001b[0mDefine\u001b[0m\u001b[0;34m(\u001b[0m\u001b[0mdefine\u001b[0m\u001b[0;34m,\u001b[0m\u001b[0mDefinitions\u001b[0m\u001b[0;34m[\u001b[0m\u001b[0mdefine\u001b[0m\u001b[0;34m]\u001b[0m\u001b[0;34m)\u001b[0m\u001b[0;34m\u001b[0m\u001b[0;34m\u001b[0m\u001b[0m\n\u001b[0m\u001b[1;32m    171\u001b[0m             \u001b[0;32mfor\u001b[0m \u001b[0malias\u001b[0m \u001b[0;32min\u001b[0m \u001b[0mAliases\u001b[0m\u001b[0;34m.\u001b[0m\u001b[0mkeys\u001b[0m\u001b[0;34m(\u001b[0m\u001b[0;34m)\u001b[0m\u001b[0;34m:\u001b[0m\u001b[0;34m\u001b[0m\u001b[0;34m\u001b[0m\u001b[0m\n\u001b[1;32m    172\u001b[0m                 \u001b[0mdf\u001b[0m \u001b[0;34m=\u001b[0m \u001b[0mdf\u001b[0m\u001b[0;34m.\u001b[0m\u001b[0mAlias\u001b[0m\u001b[0;34m(\u001b[0m\u001b[0malias\u001b[0m\u001b[0;34m,\u001b[0m\u001b[0mAliases\u001b[0m\u001b[0;34m[\u001b[0m\u001b[0malias\u001b[0m\u001b[0;34m]\u001b[0m\u001b[0;34m)\u001b[0m\u001b[0;34m\u001b[0m\u001b[0;34m\u001b[0m\u001b[0m\n",
      "\u001b[0;31mruntime_error\u001b[0m: Template method resolution failed:\n  ROOT::RDF::RInterface<ROOT::Detail::RDF::RLoopManager,void> ROOT::RDF::RInterface<ROOT::Detail::RDF::RLoopManager,void>::Define(basic_string_view<char,char_traits<char> > name, basic_string_view<char,char_traits<char> > expression) =>\n    runtime_error: branch \"Muon_pt\" already present in TTree\n  ROOT::RDF::RInterface<ROOT::Detail::RDF::RLoopManager,void> ROOT::RDF::RInterface<ROOT::Detail::RDF::RLoopManager,void>::Define(basic_string_view<char,char_traits<char> > name, basic_string_view<char,char_traits<char> > expression) =>\n    runtime_error: branch \"Muon_pt\" already present in TTree\n  ROOT::RDF::RInterface<ROOT::Detail::RDF::RLoopManager,void> ROOT::RDF::RInterface<ROOT::Detail::RDF::RLoopManager,void>::Define(basic_string_view<char,char_traits<char> > name, basic_string_view<char,char_traits<char> > expression) =>\n    runtime_error: branch \"Muon_pt\" already present in TTree"
     ]
    },
    {
     "name": "stderr",
     "output_type": "stream",
     "text": [
      "Warning in <TClass::Init>: no dictionary for class edm::ProcessHistory is available\n",
      "Warning in <TClass::Init>: no dictionary for class edm::ProcessConfiguration is available\n",
      "Warning in <TClass::Init>: no dictionary for class edm::ParameterSetBlob is available\n",
      "Warning in <TClass::Init>: no dictionary for class edm::Hash<1> is available\n",
      "Warning in <TClass::Init>: no dictionary for class pair<edm::Hash<1>,edm::ParameterSetBlob> is available\n"
     ]
    }
   ],
   "source": [
    "Total=Ana.prepare()"
   ]
  },
  {
   "cell_type": "code",
   "execution_count": null,
   "id": "c3ac538a",
   "metadata": {},
   "outputs": [],
   "source": [
    "DF=Ana.PD[sysName]['RDF']"
   ]
  },
  {
   "cell_type": "code",
   "execution_count": null,
   "id": "6f3975bb",
   "metadata": {},
   "outputs": [],
   "source": []
  },
  {
   "cell_type": "code",
   "execution_count": null,
   "id": "58432a89",
   "metadata": {},
   "outputs": [],
   "source": [
    "import json\n",
    "if debugprint:\n",
    "    \n",
    "    print('---------------------------------------------------')\n",
    "    print('---------------------------------------------------')\n",
    "    print('Dumping the analysis graph')\n",
    "    print('---------------------------------------------------')\n",
    "    print('---------------------------------------------------')\n",
    "    print(f'Object Mask Cuts from {ObjectCutsFile}')\n",
    "    print(json.dumps(ObjectCuts, indent=3))\n",
    "    print('---------------------------------------------------')\n",
    "    print('---------------------------------------------------')\n",
    "    print(f'All the definitions from {DefinitionsFile}')\n",
    "    print(json.dumps(Definitions, indent=3))\n",
    "    print('---------------------------------------------------')\n",
    "    print('---------------------------------------------------')\n",
    "    print(f'All the Event Selections from {SelectionsFile}')\n",
    "    print(json.dumps(Selections, indent=3))\n",
    "    print('---------------------------------------------------')\n",
    "    print('---------------------------------------------------')\n",
    "    print(f'Sample information provided as options')\n",
    "    print(json.dumps(processdict, indent=3))\n",
    "    print('---------------------------------------------------')\n",
    "    print('---------------------------------------------------')\n",
    "    print(f'Branches to save taken from {BranchesToSaveFile}')\n",
    "    print(json.dumps(BranchesToSave, indent=3))\n",
    "    print('---------------------------------------------------')\n",
    "    print('---------------------------------------------------')\n",
    "    if not hasattr(__builtins__,'__IPYTHON__'):\n",
    "        print('Skimmer options used')\n",
    "        print(args)\n",
    "    print('---------------------------------------------------')\n",
    "    print('---------------------------------------------------')"
   ]
  },
  {
   "cell_type": "code",
   "execution_count": null,
   "id": "7a75e83f",
   "metadata": {},
   "outputs": [],
   "source": [
    "#DF.Display({\"event\",\"elpt\",\"eldeepjet\"}).Print()\n",
    "cutflow=DF.Report()\n",
    "Final=DF.Count()\n",
    "\n",
    "hleadElSF = DF.Histo1D(\"leadElSF\")"
   ]
  },
  {
   "cell_type": "code",
   "execution_count": null,
   "id": "0a0fa2bf",
   "metadata": {},
   "outputs": [],
   "source": [
    "print('Saving the Action Graph')\n",
    "ROOT.RDF.SaveGraph(cutflow, f'{outfolder}/ActionGraph.dot')\n",
    "from graphviz import render\n",
    "render('dot', 'png', f'{outfolder}/ActionGraph.dot')"
   ]
  },
  {
   "cell_type": "code",
   "execution_count": null,
   "id": "b0fd619d",
   "metadata": {},
   "outputs": [],
   "source": [
    "import sys\n",
    "if saveRootFile:\n",
    "    #BRS=BranchesToSave.replace(\" \", \"\")\n",
    "    outfilenow=outfolder+\"/output_\"+outsuffix+\".root\"\n",
    "    snapshot=DF.Snapshot(\"Events\",outfilenow,listtostdvector(BranchesToSave))\n",
    "    #fdf=DF.Snapshot(\"Events\",outfilenow,f\"{BRS}\")\n",
    "    #if debugprint:\n",
    "    cutflow.Print()\n",
    "    #sys.stdout = open(outfolder+\"/CutFlow.csv\", \"a\")\n",
    "    #print(f'{sysfiles}' + \"\\n\")\n",
    "    \n",
    "    #sys.stdout.close()\n",
    "    TotalEvents=Total.GetValue()\n",
    "    FinalEvents=Final.GetValue()\n",
    "    with open(outfolder+\"/Info.csv\", \"a\") as text_file:\n",
    "            #print(driver.current_url)\n",
    "            text_file.write(f'{sysfiles}, {istype}, {xsec}, {FinalEvents}, {TotalEvents}, {round((FinalEvents*100)/TotalEvents,2)}%, {outfilenow}' + \"\\n\")"
   ]
  },
  {
   "cell_type": "code",
   "execution_count": null,
   "id": "a45c3179",
   "metadata": {},
   "outputs": [],
   "source": []
  },
  {
   "cell_type": "code",
   "execution_count": null,
   "id": "9e683736",
   "metadata": {},
   "outputs": [],
   "source": [
    "if saveRootFile:\n",
    "    f = ROOT.TFile(outfilenow,\"update\")\n",
    "    hleadElSF.Write()\n",
    "    f.Close()"
   ]
  },
  {
   "cell_type": "code",
   "execution_count": null,
   "id": "5d086abb",
   "metadata": {},
   "outputs": [],
   "source": []
  },
  {
   "cell_type": "code",
   "execution_count": null,
   "id": "800e737b",
   "metadata": {},
   "outputs": [],
   "source": []
  },
  {
   "cell_type": "code",
   "execution_count": null,
   "id": "99486171",
   "metadata": {},
   "outputs": [],
   "source": []
  },
  {
   "cell_type": "code",
   "execution_count": null,
   "id": "7003d784",
   "metadata": {},
   "outputs": [],
   "source": []
  },
  {
   "cell_type": "code",
   "execution_count": null,
   "id": "3233d862",
   "metadata": {},
   "outputs": [],
   "source": []
  },
  {
   "cell_type": "code",
   "execution_count": null,
   "id": "f803546c",
   "metadata": {},
   "outputs": [],
   "source": []
  },
  {
   "cell_type": "code",
   "execution_count": null,
   "id": "8797cdb1",
   "metadata": {},
   "outputs": [],
   "source": []
  },
  {
   "cell_type": "code",
   "execution_count": null,
   "id": "6566607f",
   "metadata": {},
   "outputs": [],
   "source": []
  }
 ],
 "metadata": {
  "kernelspec": {
   "display_name": "Python 3",
   "language": "python",
   "name": "python3"
  },
  "language_info": {
   "codemirror_mode": {
    "name": "ipython",
    "version": 3
   },
   "file_extension": ".py",
   "mimetype": "text/x-python",
   "name": "python",
   "nbconvert_exporter": "python",
   "pygments_lexer": "ipython3",
   "version": "3.8.6"
  }
 },
 "nbformat": 4,
 "nbformat_minor": 5
}
