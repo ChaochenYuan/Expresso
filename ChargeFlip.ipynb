{
 "cells": [
  {
   "cell_type": "code",
   "execution_count": 1,
   "id": "d599328b",
   "metadata": {},
   "outputs": [],
   "source": [
    "files='/eos/cms/store/group/phys_egamma/akapoor/ChargeMisID/newsamples/*.root'"
   ]
  },
  {
   "cell_type": "code",
   "execution_count": 2,
   "id": "d748a249",
   "metadata": {},
   "outputs": [
    {
     "name": "stdout",
     "output_type": "stream",
     "text": [
      "Welcome to JupyROOT 6.24/00\n"
     ]
    }
   ],
   "source": [
    "import ROOT\n",
    "import os\n",
    "ROOT.gStyle.SetPalette(55)\n",
    "ROOT.gStyle.SetOptStat(0); \n",
    "ROOT.gStyle.SetTextFont(42)"
   ]
  },
  {
   "cell_type": "code",
   "execution_count": 3,
   "id": "7048c0a8",
   "metadata": {},
   "outputs": [],
   "source": [
    "#ROOT.ROOT.EnableImplicitMT()"
   ]
  },
  {
   "cell_type": "code",
   "execution_count": 4,
   "id": "702d46bc",
   "metadata": {},
   "outputs": [
    {
     "data": {
      "text/plain": [
       "True"
      ]
     },
     "execution_count": 4,
     "metadata": {},
     "output_type": "execute_result"
    }
   ],
   "source": [
    "#header_path = \"/eos/user/a/akapoor/SWAN_projects/ChargeMisID_ttH/ChargeFlipStudies/Analysis_python.h\"\n",
    " \n",
    "#ROOT.gInterpreter.Declare(f'#include <{header_path}>')\n",
    "\n",
    "ROOT.gInterpreter.Declare('''\n",
    "using Vec_t = const ROOT::RVec<float>&;\n",
    "float ComputeInvariantMass(Vec_t pt, Vec_t eta, Vec_t phi, Vec_t mass) {\n",
    "    const ROOT::Math::PtEtaPhiMVector p1(pt[0], eta[0], phi[0], mass[0]);\n",
    "    const ROOT::Math::PtEtaPhiMVector p2(pt[1], eta[1], phi[1], mass[1]);\n",
    "    return (p1 + p2).M();\n",
    "}\n",
    "float SumpT(Vec_t pt) {\n",
    "    return (pt[0] + pt[1]);\n",
    "}\n",
    "''')"
   ]
  },
  {
   "cell_type": "code",
   "execution_count": 12,
   "id": "65bcd9a7",
   "metadata": {},
   "outputs": [],
   "source": [
    "def selection_2el2mu(df):\n",
    "    #df = df.Filter(\"nElectron>=2\", \"Exactly two electrons\")\n",
    "    \n",
    "    df = df.Define(\"GoodElectrons\", \"(Electron_pt > 10) && (Electron_mvaTTH > 0.8) && (Electron_cutBased > 2)\")\n",
    "    df = df.Filter(\"Sum(GoodElectrons) >= 2\",\"Two or more good electrons\")\n",
    "    df = df.Define(\"MyElectron_pt\",\"Take(Electron_pt[GoodElectrons], Reverse(Argsort(Electron_pt[GoodElectrons])))\")\n",
    "    df = df.Define(\"MyElectron_eta\",\"Take(Electron_eta[GoodElectrons], Reverse(Argsort(Electron_pt[GoodElectrons])))\")\n",
    "    df = df.Define(\"MyElectron_phi\",\"Take(Electron_phi[GoodElectrons], Reverse(Argsort(Electron_pt[GoodElectrons])))\")\n",
    "    df = df.Define(\"MyElectron_mass\",\"Take(Electron_mass[GoodElectrons], Reverse(Argsort(Electron_pt[GoodElectrons])))\")\n",
    "    df = df.Define(\"NGoodElectrons\", \"Sum(GoodElectrons)\")\n",
    "    \n",
    "    df = df.Define(\"Dielectron_mass\", \n",
    "                   \"ComputeInvariantMass(Electron_pt[GoodElectrons], Electron_eta[GoodElectrons], Electron_phi[GoodElectrons], Electron_mass[GoodElectrons])\")\n",
    "    df = df.Filter(\"(Dielectron_mass<111) && (Dielectron_mass>71)\",\"Z mass cut\")\n",
    "    return df"
   ]
  },
  {
   "cell_type": "code",
   "execution_count": 13,
   "id": "cd6770a5",
   "metadata": {},
   "outputs": [],
   "source": [
    "df = ROOT.RDataFrame(\"Events\", files)"
   ]
  },
  {
   "cell_type": "code",
   "execution_count": 14,
   "id": "e711e9cc",
   "metadata": {},
   "outputs": [],
   "source": [
    "dfsel=selection_2el2mu(df)"
   ]
  },
  {
   "cell_type": "code",
   "execution_count": 15,
   "id": "1690b218",
   "metadata": {},
   "outputs": [],
   "source": [
    "report = dfsel.Report()"
   ]
  },
  {
   "cell_type": "code",
   "execution_count": 16,
   "id": "cef3da76",
   "metadata": {},
   "outputs": [
    {
     "name": "stdout",
     "output_type": "stream",
     "text": [
      "Two or more good electrons: pass=65604      all=861432     -- eff=7.62 % cumulative eff=7.62 %\n",
      "Z mass cut: pass=61576      all=65604      -- eff=93.86 % cumulative eff=7.15 %\n"
     ]
    }
   ],
   "source": [
    "report.Print()"
   ]
  },
  {
   "cell_type": "code",
   "execution_count": 17,
   "id": "7e54bca9",
   "metadata": {},
   "outputs": [
    {
     "name": "stdout",
     "output_type": "stream",
     "text": [
      "GoodElectron_phi | SortedElectron_pt | event   | SortedElectron_phi1 | SortedElectron_phi | \n",
      "0.665894f        | 40.4122f          | 8920873 | -2.34668f           | -2.34668f          | \n",
      "-2.34668f        | 37.5534f          |         | 0.665894f           | 0.665894f          | \n",
      "-0.153656f       | 43.4918f          | 8921218 | 3.10547f            | 3.10547f           | \n",
      "3.10547f         | 43.3920f          |         | -0.153656f          | -0.153656f         | \n",
      "-2.31250f        | 41.7973f          | 8921401 | 0.984619f           | 0.984619f          | \n",
      "0.984619f        | 41.6380f          |         | -2.31250f           | -2.31250f          | \n",
      "2.43213f         | 40.9938f          | 8921452 | -1.06494f           | -1.06494f          | \n",
      "-1.06494f        | 40.3808f          |         | 2.43213f            | 2.43213f           | \n",
      "1.83887f         | 39.0414f          | 8922504 | -1.27271f           | -1.27271f          | \n",
      "-1.27271f        | 38.7769f          |         | 1.83887f            | 1.83887f           | \n"
     ]
    }
   ],
   "source": [
    "dfsel.Filter(\"GoodElectron_pt[0] < GoodElectron_pt[1]\",\"Sorting Issue\").Display({\"event\",\"SortedElectron_pt\",\"GoodElectron_phi\",\"SortedElectron_phi\",\"SortedElectron_phi1\"}).Print()"
   ]
  },
  {
   "cell_type": "code",
   "execution_count": null,
   "id": "662aa71a",
   "metadata": {},
   "outputs": [],
   "source": [
    "def savehist(h=[],col=[],op=\"l\"):\n",
    "    \n",
    "    c = ROOT.TCanvas(\"c\", \"\", 800, 700)\n",
    "    \n",
    "    pad1 = ROOT.TPad(\"pad1\",\"pad1\",0,0.3,1,1);\n",
    "    pad1.SetBottomMargin(0)\n",
    "    pad1.Draw()\n",
    "    pad1.cd()\n",
    "    \n",
    "    legend=ROOT.TLegend(0.5,0.8,0.9,0.9)\n",
    "    \n",
    "    h[0].GetXaxis().SetTitleSize(0.04)\n",
    "    h[0].GetYaxis().SetTitleSize(0.02)\n",
    "    \n",
    "    h[0].SetLineColor(col[0])\n",
    "    h[0].Draw(\"hist\")\n",
    "    legend.AddEntry(h[0].GetName(), h[0].GetName(), op)\n",
    "    if len(h)>1:\n",
    "        for i,hi in enumerate(h):\n",
    "            if i!=0:\n",
    "                h[i].SetLineColor(col[i])\n",
    "                h[i].Draw(\"histsame\")\n",
    "                legend.AddEntry(h[i].GetName(), h[i].GetName(), op)\n",
    "    legend.Draw()\n",
    "    legend.SetTextSize(0.04)\n",
    "    #h[0].SetAxisRange(h[0].GetMinimum(), 0.2*h[0].GetMaximum(), \"Y\");\n",
    "    c.SaveAs((h[0].GetTitle())+\".pdf\")\n",
    "    \n",
    "    \n",
    "def savehistwithratio(h=[],col=[],op=\"l\"):\n",
    "    if len(h)!=2:\n",
    "        print(\"Only works with 2 hists\")\n",
    "        return 0;\n",
    "    h1=h[0].Clone()\n",
    "    h2=h[1].Clone()\n",
    "    c1 = ROOT.TCanvas(\"c1\",\"example\",600,700);\n",
    "    pad1 = ROOT.TPad(\"pad1\",\"pad1\",0,0.3,1,1);\n",
    "    pad1.SetBottomMargin(0);\n",
    "    pad1.Draw();\n",
    "    pad1.cd();\n",
    "    legend=ROOT.TLegend(0.5,0.8,0.9,0.9)\n",
    "    \n",
    "    h1.DrawCopy();\n",
    "    h1.SetLineColor(col[0])\n",
    "    legend.AddEntry(h1.GetName(), h1.GetName(), op)\n",
    "    h2.Draw(\"same\");\n",
    "    h2.SetLineColor(col[1])\n",
    "    legend.AddEntry(h2.GetName(), h2.GetName(), op)\n",
    "    legend.Draw()\n",
    "    legend.SetTextSize(0.04)\n",
    "    \n",
    "    c1.cd();\n",
    "    \n",
    "    pad2 = ROOT.TPad(\"pad2\",\"pad2\",0,0,1,0.3);\n",
    "    pad2.SetTopMargin(0);\n",
    "    pad2.Draw();\n",
    "    pad2.cd();\n",
    "    h1.Sumw2();\n",
    "    h1.SetStats(0);\n",
    "    h1.Divide(h2);\n",
    "    #h1.SetMarkerStyle(21);\n",
    "    h1.SetMarkerSize(1)\n",
    "    h1.Draw(\"text0 ep\");\n",
    "    c1.cd();\n",
    "    \n",
    "    c1.SaveAs((h[0].GetTitle())+\".pdf\")\n",
    "    \n",
    "    \n",
    "def savehistonlyratio(h=[],col=[],op=\"l\"):\n",
    "    ROOT.gStyle.SetPaintTextFormat(\"4.4f\");\n",
    "    if len(h)!=2:\n",
    "        print(\"Only works with 2 hists\")\n",
    "        return 0;\n",
    "    h1=h[0].Clone()\n",
    "    h2=h[1].Clone()\n",
    "    c1 = ROOT.TCanvas(\"c1\",\"example\",600,700);\n",
    "    legend=ROOT.TLegend(0.5,0.8,0.9,0.9)\n",
    "    \n",
    "    h1.Sumw2();\n",
    "    h1.SetStats(0);\n",
    "    h1.Divide(h2);\n",
    "    #h1.SetMarkerStyle(21);\n",
    "    h1.SetMarkerSize(1)\n",
    "    h1.Draw(\"text0 ep\");\n",
    "    c1.SaveAs((h[0].GetTitle())+\"_ratio.pdf\")"
   ]
  },
  {
   "cell_type": "code",
   "execution_count": null,
   "id": "6882e463",
   "metadata": {},
   "outputs": [],
   "source": []
  },
  {
   "cell_type": "code",
   "execution_count": null,
   "id": "d2ea34fc",
   "metadata": {},
   "outputs": [],
   "source": [
    "dfos=dfsel.Filter(\"Sum(Electron_charge)==0\", \"Two OS\")"
   ]
  },
  {
   "cell_type": "code",
   "execution_count": null,
   "id": "8b911ecd",
   "metadata": {},
   "outputs": [],
   "source": [
    "report = dfos.Report()"
   ]
  },
  {
   "cell_type": "code",
   "execution_count": null,
   "id": "13590051",
   "metadata": {},
   "outputs": [],
   "source": [
    "report.Print()"
   ]
  },
  {
   "cell_type": "code",
   "execution_count": null,
   "id": "e7b76806",
   "metadata": {},
   "outputs": [],
   "source": [
    "def BookHisto(df,Args,Branch):\n",
    "    return df.Histo1D(Args, Branch)"
   ]
  },
  {
   "cell_type": "code",
   "execution_count": null,
   "id": "b863184e",
   "metadata": {},
   "outputs": [],
   "source": [
    "h1 = dfsel.Filter(\"Sum(Electron_charge)==0\", \"Two OS\").Histo1D((\"Dielectron_mass_OS\", \"Dielectron_mass;m_{ee} (GeV);Events\", 300, 71, 111), \"Dielectron_mass\")\n",
    "h2 = dfsel.Histo1D((\"Dielectron_mass_all\", \"Dielectron_mass;m_{ee} (GeV);Events\", 300, 71, 111), \"Dielectron_mass\")\n",
    "\n",
    "hSumpT= BookHisto(dfos,(\"SumpT\", \"SumpT_OS;pT_{e1}+pT_{e2} (GeV);Events\", 1000, 0, 1000),\"SumpT\")\n",
    "hNel= BookHisto(dfos,(\"NGoodElectrons\", \"NGoodElectrons;N_{el} (GeV);Events\", 3, -0.5, 2.5),\"NGoodElectrons\")\n"
   ]
  },
  {
   "cell_type": "code",
   "execution_count": null,
   "id": "59a328e3",
   "metadata": {},
   "outputs": [],
   "source": []
  },
  {
   "cell_type": "code",
   "execution_count": null,
   "id": "81f1e4e3",
   "metadata": {},
   "outputs": [],
   "source": [
    "savehist([hSumpT,h1,h2],\n",
    "         [ROOT.kRed,ROOT.kBlue,ROOT.kGreen])\n",
    "\n",
    "savehist([hNel],\n",
    "         [ROOT.kRed])\n",
    "\n",
    "savehistwithratio([h1,h2],\n",
    "         [ROOT.kRed,ROOT.kBlue])"
   ]
  },
  {
   "cell_type": "code",
   "execution_count": null,
   "id": "c22c08b2",
   "metadata": {},
   "outputs": [],
   "source": [
    "dfos.Report().Print()"
   ]
  },
  {
   "cell_type": "code",
   "execution_count": null,
   "id": "8de70297",
   "metadata": {},
   "outputs": [],
   "source": [
    "dfsel=dfsel.Define(\"LeadingGoodElectronpT\", \"SortedElectron_pt[0]\")\n",
    "dfsel=dfsel.Define(\"SubLeadingGoodElectronpT\", \"SortedElectron_pt[1]\")\n",
    "\n",
    "h1 = dfsel.Filter(\"Sum(Electron_charge)!=0\", \"Two SS\").Histo1D((\"Electron_pt_SS\", \"Electron_pt;Electron_pt (GeV);Events\", 5, 0, 100), \"LeadingGoodElectronpT\")\n",
    "h2 = dfsel.Histo1D((\"Electron_pt_all\", \"Electron_pt;Electron_pt;Events\", 5, 0, 100), \"LeadingGoodElectronpT\")\n",
    "savehistonlyratio([h1,h2],\n",
    "                  [ROOT.kRed,ROOT.kBlue])\n",
    "\n",
    "h1 = dfsel.Filter(\"Sum(Electron_charge)!=0\", \"Two SS\").Histo1D((\"SubElectron_pt_SS\", \"SubElectron_pt;SubElectron_pt (GeV);Events\", 5, 0, 100), \"SubLeadingGoodElectronpT\")\n",
    "h2 = dfsel.Histo1D((\"SubElectron_pt_all\", \"SubElectron_pt;SubElectron_pt;Events\", 5, 0, 100), \"SubLeadingGoodElectronpT\")\n",
    "savehistonlyratio([h1,h2],\n",
    "                  [ROOT.kRed,ROOT.kBlue])\n",
    "\n",
    "\n",
    "\n",
    "savehistwithratio([dfsel.Histo1D((\"Electron_pt_all\", \"Electron_pt;Electron_pt;Events\", 5, 0, 100), \"LeadingGoodElectronpT\"),\n",
    "                   dfsel.Histo1D((\"SubElectron_pt_all\", \"SubElectron_pt;SubElectron_pt;Events\", 5, 0, 100), \"SubLeadingGoodElectronpT\")],\n",
    "                  [ROOT.kRed,ROOT.kBlue])"
   ]
  },
  {
   "cell_type": "code",
   "execution_count": null,
   "id": "d50e866f",
   "metadata": {},
   "outputs": [],
   "source": [
    "#import pandas\n",
    "#df=pandas.DataFrame(dfsel.AsNumpy())"
   ]
  },
  {
   "cell_type": "code",
   "execution_count": null,
   "id": "bb882018",
   "metadata": {},
   "outputs": [],
   "source": [
    "#df.head()"
   ]
  },
  {
   "cell_type": "code",
   "execution_count": null,
   "id": "4c77c177",
   "metadata": {},
   "outputs": [],
   "source": []
  },
  {
   "cell_type": "code",
   "execution_count": null,
   "id": "c1e89865",
   "metadata": {},
   "outputs": [],
   "source": []
  }
 ],
 "metadata": {
  "kernelspec": {
   "display_name": "Python 3",
   "language": "python",
   "name": "python3"
  },
  "language_info": {
   "codemirror_mode": {
    "name": "ipython",
    "version": 3
   },
   "file_extension": ".py",
   "mimetype": "text/x-python",
   "name": "python",
   "nbconvert_exporter": "python",
   "pygments_lexer": "ipython3",
   "version": "3.8.6"
  }
 },
 "nbformat": 4,
 "nbformat_minor": 5
}
