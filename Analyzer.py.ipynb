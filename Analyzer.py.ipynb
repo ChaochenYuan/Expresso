{
 "cells": [
  {
   "cell_type": "code",
   "execution_count": 1,
   "id": "0139650e",
   "metadata": {},
   "outputs": [
    {
     "name": "stdout",
     "output_type": "stream",
     "text": [
      "Welcome to JupyROOT 6.22/06\n"
     ]
    }
   ],
   "source": [
    "import ROOT\n",
    "ROOT.ROOT.EnableImplicitMT()\n",
    "ROOT.gInterpreter.AddIncludePath(\"./include/\");\n",
    "ROOT.gInterpreter.ProcessLine('#include \"Helper.h\"')\n",
    "from include.PyHelper import *"
   ]
  },
  {
   "cell_type": "code",
   "execution_count": 2,
   "id": "9d18408b",
   "metadata": {},
   "outputs": [],
   "source": [
    "Process={\"DY\":{'Files':'/eos/cms/store/group/phys_egamma/akapoor/ChargeMisID/newsamples2/*.root',\n",
    "               'Type':'Bkg','Tree':'Events',\n",
    "               'Xsec':1},\n",
    "        }\n",
    "\n",
    "\n",
    "Definitions={\n",
    "    #\"Electron_genmotherpid\":\"GenPart_pdgId[GenPart_genPartIdxMother[Electron_genPartIdx]]\",\n",
    "    #\"Electron_deepjetnearjet\":\"Jet_btagDeepFlavB[Electron_jetIdx]\",\n",
    "    \"GoodElectrons1\":\"(Electron_pt > 10) && ((Electron_sieie<0.011 && abs(Electron_eta)<=1.479) || (Electron_sieie<0.030 && abs(Electron_eta)>1.479))\",\n",
    "    \"GoodElectrons2\":\"(Electron_mvaTTH > 0.8) &&(abs(Electron_dxy)< 0.05) && (Electron_hoe<0.1)&&(Electron_eInvMinusPInv>-0.04) && (Electron_sip3d<8)\",\n",
    "    \"GoodElectrons3\":\"(abs(Electron_eta)< 1.479) && (Electron_convVeto) && (Electron_mvaFall17noIso_WPL==1) && (Electron_pfRelIso03_all < (0.4*Electron_pt)) && (Electron_lostHits==0)\",\n",
    "    \"GoodElectrons\":\"GoodElectrons1 && GoodElectrons2 && GoodElectrons3\",\n",
    "    \"NGoodElectrons\":\"Sum(GoodElectrons)\",\n",
    "    \"MyElectron_pt\":\"Take(Electron_pt[GoodElectrons], Reverse(Argsort(Electron_pt[GoodElectrons])))\",\n",
    "    \"MyElectron_eta\":\"Take(Electron_eta[GoodElectrons], Reverse(Argsort(Electron_pt[GoodElectrons])))\",\n",
    "    \"MyElectron_phi\":\"Take(Electron_phi[GoodElectrons], Reverse(Argsort(Electron_pt[GoodElectrons])))\",\n",
    "    \"MyElectron_mass\":\"Take(Electron_mass[GoodElectrons], Reverse(Argsort(Electron_pt[GoodElectrons])))\",\n",
    "    \"MyElectron_charge\":\"Take(Electron_charge[GoodElectrons], Reverse(Argsort(Electron_pt[GoodElectrons])))\",\n",
    "    \"MyElectron_genPartIdx\":\"Take(Electron_genPartIdx[GoodElectrons], Reverse(Argsort(Electron_pt[GoodElectrons])))\",\n",
    "    \"MyElectron_jetIdx\":\"Take(Electron_jetIdx[GoodElectrons], Reverse(Argsort(Electron_pt[GoodElectrons])))\",\n",
    "    \"MyElectron_pt1\":\"MyElectron_pt[0]\",\n",
    "    \"MyElectron_eta1\":\"MyElectron_eta[0]\",\n",
    "    \"MyElectron_phi1\":\"MyElectron_phi[0]\",\n",
    "    \"MyElectron_mass1\":\"MyElectron_mass[0]\",\n",
    "    \"MyElectron_charge1\":\"MyElectron_charge[0]\",\n",
    "    \"MyElectron_genPartIdx1\":\"MyElectron_genPartIdx[0]\",\n",
    "    \"MyElectron_jetIdx1\":\"MyElectron_jetIdx[0]\",\n",
    "    \"MyElectron_motherpid1\":\"GenPart_pdgId[GenPart_genPartIdxMother[MyElectron_genPartIdx1]]\",\n",
    "    \"MyElectron_deepjet1\":\"Jet_btagDeepFlavB[MyElectron_jetIdx1]\",\n",
    "    \"MyElectron_pt2\":\"MyElectron_pt[1]\",\n",
    "    \"MyElectron_eta2\":\"MyElectron_eta[1]\",\n",
    "    \"MyElectron_phi2\":\"MyElectron_phi[1]\",\n",
    "    \"MyElectron_mass2\":\"MyElectron_mass[1]\",\n",
    "    \"MyElectron_charge2\":\"MyElectron_charge[1]\",\n",
    "    \"MyElectron_genPartIdx2\":\"MyElectron_genPartIdx[1]\",\n",
    "    \"MyElectron_jetIdx2\":\"MyElectron_jetIdx[1]\",\n",
    "    \"MyElectron_motherpid2\":\"GenPart_pdgId[GenPart_genPartIdxMother[MyElectron_genPartIdx2]]\",\n",
    "    \"MyElectron_deepjet2\":\"Jet_btagDeepFlavB[MyElectron_jetIdx2]\",\n",
    "    \"Dielectron_mass\":\"ComputeInvariantMass(MyElectron_pt, MyElectron_eta, MyElectron_phi, MyElectron_mass)\",    \n",
    "}\n",
    "\n",
    "Aliases={\n",
    "    \"elpt\":\"MyElectron_pt\",\n",
    "    \"eleta\":\"MyElectron_eta\",\n",
    "    \"elphi\":\"MyElectron_phi\",\n",
    "    \"elmass\":\"MyElectron_mass\",\n",
    "    \"elq\":\"MyElectron_charge\",\n",
    "    \"elpt1\":\"MyElectron_pt1\",\n",
    "    \"eleta1\":\"MyElectron_eta1\",\n",
    "    \"elphi1\":\"MyElectron_phi1\",\n",
    "    \"elmass1\":\"MyElectron_mass1\",\n",
    "    \"elq1\":\"MyElectron_charge1\",\n",
    "    \"elpt2\":\"MyElectron_pt2\",\n",
    "    \"eleta2\":\"MyElectron_eta2\",\n",
    "    \"elphi2\":\"MyElectron_phi2\",\n",
    "    \"elmass2\":\"MyElectron_mass2\",\n",
    "    \"elq2\":\"MyElectron_charge2\",\n",
    "}\n",
    "\n",
    "Selections={\n",
    "    \"Sum(GoodElectrons) == 2\":\"Two or more good electrons\",\n",
    "    \"MyElectron_motherpid1==23 && MyElectron_motherpid2==23\":\"Come from Z\",\n",
    "    \"(MyElectron_deepjet1<0.3033) && (MyElectron_deepjet2<0.3033)\":\"DeepJet cuts on ele\",\n",
    "    \"(Dielectron_mass<121) && (Dielectron_mass>61)\":\"Z mass cut\",\n",
    "    \"Flag_goodVertices && Flag_globalSuperTightHalo2016Filter && Flag_HBHENoiseFilter\":\"Quality1\",\n",
    "    \"Flag_HBHENoiseIsoFilter && Flag_EcalDeadCellTriggerPrimitiveFilter && Flag_BadPFMuonFilter\":\"Quality2\",\n",
    "    \"Flag_HBHENoiseIsoFilter && Flag_EcalDeadCellTriggerPrimitiveFilter && Flag_BadPFMuonFilter\":\"Quality3\",\n",
    "}\n"
   ]
  },
  {
   "cell_type": "code",
   "execution_count": 3,
   "id": "4fc77f61",
   "metadata": {},
   "outputs": [],
   "source": [
    "ROOT.gStyle.SetOptStat(0)\n"
   ]
  },
  {
   "cell_type": "code",
   "execution_count": 4,
   "id": "6f3975bb",
   "metadata": {},
   "outputs": [
    {
     "name": "stderr",
     "output_type": "stream",
     "text": [
      "Warning in <TClass::Init>: no dictionary for class edm::ProcessHistory is available\n",
      "Warning in <TClass::Init>: no dictionary for class edm::ProcessConfiguration is available\n",
      "Warning in <TClass::Init>: no dictionary for class edm::ParameterSetBlob is available\n",
      "Warning in <TClass::Init>: no dictionary for class edm::Hash<1> is available\n",
      "Warning in <TClass::Init>: no dictionary for class pair<edm::Hash<1>,edm::ParameterSetBlob> is available\n"
     ]
    }
   ],
   "source": [
    "PDs=prepareevents(Process,Aliases,Definitions,Selections)"
   ]
  },
  {
   "cell_type": "code",
   "execution_count": 5,
   "id": "58432a89",
   "metadata": {},
   "outputs": [],
   "source": [
    "#for PD in PDs:\n",
    "#    PD['RDF'].Display({\"NGoodElectrons\",\"elpt\",\"MyElectron_pt\"}).Print()"
   ]
  },
  {
   "cell_type": "code",
   "execution_count": 6,
   "id": "0a0fa2bf",
   "metadata": {},
   "outputs": [],
   "source": [
    "#hMeeSS = PDs[0]['RDF'].Filter(\"(elq1+elq2)!=0\", \"Two SS\").Histo1D((\"Dielectron_mass_SS\", \"Dielectron_mass;m_{ee} (GeV);Events\", 10, 71, 111), \"Dielectron_mass\")\n",
    "#hMee = PDs[0]['RDF'].Histo1D((\"Dielectron_mass_all\", \"Dielectron_mass;m_{ee} (GeV);Events\", 10, 71, 111), \"Dielectron_mass\")\n",
    "\n",
    "\n",
    "#hemotherpid1 = PDs[0]['RDF'].Histo1D((\"MyElectron_motherpid1\", \"MyElectron_motherpid1;MyElectron_motherpid1;Events\", 50, -25, 25), \"MyElectron_motherpid1\")\n",
    "\n",
    "#helpt1SS = PDs[0]['RDF'].Filter(\"(elq1+elq2)!=0\", \"Two SS\").Histo1D((\"elpt1_SS\", \"elpt1;elpt1 (GeV);Events\", 5, 10, 100), \"elpt1\")\n",
    "#helpt1 = PDs[0]['RDF'].Histo1D((\"elpt1_all\", \"elpt1;elpt1 (GeV);Events\", 5, 10, 100), \"elpt1\")"
   ]
  },
  {
   "cell_type": "code",
   "execution_count": 7,
   "id": "e2b7595c",
   "metadata": {},
   "outputs": [],
   "source": [
    "#savehist([hMeeSS.Clone(),hMee.Clone()],[ROOT.kRed,ROOT.kBlue,ROOT.kGreen],norm=True)\n",
    "\n",
    "#savehist([hemotherpid1.Clone()],[ROOT.kRed,ROOT.kBlue,ROOT.kGreen])\n",
    "\n",
    "#savehistonlyratio([hMeeSS.Clone(),hMee.Clone()],[ROOT.kRed,ROOT.kBlue,ROOT.kGreen])"
   ]
  },
  {
   "cell_type": "code",
   "execution_count": 8,
   "id": "18e02caf",
   "metadata": {},
   "outputs": [],
   "source": [
    "#savehist([helpt1SS.Clone(),helpt1.Clone()],[ROOT.kRed,ROOT.kBlue,ROOT.kGreen],norm=True)\n",
    "#savehist([helpt1SS.Clone(),helpt1.Clone()],[ROOT.kRed,ROOT.kBlue,ROOT.kGreen])\n",
    "\n",
    "#savehistonlyratio([helpt1SS.Clone(),helpt1.Clone()],[ROOT.kRed,ROOT.kBlue,ROOT.kGreen])"
   ]
  },
  {
   "cell_type": "code",
   "execution_count": 9,
   "id": "a1c9fc9a",
   "metadata": {},
   "outputs": [],
   "source": [
    "#print(PDs[0]['RDF'].GetColumnNames())"
   ]
  },
  {
   "cell_type": "code",
   "execution_count": 10,
   "id": "2169bb93",
   "metadata": {},
   "outputs": [
    {
     "name": "stdout",
     "output_type": "stream",
     "text": [
      "Two or more good electrons: pass=206007     all=4621815    -- eff=4.46 % cumulative eff=4.46 %\n",
      "Come from Z: pass=59439      all=206007     -- eff=28.85 % cumulative eff=1.29 %\n",
      "DeepJet cuts on ele: pass=58892      all=59439      -- eff=99.08 % cumulative eff=1.27 %\n",
      "Z mass cut: pass=58609      all=58892      -- eff=99.52 % cumulative eff=1.27 %\n",
      "Quality1  : pass=58592      all=58609      -- eff=99.97 % cumulative eff=1.27 %\n",
      "Quality3  : pass=58569      all=58592      -- eff=99.96 % cumulative eff=1.27 %\n"
     ]
    }
   ],
   "source": [
    "PDs[0]['RDF'].Report().Print()"
   ]
  },
  {
   "cell_type": "code",
   "execution_count": 11,
   "id": "c0aaf8ea",
   "metadata": {},
   "outputs": [],
   "source": [
    "#PDs[0]['RDF'].Display({\"MyElectron_pt\",\"MyElectron_motherpid1\"}).Print()\n",
    "\n"
   ]
  },
  {
   "cell_type": "code",
   "execution_count": 12,
   "id": "141e7428",
   "metadata": {},
   "outputs": [],
   "source": [
    "GlobalRate=PDs[0]['RDF'].Filter(\"(elq1+elq2)!=0\", \"Two SS\").Count().GetValue() / PDs[0]['RDF'].Count().GetValue()"
   ]
  },
  {
   "cell_type": "code",
   "execution_count": 13,
   "id": "c1a1a3a2",
   "metadata": {},
   "outputs": [
    {
     "name": "stdout",
     "output_type": "stream",
     "text": [
      "The global rate is 0.461%\n"
     ]
    }
   ],
   "source": [
    "print(f\"The global rate is {round(GlobalRate*100,3)}%\")"
   ]
  },
  {
   "cell_type": "code",
   "execution_count": null,
   "id": "16366e2f",
   "metadata": {},
   "outputs": [],
   "source": []
  }
 ],
 "metadata": {
  "kernelspec": {
   "display_name": "Python 3",
   "language": "python",
   "name": "python3"
  },
  "language_info": {
   "codemirror_mode": {
    "name": "ipython",
    "version": 3
   },
   "file_extension": ".py",
   "mimetype": "text/x-python",
   "name": "python",
   "nbconvert_exporter": "python",
   "pygments_lexer": "ipython3",
   "version": "3.8.6"
  }
 },
 "nbformat": 4,
 "nbformat_minor": 5
}
