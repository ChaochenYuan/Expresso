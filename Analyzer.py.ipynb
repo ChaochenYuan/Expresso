{
 "cells": [
  {
   "cell_type": "code",
   "execution_count": 1,
   "id": "0139650e",
   "metadata": {},
   "outputs": [
    {
     "name": "stdout",
     "output_type": "stream",
     "text": [
      "Welcome to JupyROOT 6.24/00\n"
     ]
    },
    {
     "data": {
      "text/plain": [
       "True"
      ]
     },
     "execution_count": 1,
     "metadata": {},
     "output_type": "execute_result"
    }
   ],
   "source": [
    "import ROOT\n",
    "ROOT.ROOT.EnableImplicitMT()\n",
    "ROOT.gInterpreter.Declare('''\n",
    "using Vec_t = const ROOT::RVec<float>&;\n",
    "float ComputeInvariantMass(Vec_t pt, Vec_t eta, Vec_t phi, Vec_t mass) {\n",
    "    const ROOT::Math::PtEtaPhiMVector p1(pt[0], eta[0], phi[0], mass[0]);\n",
    "    const ROOT::Math::PtEtaPhiMVector p2(pt[1], eta[1], phi[1], mass[1]);\n",
    "    return (p1 + p2).M();\n",
    "}\n",
    "float SumpT(Vec_t pt) {\n",
    "    return (pt[0] + pt[1]);\n",
    "}\n",
    "\n",
    "float At(Vec_t pt,int n) {\n",
    "    return (pt[n]);\n",
    "}\n",
    "''')"
   ]
  },
  {
   "cell_type": "code",
   "execution_count": 2,
   "id": "9d18408b",
   "metadata": {},
   "outputs": [],
   "source": [
    "Process={\"DY\":{'Files':'/eos/cms/store/group/phys_egamma/akapoor/ChargeMisID/newsamples2/*.root',\n",
    "               'Type':'Bkg','Tree':'Events',\n",
    "               'Xsec':1},\n",
    "        }\n",
    "\n",
    "\n",
    "Definitions={\n",
    "    #\"Electron_genmotherpid\":\"GenPart_pdgId[GenPart_genPartIdxMother[Electron_genPartIdx]]\",\n",
    "    #\"Electron_deepjetnearjet\":\"Jet_btagDeepFlavB[Electron_jetIdx]\",\n",
    "    \"GoodElectrons1\":\"(Electron_pt > 10) && ((Electron_sieie<0.011 && abs(Electron_eta)<=1.479) || (Electron_sieie<0.030 && abs(Electron_eta)>1.479))\",\n",
    "    \"GoodElectrons2\":\"(Electron_mvaTTH > 0.8) &&(abs(Electron_dxy)< 0.05) && (Electron_hoe<0.1)&&(Electron_eInvMinusPInv>-0.04) && (Electron_sip3d<8)\",\n",
    "    \"GoodElectrons3\":\"(abs(Electron_eta)< 1.479) && (Electron_convVeto) && (Electron_mvaFall17noIso_WPL==1) && (Electron_pfRelIso03_all < (0.4*Electron_pt)) && (Electron_lostHits==0)\",\n",
    "    \"GoodElectrons\":\"GoodElectrons1 && GoodElectrons2 && GoodElectrons3\",\n",
    "    \"NGoodElectrons\":\"Sum(GoodElectrons)\",\n",
    "    \"MyElectron_pt\":\"Take(Electron_pt[GoodElectrons], Reverse(Argsort(Electron_pt[GoodElectrons])))\",\n",
    "    \"MyElectron_eta\":\"Take(Electron_eta[GoodElectrons], Reverse(Argsort(Electron_pt[GoodElectrons])))\",\n",
    "    \"MyElectron_phi\":\"Take(Electron_phi[GoodElectrons], Reverse(Argsort(Electron_pt[GoodElectrons])))\",\n",
    "    \"MyElectron_mass\":\"Take(Electron_mass[GoodElectrons], Reverse(Argsort(Electron_pt[GoodElectrons])))\",\n",
    "    \"MyElectron_charge\":\"Take(Electron_charge[GoodElectrons], Reverse(Argsort(Electron_pt[GoodElectrons])))\",\n",
    "    \"MyElectron_genPartIdx\":\"Take(Electron_genPartIdx[GoodElectrons], Reverse(Argsort(Electron_pt[GoodElectrons])))\",\n",
    "    \"MyElectron_jetIdx\":\"Take(Electron_jetIdx[GoodElectrons], Reverse(Argsort(Electron_pt[GoodElectrons])))\",\n",
    "    \"MyElectron_pt1\":\"MyElectron_pt[0]\",\n",
    "    \"MyElectron_eta1\":\"MyElectron_eta[0]\",\n",
    "    \"MyElectron_phi1\":\"MyElectron_phi[0]\",\n",
    "    \"MyElectron_mass1\":\"MyElectron_mass[0]\",\n",
    "    \"MyElectron_charge1\":\"MyElectron_charge[0]\",\n",
    "    \"MyElectron_genPartIdx1\":\"MyElectron_genPartIdx[0]\",\n",
    "    \"MyElectron_jetIdx1\":\"MyElectron_jetIdx[0]\",\n",
    "    \"MyElectron_motherpid1\":\"GenPart_pdgId[GenPart_genPartIdxMother[MyElectron_genPartIdx1]]\",\n",
    "    \"MyElectron_deepjet1\":\"Jet_btagDeepFlavB[MyElectron_jetIdx1]\",\n",
    "    \"MyElectron_pt2\":\"MyElectron_pt[1]\",\n",
    "    \"MyElectron_eta2\":\"MyElectron_eta[1]\",\n",
    "    \"MyElectron_phi2\":\"MyElectron_phi[1]\",\n",
    "    \"MyElectron_mass2\":\"MyElectron_mass[1]\",\n",
    "    \"MyElectron_charge2\":\"MyElectron_charge[1]\",\n",
    "    \"MyElectron_genPartIdx2\":\"MyElectron_genPartIdx[1]\",\n",
    "    \"MyElectron_jetIdx2\":\"MyElectron_jetIdx[1]\",\n",
    "    \"MyElectron_motherpid2\":\"GenPart_pdgId[GenPart_genPartIdxMother[MyElectron_genPartIdx2]]\",\n",
    "    \"MyElectron_deepjet2\":\"Jet_btagDeepFlavB[MyElectron_jetIdx2]\",\n",
    "    \"Dielectron_mass\":\"ComputeInvariantMass(MyElectron_pt, MyElectron_eta, MyElectron_phi, MyElectron_mass)\",    \n",
    "}\n",
    "\n",
    "Aliases={\n",
    "    \"elpt\":\"MyElectron_pt\",\n",
    "    \"eleta\":\"MyElectron_eta\",\n",
    "    \"elphi\":\"MyElectron_phi\",\n",
    "    \"elmass\":\"MyElectron_mass\",\n",
    "    \"elq\":\"MyElectron_charge\",\n",
    "    \"elpt1\":\"MyElectron_pt1\",\n",
    "    \"eleta1\":\"MyElectron_eta1\",\n",
    "    \"elphi1\":\"MyElectron_phi1\",\n",
    "    \"elmass1\":\"MyElectron_mass1\",\n",
    "    \"elq1\":\"MyElectron_charge1\",\n",
    "    \"elpt2\":\"MyElectron_pt2\",\n",
    "    \"eleta2\":\"MyElectron_eta2\",\n",
    "    \"elphi2\":\"MyElectron_phi2\",\n",
    "    \"elmass2\":\"MyElectron_mass2\",\n",
    "    \"elq2\":\"MyElectron_charge2\",\n",
    "}\n",
    "\n",
    "Selections={\n",
    "    \"Sum(GoodElectrons) == 2\":\"Two or more good electrons\",\n",
    "    \"MyElectron_motherpid1==23 && MyElectron_motherpid2==23\":\"Come from Z\",\n",
    "    \"(MyElectron_deepjet1<0.3033) && (MyElectron_deepjet2<0.3033)\":\"DeepJet cuts on ele\",\n",
    "    \"(Dielectron_mass<121) && (Dielectron_mass>61)\":\"Z mass cut\",\n",
    "    \"Flag_goodVertices && Flag_globalSuperTightHalo2016Filter && Flag_HBHENoiseFilter\":\"Quality1\",\n",
    "    \"Flag_HBHENoiseIsoFilter && Flag_EcalDeadCellTriggerPrimitiveFilter && Flag_BadPFMuonFilter\":\"Quality2\",\n",
    "    \"Flag_HBHENoiseIsoFilter && Flag_EcalDeadCellTriggerPrimitiveFilter && Flag_BadPFMuonFilter\":\"Quality3\",\n",
    "}\n"
   ]
  },
  {
   "cell_type": "code",
   "execution_count": 3,
   "id": "e41fde6a",
   "metadata": {},
   "outputs": [],
   "source": [
    "#for define in Definitions.keys():\n",
    "#    print(define+\":\"+Definitions[define])"
   ]
  },
  {
   "cell_type": "code",
   "execution_count": 4,
   "id": "4fc77f61",
   "metadata": {},
   "outputs": [],
   "source": [
    "ROOT.gStyle.SetOptStat(0)\n",
    "\n",
    "def Clone(h):\n",
    "    htemp=h[:]\n",
    "    h=[]\n",
    "    for hi in htemp:\n",
    "        h.append(hi.Clone())\n",
    "    return h\n",
    "\n",
    "def prepareevents(Process,Definitions,Selection):\n",
    "    import ROOT\n",
    "    PDs=[]\n",
    "    for cont in Process.keys():\n",
    "        Files=Process[cont]['Files']\n",
    "        Tree=Process[cont]['Tree']\n",
    "        df = ROOT.RDataFrame(Tree, Files)\n",
    "        for define in Definitions.keys():\n",
    "            df = df.Define(define,Definitions[define])\n",
    "        for alias in Aliases.keys():\n",
    "            df = df.Alias(alias,Aliases[alias])\n",
    "        for sel in Selections.keys():\n",
    "            df = df.Filter(sel,Selections[sel])\n",
    "        PDs.append({'cont':cont,'Type':Process[cont]['Type'],'RDF':df,'Xsec':Process[cont]['Xsec']})\n",
    "    return PDs\n",
    "\n",
    "def savehist(h=[],col=[],op=\"l\",norm=False):\n",
    "    h=Clone(h)\n",
    "    c = ROOT.TCanvas(\"c\",\"example\",600,700);\n",
    "    #pad1 = ROOT.TPad(\"pad1\",\"pad1\",0,0.3,1,1);\n",
    "    #pad1.SetBottomMargin(0)\n",
    "    #pad1.Draw()\n",
    "    #pad1.cd()\n",
    "    #ROOT.gPad.SetLogy()\n",
    "    legend=ROOT.TLegend(0.5,0.8,0.9,0.9)\n",
    "    \n",
    "    if norm: h[0].Scale(1/h[0].Integral());\n",
    "    #h[0].GetXaxis().SetTitleSize(0.04)\n",
    "    #h[0].GetYaxis().SetTitleSize(0.02)\n",
    "    \n",
    "    h[0].SetLineColor(col[0])\n",
    "    h[0].Draw(\"hist\")\n",
    "    legend.AddEntry(h[0].GetName(), h[0].GetName(), op)\n",
    "    if len(h)>1:\n",
    "        for i,hi in enumerate(h):\n",
    "            if i!=0:\n",
    "                if norm: h[i].Scale(1/h[i].Integral());\n",
    "                h[i].SetLineColor(col[i])\n",
    "                h[i].Draw(\"histsame\")\n",
    "                legend.AddEntry(h[i].GetName(), h[i].GetName(), op)\n",
    "    legend.Draw()\n",
    "    legend.SetTextSize(0.02)\n",
    "    #h[0].SetAxisRange(h[0].GetMinimum(), 0.2*h[0].GetMaximum(), \"Y\");\n",
    "    if norm: c.SaveAs((h[0].GetTitle())+\"_norm.pdf\")\n",
    "    if not norm: c.SaveAs((h[0].GetTitle())+\".pdf\")\n",
    "    \n",
    "    \n",
    "def savehistwithratio(h=[],col=[],op=\"l\"):\n",
    "    h=Clone(h)\n",
    "    if len(h)!=2:\n",
    "        print(\"Only works with 2 hists\")\n",
    "        return 0;\n",
    "    h1=h[0].Clone()\n",
    "    h2=h[1].Clone()\n",
    "    c1 = ROOT.TCanvas(\"c1\",\"example\",600,700);\n",
    "    pad1 = ROOT.TPad(\"pad1\",\"pad1\",0,0.3,1,1);\n",
    "    pad1.SetBottomMargin(0);\n",
    "    pad1.Draw();\n",
    "    pad1.cd();\n",
    "    legend=ROOT.TLegend(0.5,0.8,0.9,0.9)\n",
    "    \n",
    "    h1.DrawCopy();\n",
    "    h1.SetLineColor(col[0])\n",
    "    legend.AddEntry(h1.GetName(), h1.GetName(), op)\n",
    "    h2.Draw(\"same\");\n",
    "    h2.SetLineColor(col[1])\n",
    "    legend.AddEntry(h2.GetName(), h2.GetName(), op)\n",
    "    legend.Draw()\n",
    "    legend.SetTextSize(0.04)\n",
    "    \n",
    "    c1.cd();\n",
    "    \n",
    "    pad2 = ROOT.TPad(\"pad2\",\"pad2\",0,0,1,0.3);\n",
    "    pad2.SetTopMargin(0);\n",
    "    pad2.Draw();\n",
    "    pad2.cd();\n",
    "    h1.Sumw2();\n",
    "    h1.SetStats(0);\n",
    "    h1.Divide(h2);\n",
    "    #h1.SetMarkerStyle(21);\n",
    "    h1.SetMarkerSize(1)\n",
    "    h1.Draw(\"text0 ep\");\n",
    "    c1.cd();\n",
    "    \n",
    "    c1.SaveAs((h[0].GetTitle())+\".pdf\")\n",
    "    \n",
    "def savehistonlyratio(h=[],col=[],op=\"l\"):\n",
    "    h=Clone(h)\n",
    "    ROOT.gStyle.SetPaintTextFormat(\"4.4f\");\n",
    "    if len(h)!=2:\n",
    "        print(\"Only works with 2 hists\")\n",
    "        return 0;\n",
    "    h1=h[0].Clone()\n",
    "    h2=h[1].Clone()\n",
    "    c1 = ROOT.TCanvas(\"c1\",\"example\",600,700);\n",
    "    legend=ROOT.TLegend(0.5,0.8,0.9,0.9)\n",
    "    \n",
    "    h1.Sumw2();\n",
    "    h1.SetStats(0);\n",
    "    h1.Divide(h2)\n",
    "    #h1.SetMarkerStyle(21);\n",
    "    h1.SetMarkerSize(1)\n",
    "    h1.Draw(\"text0 ep\");\n",
    "    c1.SaveAs((h[0].GetTitle())+\"_ratio.pdf\")\n",
    "    \n",
    "def BookHisto(df,Args,Branch):\n",
    "    return df.Histo1D(Args, Branch)"
   ]
  },
  {
   "cell_type": "code",
   "execution_count": 5,
   "id": "6f3975bb",
   "metadata": {},
   "outputs": [
    {
     "name": "stderr",
     "output_type": "stream",
     "text": [
      "Warning in <TClass::Init>: no dictionary for class edm::ProcessHistory is available\n",
      "Warning in <TClass::Init>: no dictionary for class edm::ProcessConfiguration is available\n",
      "Warning in <TClass::Init>: no dictionary for class edm::ParameterSetBlob is available\n",
      "Warning in <TClass::Init>: no dictionary for class edm::Hash<1> is available\n",
      "Warning in <TClass::Init>: no dictionary for class pair<edm::Hash<1>,edm::ParameterSetBlob> is available\n"
     ]
    }
   ],
   "source": [
    "PDs=prepareevents(Process,Definitions,Selections)"
   ]
  },
  {
   "cell_type": "code",
   "execution_count": 6,
   "id": "58432a89",
   "metadata": {},
   "outputs": [],
   "source": [
    "#for PD in PDs:\n",
    "#    PD['RDF'].Display({\"NGoodElectrons\",\"elpt\",\"MyElectron_pt\"}).Print()"
   ]
  },
  {
   "cell_type": "code",
   "execution_count": 7,
   "id": "0a0fa2bf",
   "metadata": {},
   "outputs": [],
   "source": [
    "hMeeSS = PDs[0]['RDF'].Filter(\"(elq1+elq2)!=0\", \"Two SS\").Histo1D((\"Dielectron_mass_SS\", \"Dielectron_mass;m_{ee} (GeV);Events\", 10, 71, 111), \"Dielectron_mass\")\n",
    "hMee = PDs[0]['RDF'].Histo1D((\"Dielectron_mass_all\", \"Dielectron_mass;m_{ee} (GeV);Events\", 10, 71, 111), \"Dielectron_mass\")\n",
    "\n",
    "\n",
    "hemotherpid1 = PDs[0]['RDF'].Histo1D((\"MyElectron_motherpid1\", \"MyElectron_motherpid1;MyElectron_motherpid1;Events\", 50, -25, 25), \"MyElectron_motherpid1\")\n",
    "\n",
    "helpt1SS = PDs[0]['RDF'].Filter(\"(elq1+elq2)!=0\", \"Two SS\").Histo1D((\"elpt1_SS\", \"elpt1;elpt1 (GeV);Events\", 5, 10, 100), \"elpt1\")\n",
    "helpt1 = PDs[0]['RDF'].Histo1D((\"elpt1_all\", \"elpt1;elpt1 (GeV);Events\", 5, 10, 100), \"elpt1\")"
   ]
  },
  {
   "cell_type": "code",
   "execution_count": 8,
   "id": "e2b7595c",
   "metadata": {},
   "outputs": [
    {
     "name": "stderr",
     "output_type": "stream",
     "text": [
      "Info in <TCanvas::Print>: pdf file Dielectron_mass_norm.pdf has been created\n",
      "Info in <TCanvas::Print>: pdf file MyElectron_motherpid1.pdf has been created\n",
      "Info in <TCanvas::Print>: pdf file Dielectron_mass_ratio.pdf has been created\n"
     ]
    }
   ],
   "source": [
    "savehist([hMeeSS.Clone(),hMee.Clone()],[ROOT.kRed,ROOT.kBlue,ROOT.kGreen],norm=True)\n",
    "\n",
    "savehist([hemotherpid1.Clone()],[ROOT.kRed,ROOT.kBlue,ROOT.kGreen])\n",
    "\n",
    "savehistonlyratio([hMeeSS.Clone(),hMee.Clone()],[ROOT.kRed,ROOT.kBlue,ROOT.kGreen])"
   ]
  },
  {
   "cell_type": "code",
   "execution_count": 9,
   "id": "18e02caf",
   "metadata": {},
   "outputs": [
    {
     "name": "stderr",
     "output_type": "stream",
     "text": [
      "Info in <TCanvas::Print>: pdf file elpt1_norm.pdf has been created\n",
      "Info in <TCanvas::Print>: pdf file elpt1.pdf has been created\n",
      "Info in <TCanvas::Print>: pdf file elpt1_ratio.pdf has been created\n"
     ]
    }
   ],
   "source": [
    "savehist([helpt1SS.Clone(),helpt1.Clone()],[ROOT.kRed,ROOT.kBlue,ROOT.kGreen],norm=True)\n",
    "savehist([helpt1SS.Clone(),helpt1.Clone()],[ROOT.kRed,ROOT.kBlue,ROOT.kGreen])\n",
    "\n",
    "savehistonlyratio([helpt1SS.Clone(),helpt1.Clone()],[ROOT.kRed,ROOT.kBlue,ROOT.kGreen])"
   ]
  },
  {
   "cell_type": "code",
   "execution_count": 10,
   "id": "a1c9fc9a",
   "metadata": {},
   "outputs": [
    {
     "name": "stdout",
     "output_type": "stream",
     "text": [
      "{ \"GoodElectrons1\", \"GoodElectrons2\", \"GoodElectrons3\", \"GoodElectrons\", \"NGoodElectrons\", \"MyElectron_pt\", \"MyElectron_eta\", \"MyElectron_phi\", \"MyElectron_mass\", \"MyElectron_charge\", \"MyElectron_genPartIdx\", \"MyElectron_jetIdx\", \"MyElectron_pt1\", \"MyElectron_eta1\", \"MyElectron_phi1\", \"MyElectron_mass1\", \"MyElectron_charge1\", \"MyElectron_genPartIdx1\", \"MyElectron_jetIdx1\", \"MyElectron_motherpid1\", \"MyElectron_deepjet1\", \"MyElectron_pt2\", \"MyElectron_eta2\", \"MyElectron_phi2\", \"MyElectron_mass2\", \"MyElectron_charge2\", \"MyElectron_genPartIdx2\", \"MyElectron_jetIdx2\", \"MyElectron_motherpid2\", \"MyElectron_deepjet2\", \"Dielectron_mass\", \"elpt\", \"eleta\", \"elphi\", \"elmass\", \"elq\", \"elpt1\", \"eleta1\", \"elphi1\", \"elmass1\", \"elq1\", \"elpt2\", \"eleta2\", \"elphi2\", \"elmass2\", \"elq2\", \"run\", \"luminosityBlock\", \"event\", \"btagWeight_CSVV2\", \"btagWeight_DeepCSVB\", \"CaloMET_phi\", \"CaloMET_pt\", \"CaloMET_sumEt\", \"nElectron\", \"Electron_deltaEtaSC\", \"Electron_dr03EcalRecHitSumEt\", \"Electron_dr03HcalDepth1TowerSumEt\", \"Electron_dr03TkSumPt\", \"Electron_dxy\", \"Electron_dxyErr\", \"Electron_dz\", \"Electron_dzErr\", \"Electron_eCorr\", \"Electron_eInvMinusPInv\", \"Electron_energyErr\", \"Electron_eta\", \"Electron_hoe\", \"Electron_ip3d\", \"Electron_mass\", \"Electron_miniPFRelIso_all\", \"Electron_miniPFRelIso_chg\", \"Electron_mvaFall17Iso\", \"Electron_mvaFall17noIso\", \"Electron_mvaSpring16GP\", \"Electron_mvaSpring16HZZ\", \"Electron_pfRelIso03_all\", \"Electron_pfRelIso03_chg\", \"Electron_phi\", \"Electron_pt\", \"Electron_r9\", \"Electron_sieie\", \"Electron_sip3d\", \"Electron_mvaTTH\", \"Electron_charge\", \"Electron_cutBased\", \"Electron_cutBased17\", \"Electron_cutBased_HLTPreSel\", \"Electron_jetIdx\", \"Electron_pdgId\", \"Electron_photonIdx\", \"Electron_tightCharge\", \"Electron_vidNestedWPBitmap\", \"Electron_convVeto\", \"Electron_cutBased_HEEP\", \"Electron_isPFcand\", \"Electron_lostHits\", \"Electron_mvaFall17Iso_WP80\", \"Electron_mvaFall17Iso_WP90\", \"Electron_mvaFall17Iso_WPL\", \"Electron_mvaFall17noIso_WP80\", \"Electron_mvaFall17noIso_WP90\", \"Electron_mvaFall17noIso_WPL\", \"Electron_mvaSpring16GP_WP80\", \"Electron_mvaSpring16GP_WP90\", \"Electron_mvaSpring16HZZ_WPL\", \"nFatJet\", \"FatJet_area\", \"FatJet_btagCMVA\", \"FatJet_btagCSVV2\", \"FatJet_btagDeepB\", \"FatJet_btagHbb\", \"FatJet_eta\", \"FatJet_mass\", \"FatJet_msoftdrop\", \"FatJet_n2b1\", \"FatJet_n3b1\", \"FatJet_phi\", \"FatJet_pt\", \"FatJet_rawFactor\", \"FatJet_tau1\", \"FatJet_tau2\", \"FatJet_tau3\", \"FatJet_tau4\", \"FatJet_jetId\", \"FatJet_subJetIdx1\", \"FatJet_subJetIdx2\", \"nGenJetAK8\", \"GenJetAK8_eta\", \"GenJetAK8_mass\", \"GenJetAK8_phi\", \"GenJetAK8_pt\", \"nGenJet\", \"GenJet_eta\", \"GenJet_mass\", \"GenJet_phi\", \"GenJet_pt\", \"nGenPart\", \"GenPart_eta\", \"GenPart_mass\", \"GenPart_phi\", \"GenPart_pt\", \"GenPart_genPartIdxMother\", \"GenPart_pdgId\", \"GenPart_status\", \"GenPart_statusFlags\", \"nSubGenJetAK8\", \"SubGenJetAK8_eta\", \"SubGenJetAK8_mass\", \"SubGenJetAK8_phi\", \"SubGenJetAK8_pt\", \"Generator_binvar\", \"Generator_scalePDF\", \"Generator_weight\", \"Generator_x1\", \"Generator_x2\", \"Generator_xpdf1\", \"Generator_xpdf2\", \"Generator_id1\", \"Generator_id2\", \"nGenVisTau\", \"GenVisTau_eta\", \"GenVisTau_mass\", \"GenVisTau_phi\", \"GenVisTau_pt\", \"GenVisTau_charge\", \"GenVisTau_genPartIdxMother\", \"GenVisTau_status\", \"genWeight\", \"LHEWeight_originalXWGTUP\", \"nLHEPdfWeight\", \"LHEPdfWeight\", \"nLHEScaleWeight\", \"LHEScaleWeight\", \"nPSWeight\", \"PSWeight\", \"nIsoTrack\", \"IsoTrack_dxy\", \"IsoTrack_dz\", \"IsoTrack_eta\", \"IsoTrack_pfRelIso03_all\", \"IsoTrack_pfRelIso03_chg\", \"IsoTrack_phi\", \"IsoTrack_pt\", \"IsoTrack_miniPFRelIso_all\", \"IsoTrack_miniPFRelIso_chg\", \"IsoTrack_pdgId\", \"IsoTrack_isHighPurityTrack\", \"IsoTrack_isPFcand\", \"nJet\", \"Jet_area\", \"Jet_btagCMVA\", \"Jet_btagCSVV2\", \"Jet_btagDeepB\", \"Jet_btagDeepC\", \"Jet_btagDeepFlavB\", \"Jet_chEmEF\", \"Jet_chHEF\", \"Jet_eta\", \"Jet_mass\", \"Jet_muEF\", \"Jet_neEmEF\", \"Jet_neHEF\", \"Jet_phi\", \"Jet_pt\", \"Jet_qgl\", \"Jet_rawFactor\", \"Jet_bRegCorr\", \"Jet_bRegRes\", \"Jet_electronIdx1\", \"Jet_electronIdx2\", \"Jet_jetId\", \"Jet_muonIdx1\", \"Jet_muonIdx2\", \"Jet_nConstituents\", \"Jet_nElectrons\", \"Jet_nMuons\", \"Jet_puId\", \"LHE_HT\", \"LHE_HTIncoming\", \"LHE_Vpt\", \"LHE_Njets\", \"LHE_Nb\", \"LHE_Nc\", \"LHE_Nuds\", \"LHE_Nglu\", \"LHE_NpNLO\", \"LHE_NpLO\", \"nLHEPart\", \"LHEPart_pt\", \"LHEPart_eta\", \"LHEPart_phi\", \"LHEPart_mass\", \"LHEPart_pdgId\", \"GenMET_phi\", \"GenMET_pt\", \"MET_MetUnclustEnUpDeltaX\", \"MET_MetUnclustEnUpDeltaY\", \"MET_covXX\", \"MET_covXY\", \"MET_covYY\", \"MET_phi\", \"MET_pt\", \"MET_significance\", \"MET_sumEt\", \"nMuon\", \"Muon_dxy\", \"Muon_dxyErr\", \"Muon_dz\", \"Muon_dzErr\", \"Muon_eta\", \"Muon_ip3d\", \"Muon_mass\", \"Muon_miniPFRelIso_all\", \"Muon_miniPFRelIso_chg\", \"Muon_pfRelIso03_all\", \"Muon_pfRelIso03_chg\", \"Muon_pfRelIso04_all\", \"Muon_phi\", \"Muon_pt\", \"Muon_ptErr\", \"Muon_segmentComp\", \"Muon_sip3d\", \"Muon_mvaTTH\", \"Muon_charge\", \"Muon_jetIdx\", \"Muon_nStations\", \"Muon_nTrackerLayers\", \"Muon_pdgId\", \"Muon_tightCharge\", \"Muon_highPtId\", \"Muon_isPFcand\", \"Muon_mediumId\", \"Muon_softId\", \"Muon_tightId\", \"nPhoton\", \"Photon_eCorr\", \"Photon_energyErr\", \"Photon_eta\", \"Photon_hoe\", \"Photon_mass\", \"Photon_mvaID\", \"Photon_mvaID17\", \"Photon_pfRelIso03_all\", \"Photon_pfRelIso03_chg\", \"Photon_phi\", \"Photon_pt\", \"Photon_r9\", \"Photon_sieie\", \"Photon_charge\", \"Photon_cutBased\", \"Photon_cutBased17Bitmap\", \"Photon_cutBasedBitmap\", \"Photon_electronIdx\", \"Photon_jetIdx\", \"Photon_pdgId\", \"Photon_vidNestedWPBitmap\", \"Photon_electronVeto\", \"Photon_isScEtaEB\", \"Photon_isScEtaEE\", \"Photon_mvaID17_WP80\", \"Photon_mvaID17_WP90\", \"Photon_mvaID_WP80\", \"Photon_mvaID_WP90\", \"Photon_pixelSeed\", \"Pileup_nTrueInt\", \"Pileup_nPU\", \"Pileup_sumEOOT\", \"Pileup_sumLOOT\", \"PuppiMET_phi\", \"PuppiMET_pt\", \"PuppiMET_sumEt\", \"RawMET_phi\", \"RawMET_pt\", \"RawMET_sumEt\", \"fixedGridRhoFastjetAll\", \"fixedGridRhoFastjetCentralCalo\", \"fixedGridRhoFastjetCentralNeutral\", \"nGenDressedLepton\", \"GenDressedLepton_eta\", \"GenDressedLepton_mass\", \"GenDressedLepton_phi\", \"GenDressedLepton_pt\", \"GenDressedLepton_pdgId\", \"nSoftActivityJet\", \"SoftActivityJet_eta\", \"SoftActivityJet_phi\", \"SoftActivityJet_pt\", \"SoftActivityJetHT\", \"SoftActivityJetHT10\", \"SoftActivityJetHT2\", \"SoftActivityJetHT5\", \"SoftActivityJetNjets10\", \"SoftActivityJetNjets2\", \"SoftActivityJetNjets5\", \"nSubJet\", \"SubJet_btagCMVA\", \"SubJet_btagCSVV2\", \"SubJet_btagDeepB\", \"SubJet_eta\", \"SubJet_mass\", \"SubJet_n2b1\", \"SubJet_n3b1\", \"SubJet_phi\", \"SubJet_pt\", \"SubJet_tau1\", \"SubJet_tau2\", \"SubJet_tau3\", \"SubJet_tau4\", \"nTau\", \"Tau_chargedIso\", \"Tau_dxy\", \"Tau_dz\", \"Tau_eta\", \"Tau_leadTkDeltaEta\", \"Tau_leadTkDeltaPhi\", \"Tau_leadTkPtOverTauPt\", \"Tau_mass\", \"Tau_neutralIso\", \"Tau_phi\", \"Tau_photonsOutsideSignalCone\", \"Tau_pt\", \"Tau_puCorr\", \"Tau_rawAntiEle\", \"Tau_rawIso\", \"Tau_rawIsodR03\", \"Tau_rawMVAnewDM2017v2\", \"Tau_rawMVAoldDM\", \"Tau_rawMVAoldDM2017v1\", \"Tau_rawMVAoldDM2017v2\", \"Tau_rawMVAoldDMdR032017v2\", \"Tau_charge\", \"Tau_decayMode\", \"Tau_jetIdx\", \"Tau_rawAntiEleCat\", \"Tau_idAntiEle\", \"Tau_idAntiMu\", \"Tau_idDecayMode\", \"Tau_idDecayModeNewDMs\", \"Tau_idMVAnewDM2017v2\", \"Tau_idMVAoldDM\", \"Tau_idMVAoldDM2017v1\", \"Tau_idMVAoldDM2017v2\", \"Tau_idMVAoldDMdR032017v2\", \"TkMET_phi\", \"TkMET_pt\", \"TkMET_sumEt\", \"nTrigObj\", \"TrigObj_pt\", \"TrigObj_eta\", \"TrigObj_phi\", \"TrigObj_l1pt\", \"TrigObj_l1pt_2\", \"TrigObj_l2pt\", \"TrigObj_id\", \"TrigObj_l1iso\", \"TrigObj_l1charge\", \"TrigObj_filterBits\", \"genTtbarId\", \"nOtherPV\", \"OtherPV_z\", \"PV_ndof\", \"PV_x\", \"PV_y\", \"PV_z\", \"PV_chi2\", \"PV_score\", \"PV_npvs\", \"PV_npvsGood\", \"nSV\", \"SV_dlen\", \"SV_dlenSig\", \"SV_pAngle\", \"Electron_genPartIdx\", \"Electron_genPartFlav\", \"GenJetAK8_partonFlavour\", \"GenJetAK8_hadronFlavour\", \"GenJet_partonFlavour\", \"GenJet_hadronFlavour\", \"Jet_genJetIdx\", \"Jet_hadronFlavour\", \"Jet_partonFlavour\", \"Muon_genPartIdx\", \"Muon_genPartFlav\", \"Photon_genPartIdx\", \"Photon_genPartFlav\", \"MET_fiducialGenPhi\", \"MET_fiducialGenPt\", \"Electron_cleanmask\", \"Jet_cleanmask\", \"Muon_cleanmask\", \"Photon_cleanmask\", \"Tau_cleanmask\", \"SV_chi2\", \"SV_eta\", \"SV_mass\", \"SV_ndof\", \"SV_phi\", \"SV_pt\", \"SV_x\", \"SV_y\", \"SV_z\", \"Tau_genPartIdx\", \"Tau_genPartFlav\", \"L1simulation_step\", \"HLTriggerFirstPath\", \"HLT_AK8PFJet360_TrimMass30\", \"HLT_AK8PFJet400_TrimMass30\", \"HLT_AK8PFHT750_TrimMass50\", \"HLT_AK8PFHT800_TrimMass50\", \"HLT_AK8DiPFJet300_200_TrimMass30_BTagCSV_p20\", \"HLT_AK8DiPFJet280_200_TrimMass30_BTagCSV_p087\", \"HLT_AK8DiPFJet300_200_TrimMass30_BTagCSV_p087\", \"HLT_AK8DiPFJet300_200_TrimMass30\", \"HLT_AK8PFHT700_TrimR0p1PT0p03Mass50\", \"HLT_AK8PFHT650_TrimR0p1PT0p03Mass50\", \"HLT_AK8PFHT600_TrimR0p1PT0p03Mass50_BTagCSV_p20\", \"HLT_AK8DiPFJet280_200_TrimMass30\", \"HLT_AK8DiPFJet250_200_TrimMass30\", \"HLT_AK8DiPFJet280_200_TrimMass30_BTagCSV_p20\", \"HLT_AK8DiPFJet250_200_TrimMass30_BTagCSV_p20\", \"HLT_CaloJet260\", \"HLT_CaloJet500_NoJetID\", \"HLT_Dimuon13_PsiPrime\", \"HLT_Dimuon13_Upsilon\", \"HLT_Dimuon20_Jpsi\", \"HLT_DoubleEle24_22_eta2p1_WPLoose_Gsf\", \"HLT_DoubleEle25_CaloIdL_GsfTrkIdVL\", \"HLT_DoubleEle33_CaloIdL\", \"HLT_DoubleEle33_CaloIdL_MW\", \"HLT_DoubleEle33_CaloIdL_GsfTrkIdVL_MW\", \"HLT_DoubleEle33_CaloIdL_GsfTrkIdVL\", \"HLT_DoubleMediumCombinedIsoPFTau35_Trk1_eta2p1_Reg\", \"HLT_DoubleTightCombinedIsoPFTau35_Trk1_eta2p1_Reg\", \"HLT_DoubleMediumCombinedIsoPFTau40_Trk1_eta2p1_Reg\", \"HLT_DoubleTightCombinedIsoPFTau40_Trk1_eta2p1_Reg\", \"HLT_DoubleMediumCombinedIsoPFTau40_Trk1_eta2p1\", \"HLT_DoubleTightCombinedIsoPFTau40_Trk1_eta2p1\", \"HLT_DoubleMediumIsoPFTau35_Trk1_eta2p1_Reg\", \"HLT_DoubleMediumIsoPFTau40_Trk1_eta2p1_Reg\", \"HLT_DoubleMediumIsoPFTau40_Trk1_eta2p1\", \"HLT_DoubleEle37_Ele27_CaloIdL_GsfTrkIdVL\", \"HLT_DoubleMu33NoFiltersNoVtx\", \"HLT_DoubleMu38NoFiltersNoVtx\", \"HLT_DoubleMu23NoFiltersNoVtxDisplaced\", \"HLT_DoubleMu28NoFiltersNoVtxDisplaced\", \"HLT_DoubleMu0\", \"HLT_DoubleMu4_3_Bs\", \"HLT_DoubleMu4_3_Jpsi_Displaced\", \"HLT_DoubleMu4_JpsiTrk_Displaced\", \"HLT_DoubleMu4_LowMassNonResonantTrk_Displaced\", \"HLT_DoubleMu3_Trk_Tau3mu\", \"HLT_DoubleMu4_PsiPrimeTrk_Displaced\", \"HLT_Mu7p5_L2Mu2_Jpsi\", \"HLT_Mu7p5_L2Mu2_Upsilon\", \"HLT_Mu7p5_Track2_Jpsi\", \"HLT_Mu7p5_Track3p5_Jpsi\", \"HLT_Mu7p5_Track7_Jpsi\", \"HLT_Mu7p5_Track2_Upsilon\", \"HLT_Mu7p5_Track3p5_Upsilon\", \"HLT_Mu7p5_Track7_Upsilon\", \"HLT_Dimuon0er16_Jpsi_NoOS_NoVertexing\", \"HLT_Dimuon0er16_Jpsi_NoVertexing\", \"HLT_Dimuon6_Jpsi_NoVertexing\", \"HLT_Photon150\", \"HLT_Photon90_CaloIdL_HT300\", \"HLT_HT250_CaloMET70\", \"HLT_DoublePhoton60\", \"HLT_DoublePhoton85\", \"HLT_Ele17_Ele8_Gsf\", \"HLT_Ele20_eta2p1_WPLoose_Gsf_LooseIsoPFTau28\", \"HLT_Ele22_eta2p1_WPLoose_Gsf_LooseIsoPFTau29\", \"HLT_Ele22_eta2p1_WPLoose_Gsf\", \"HLT_Ele22_eta2p1_WPLoose_Gsf_LooseIsoPFTau20_SingleL1\", \"HLT_Ele23_WPLoose_Gsf\", \"HLT_Ele23_WPLoose_Gsf_WHbbBoost\", \"HLT_Ele24_eta2p1_WPLoose_Gsf\", \"HLT_Ele24_eta2p1_WPLoose_Gsf_LooseIsoPFTau20\", \"HLT_Ele24_eta2p1_WPLoose_Gsf_LooseIsoPFTau20_SingleL1\", \"HLT_Ele24_eta2p1_WPLoose_Gsf_LooseIsoPFTau30\", \"HLT_Ele25_WPTight_Gsf\", \"HLT_Ele25_eta2p1_WPLoose_Gsf\", \"HLT_Ele25_eta2p1_WPTight_Gsf\", \"HLT_Ele27_WPLoose_Gsf\", \"HLT_Ele27_WPLoose_Gsf_WHbbBoost\", \"HLT_Ele27_WPTight_Gsf\", \"HLT_Ele27_WPTight_Gsf_L1JetTauSeeded\", \"HLT_Ele27_eta2p1_WPLoose_Gsf\", \"HLT_Ele27_eta2p1_WPLoose_Gsf_LooseIsoPFTau20_SingleL1\", \"HLT_Ele27_eta2p1_WPTight_Gsf\", \"HLT_Ele30_WPTight_Gsf\", \"HLT_Ele30_eta2p1_WPLoose_Gsf\", \"HLT_Ele30_eta2p1_WPTight_Gsf\", \"HLT_Ele32_WPTight_Gsf\", \"HLT_Ele32_eta2p1_WPLoose_Gsf\", \"HLT_Ele32_eta2p1_WPLoose_Gsf_LooseIsoPFTau20_SingleL1\", \"HLT_Ele32_eta2p1_WPTight_Gsf\", \"HLT_Ele35_WPLoose_Gsf\", \"HLT_Ele35_CaloIdVT_GsfTrkIdT_PFJet150_PFJet50\", \"HLT_Ele36_eta2p1_WPLoose_Gsf_LooseIsoPFTau20_SingleL1\", \"HLT_Ele45_WPLoose_Gsf\", \"HLT_Ele45_WPLoose_Gsf_L1JetTauSeeded\", \"HLT_Ele45_CaloIdVT_GsfTrkIdT_PFJet200_PFJet50\", \"HLT_Ele105_CaloIdVT_GsfTrkIdT\", \"HLT_Ele30WP60_SC4_Mass55\", \"HLT_Ele30WP60_Ele8_Mass55\", \"HLT_HT200\", \"HLT_HT275\", \"HLT_HT325\", \"HLT_HT425\", \"HLT_HT575\", \"HLT_HT410to430\", \"HLT_HT430to450\", \"HLT_HT450to470\", \"HLT_HT470to500\", \"HLT_HT500to550\", \"HLT_HT550to650\", \"HLT_HT650\", \"HLT_Mu16_eta2p1_MET30\", \"HLT_IsoMu16_eta2p1_MET30\", \"HLT_IsoMu16_eta2p1_MET30_LooseIsoPFTau50_Trk30_eta2p1\", \"HLT_IsoMu17_eta2p1\", \"HLT_IsoMu17_eta2p1_LooseIsoPFTau20\", \"HLT_IsoMu17_eta2p1_LooseIsoPFTau20_SingleL1\", \"HLT_DoubleIsoMu17_eta2p1\", \"HLT_DoubleIsoMu17_eta2p1_noDzCut\", \"HLT_IsoMu18\", \"HLT_IsoMu19_eta2p1_LooseIsoPFTau20\", \"HLT_IsoMu19_eta2p1_LooseIsoPFTau20_SingleL1\", \"HLT_IsoMu19_eta2p1_MediumIsoPFTau32_Trk1_eta2p1_Reg\", \"HLT_IsoMu19_eta2p1_LooseCombinedIsoPFTau20\", \"HLT_IsoMu19_eta2p1_MediumCombinedIsoPFTau32_Trk1_eta2p1_Reg\", \"HLT_IsoMu19_eta2p1_TightCombinedIsoPFTau32_Trk1_eta2p1_Reg\", \"HLT_IsoMu21_eta2p1_MediumCombinedIsoPFTau32_Trk1_eta2p1_Reg\", \"HLT_IsoMu21_eta2p1_TightCombinedIsoPFTau32_Trk1_eta2p1_Reg\", \"HLT_IsoMu20\", \"HLT_IsoMu21_eta2p1_LooseIsoPFTau20_SingleL1\", \"HLT_IsoMu21_eta2p1_LooseIsoPFTau50_Trk30_eta2p1_SingleL1\", \"HLT_IsoMu21_eta2p1_MediumIsoPFTau32_Trk1_eta2p1_Reg\", \"HLT_IsoMu22\", \"HLT_IsoMu22_eta2p1\", \"HLT_IsoMu24\", \"HLT_IsoMu27\", \"HLT_IsoTkMu18\", \"HLT_IsoTkMu20\", \"HLT_IsoTkMu22\", \"HLT_IsoTkMu22_eta2p1\", \"HLT_IsoTkMu24\", \"HLT_IsoTkMu27\", \"HLT_JetE30_NoBPTX3BX\", \"HLT_JetE30_NoBPTX\", \"HLT_JetE50_NoBPTX3BX\", \"HLT_JetE70_NoBPTX3BX\", \"HLT_L1SingleMu18\", \"HLT_L2Mu10\", \"HLT_L1SingleMuOpen\", \"HLT_L1SingleMuOpen_DT\", \"HLT_L2DoubleMu23_NoVertex\", \"HLT_L2DoubleMu28_NoVertex_2Cha_Angle2p5_Mass10\", \"HLT_L2DoubleMu38_NoVertex_2Cha_Angle2p5_Mass10\", \"HLT_L2Mu10_NoVertex_NoBPTX3BX\", \"HLT_L2Mu10_NoVertex_NoBPTX\", \"HLT_L2Mu45_NoVertex_3Sta_NoBPTX3BX\", \"HLT_L2Mu40_NoVertex_3Sta_NoBPTX3BX\", \"HLT_LooseIsoPFTau50_Trk30_eta2p1\", \"HLT_LooseIsoPFTau50_Trk30_eta2p1_MET80\", \"HLT_LooseIsoPFTau50_Trk30_eta2p1_MET90\", \"HLT_LooseIsoPFTau50_Trk30_eta2p1_MET110\", \"HLT_LooseIsoPFTau50_Trk30_eta2p1_MET120\", \"HLT_PFTau120_eta2p1\", \"HLT_PFTau140_eta2p1\", \"HLT_VLooseIsoPFTau120_Trk50_eta2p1\", \"HLT_VLooseIsoPFTau140_Trk50_eta2p1\", \"HLT_Mu17_Mu8\", \"HLT_Mu17_Mu8_DZ\", \"HLT_Mu17_Mu8_SameSign\", \"HLT_Mu17_Mu8_SameSign_DZ\", \"HLT_Mu20_Mu10\", \"HLT_Mu20_Mu10_DZ\", \"HLT_Mu20_Mu10_SameSign\", \"HLT_Mu20_Mu10_SameSign_DZ\", \"HLT_Mu17_TkMu8_DZ\", \"HLT_Mu17_TrkIsoVVL_Mu8_TrkIsoVVL\", \"HLT_Mu17_TrkIsoVVL_Mu8_TrkIsoVVL_DZ\", \"HLT_Mu17_TrkIsoVVL_TkMu8_TrkIsoVVL\", \"HLT_Mu17_TrkIsoVVL_TkMu8_TrkIsoVVL_DZ\", \"HLT_Mu25_TkMu0_dEta18_Onia\", \"HLT_Mu27_TkMu8\", \"HLT_Mu30_TkMu11\", \"HLT_Mu30_eta2p1_PFJet150_PFJet50\", \"HLT_Mu40_TkMu11\", \"HLT_Mu40_eta2p1_PFJet200_PFJet50\", \"HLT_Mu20\", \"HLT_TkMu17\", \"HLT_TkMu17_TrkIsoVVL_TkMu8_TrkIsoVVL\", \"HLT_TkMu17_TrkIsoVVL_TkMu8_TrkIsoVVL_DZ\", \"HLT_TkMu20\", \"HLT_Mu24_eta2p1\", \"HLT_TkMu24_eta2p1\", \"HLT_Mu27\", \"HLT_TkMu27\", \"HLT_Mu45_eta2p1\", \"HLT_Mu50\", \"HLT_TkMu50\", \"HLT_Mu38NoFiltersNoVtx_Photon38_CaloIdL\", \"HLT_Mu42NoFiltersNoVtx_Photon42_CaloIdL\", \"HLT_Mu28NoFiltersNoVtxDisplaced_Photon28_CaloIdL\", \"HLT_Mu33NoFiltersNoVtxDisplaced_Photon33_CaloIdL\", \"HLT_Mu23NoFiltersNoVtx_Photon23_CaloIdL\", \"HLT_DoubleMu18NoFiltersNoVtx\", \"HLT_Mu33NoFiltersNoVtxDisplaced_DisplacedJet50_Tight\", \"HLT_Mu33NoFiltersNoVtxDisplaced_DisplacedJet50_Loose\", \"HLT_Mu28NoFiltersNoVtx_DisplacedJet40_Loose\", \"HLT_Mu38NoFiltersNoVtxDisplaced_DisplacedJet60_Tight\", \"HLT_Mu38NoFiltersNoVtxDisplaced_DisplacedJet60_Loose\", \"HLT_Mu38NoFiltersNoVtx_DisplacedJet60_Loose\", \"HLT_Mu28NoFiltersNoVtx_CentralCaloJet40\", \"HLT_PFHT300_PFMET100\", \"HLT_PFHT300_PFMET110\", \"HLT_PFHT550_4JetPt50\", \"HLT_PFHT650_4JetPt50\", \"HLT_PFHT750_4JetPt50\", \"HLT_PFHT750_4JetPt70\", \"HLT_PFHT750_4JetPt80\", \"HLT_PFHT800_4JetPt50\", \"HLT_PFHT850_4JetPt50\", \"HLT_PFJet15_NoCaloMatched\", \"HLT_PFJet25_NoCaloMatched\", \"HLT_DiPFJet15_NoCaloMatched\", \"HLT_DiPFJet25_NoCaloMatched\", \"HLT_DiPFJet15_FBEta3_NoCaloMatched\", \"HLT_DiPFJet25_FBEta3_NoCaloMatched\", \"HLT_DiPFJetAve15_HFJEC\", \"HLT_DiPFJetAve25_HFJEC\", \"HLT_DiPFJetAve35_HFJEC\", \"HLT_AK8PFJet40\", \"HLT_AK8PFJet60\", \"HLT_AK8PFJet80\", \"HLT_AK8PFJet140\", \"HLT_AK8PFJet200\", \"HLT_AK8PFJet260\", \"HLT_AK8PFJet320\", \"HLT_AK8PFJet400\", \"HLT_AK8PFJet450\", \"HLT_AK8PFJet500\", \"HLT_PFJet40\", \"HLT_PFJet60\", \"HLT_PFJet80\", \"HLT_PFJet140\", \"HLT_PFJet200\", \"HLT_PFJet260\", \"HLT_PFJet320\", \"HLT_PFJet400\", \"HLT_PFJet450\", \"HLT_PFJet500\", \"HLT_DiPFJetAve40\", \"HLT_DiPFJetAve60\", \"HLT_DiPFJetAve80\", \"HLT_DiPFJetAve140\", \"HLT_DiPFJetAve200\", \"HLT_DiPFJetAve260\", \"HLT_DiPFJetAve320\", \"HLT_DiPFJetAve400\", \"HLT_DiPFJetAve500\", \"HLT_DiPFJetAve60_HFJEC\", \"HLT_DiPFJetAve80_HFJEC\", \"HLT_DiPFJetAve100_HFJEC\", \"HLT_DiPFJetAve160_HFJEC\", \"HLT_DiPFJetAve220_HFJEC\", \"HLT_DiPFJetAve300_HFJEC\", \"HLT_DiPFJet40_DEta3p5_MJJ600_PFMETNoMu140\", \"HLT_DiPFJet40_DEta3p5_MJJ600_PFMETNoMu80\", \"HLT_DiCentralPFJet170\", \"HLT_SingleCentralPFJet170_CFMax0p1\", \"HLT_DiCentralPFJet170_CFMax0p1\", \"HLT_DiCentralPFJet220_CFMax0p3\", \"HLT_DiCentralPFJet330_CFMax0p5\", \"HLT_DiCentralPFJet430\", \"HLT_PFHT125\", \"HLT_PFHT200\", \"HLT_PFHT250\", \"HLT_PFHT300\", \"HLT_PFHT350\", \"HLT_PFHT400\", \"HLT_PFHT475\", \"HLT_PFHT600\", \"HLT_PFHT650\", \"HLT_PFHT800\", \"HLT_PFHT900\", \"HLT_PFHT200_PFAlphaT0p51\", \"HLT_PFHT200_DiPFJetAve90_PFAlphaT0p57\", \"HLT_PFHT200_DiPFJetAve90_PFAlphaT0p63\", \"HLT_PFHT250_DiPFJetAve90_PFAlphaT0p55\", \"HLT_PFHT250_DiPFJetAve90_PFAlphaT0p58\", \"HLT_PFHT300_DiPFJetAve90_PFAlphaT0p53\", \"HLT_PFHT300_DiPFJetAve90_PFAlphaT0p54\", \"HLT_PFHT350_DiPFJetAve90_PFAlphaT0p52\", \"HLT_PFHT350_DiPFJetAve90_PFAlphaT0p53\", \"HLT_PFHT400_DiPFJetAve90_PFAlphaT0p51\", \"HLT_PFHT400_DiPFJetAve90_PFAlphaT0p52\", \"HLT_MET60_IsoTrk35_Loose\", \"HLT_MET75_IsoTrk50\", \"HLT_MET90_IsoTrk50\", \"HLT_PFMET120_BTagCSV_p067\", \"HLT_PFMET120_Mu5\", \"HLT_PFMET170_NotCleaned\", \"HLT_PFMET170_NoiseCleaned\", \"HLT_PFMET170_HBHECleaned\", \"HLT_PFMET170_JetIdCleaned\", \"HLT_PFMET170_BeamHaloCleaned\", \"HLT_PFMET170_HBHE_BeamHaloCleaned\", \"HLT_PFMETTypeOne190_HBHE_BeamHaloCleaned\", \"HLT_PFMET90_PFMHT90_IDTight\", \"HLT_PFMET100_PFMHT100_IDTight\", \"HLT_PFMET100_PFMHT100_IDTight_BeamHaloCleaned\", \"HLT_PFMET110_PFMHT110_IDTight\", \"HLT_PFMET120_PFMHT120_IDTight\", \"HLT_CaloMHTNoPU90_PFMET90_PFMHT90_IDTight_BTagCSV_p067\", \"HLT_CaloMHTNoPU90_PFMET90_PFMHT90_IDTight\", \"HLT_QuadPFJet_BTagCSV_p016_p11_VBF_Mqq200\", \"HLT_QuadPFJet_BTagCSV_p016_VBF_Mqq460\", \"HLT_QuadPFJet_BTagCSV_p016_p11_VBF_Mqq240\", \"HLT_QuadPFJet_BTagCSV_p016_VBF_Mqq500\", \"HLT_QuadPFJet_VBF\", \"HLT_L1_TripleJet_VBF\", \"HLT_QuadJet45_TripleBTagCSV_p087\", \"HLT_QuadJet45_DoubleBTagCSV_p087\", \"HLT_DoubleJet90_Double30_TripleBTagCSV_p087\", \"HLT_DoubleJet90_Double30_DoubleBTagCSV_p087\", \"HLT_DoubleJetsC100_DoubleBTagCSV_p026_DoublePFJetsC160\", \"HLT_DoubleJetsC100_DoubleBTagCSV_p014_DoublePFJetsC100MaxDeta1p6\", \"HLT_DoubleJetsC112_DoubleBTagCSV_p026_DoublePFJetsC172\", \"HLT_DoubleJetsC112_DoubleBTagCSV_p014_DoublePFJetsC112MaxDeta1p6\", \"HLT_DoubleJetsC100_SingleBTagCSV_p026\", \"HLT_DoubleJetsC100_SingleBTagCSV_p014\", \"HLT_DoubleJetsC100_SingleBTagCSV_p026_SinglePFJetC350\", \"HLT_DoubleJetsC100_SingleBTagCSV_p014_SinglePFJetC350\", \"HLT_Photon135_PFMET100\", \"HLT_Photon20_CaloIdVL_IsoL\", \"HLT_Photon22_R9Id90_HE10_Iso40_EBOnly_PFMET40\", \"HLT_Photon22_R9Id90_HE10_Iso40_EBOnly_VBF\", \"HLT_Photon250_NoHE\", \"HLT_Photon300_NoHE\", \"HLT_Photon26_R9Id85_OR_CaloId24b40e_Iso50T80L_Photon16_AND_HE10_R9Id65_Eta2_Mass60\", \"HLT_Photon36_R9Id85_OR_CaloId24b40e_Iso50T80L_Photon22_AND_HE10_R9Id65_Eta2_Mass15\", \"HLT_Photon36_R9Id90_HE10_Iso40_EBOnly_PFMET40\", \"HLT_Photon36_R9Id90_HE10_Iso40_EBOnly_VBF\", \"HLT_Photon50_R9Id90_HE10_Iso40_EBOnly_PFMET40\", \"HLT_Photon50_R9Id90_HE10_Iso40_EBOnly_VBF\", \"HLT_Photon75_R9Id90_HE10_Iso40_EBOnly_PFMET40\", \"HLT_Photon75_R9Id90_HE10_Iso40_EBOnly_VBF\", \"HLT_Photon90_R9Id90_HE10_Iso40_EBOnly_PFMET40\", \"HLT_Photon90_R9Id90_HE10_Iso40_EBOnly_VBF\", \"HLT_Photon120_R9Id90_HE10_Iso40_EBOnly_PFMET40\", \"HLT_Photon120_R9Id90_HE10_Iso40_EBOnly_VBF\", \"HLT_Mu8_TrkIsoVVL\", \"HLT_Mu17_TrkIsoVVL\", \"HLT_Ele8_CaloIdL_TrackIdL_IsoVL_PFJet30\", \"HLT_Ele12_CaloIdL_TrackIdL_IsoVL_PFJet30\", \"HLT_Ele17_CaloIdL_TrackIdL_IsoVL_PFJet30\", \"HLT_Ele23_CaloIdL_TrackIdL_IsoVL_PFJet30\", \"HLT_BTagMu_DiJet20_Mu5\", \"HLT_BTagMu_DiJet40_Mu5\", \"HLT_BTagMu_DiJet70_Mu5\", \"HLT_BTagMu_DiJet110_Mu5\", \"HLT_BTagMu_DiJet170_Mu5\", \"HLT_BTagMu_Jet300_Mu5\", \"HLT_BTagMu_AK8Jet300_Mu5\", \"HLT_Ele23_Ele12_CaloIdL_TrackIdL_IsoVL_DZ\", \"HLT_Ele23_Ele12_CaloIdL_TrackIdL_IsoVL_DZ_L1JetTauSeeded\", \"HLT_Ele17_Ele12_CaloIdL_TrackIdL_IsoVL_DZ\", \"HLT_Ele16_Ele12_Ele8_CaloIdL_TrackIdL\", \"HLT_Mu8_TrkIsoVVL_Ele17_CaloIdL_TrackIdL_IsoVL\", \"HLT_Mu8_TrkIsoVVL_Ele23_CaloIdL_TrackIdL_IsoVL\", \"HLT_Mu8_TrkIsoVVL_Ele23_CaloIdL_TrackIdL_IsoVL_DZ\", \"HLT_Mu12_TrkIsoVVL_Ele23_CaloIdL_TrackIdL_IsoVL\", \"HLT_Mu12_TrkIsoVVL_Ele23_CaloIdL_TrackIdL_IsoVL_DZ\", \"HLT_Mu17_TrkIsoVVL_Ele12_CaloIdL_TrackIdL_IsoVL\", \"HLT_Mu23_TrkIsoVVL_Ele8_CaloIdL_TrackIdL_IsoVL\", \"HLT_Mu23_TrkIsoVVL_Ele8_CaloIdL_TrackIdL_IsoVL_DZ\", \"HLT_Mu23_TrkIsoVVL_Ele12_CaloIdL_TrackIdL_IsoVL\", \"HLT_Mu23_TrkIsoVVL_Ele12_CaloIdL_TrackIdL_IsoVL_DZ\", \"HLT_Mu30_Ele30_CaloIdL_GsfTrkIdVL\", \"HLT_Mu33_Ele33_CaloIdL_GsfTrkIdVL\", \"HLT_Mu37_Ele27_CaloIdL_GsfTrkIdVL\", \"HLT_Mu27_Ele37_CaloIdL_GsfTrkIdVL\", \"HLT_Mu8_DiEle12_CaloIdL_TrackIdL\", \"HLT_Mu12_Photon25_CaloIdL\", \"HLT_Mu12_Photon25_CaloIdL_L1ISO\", \"HLT_Mu12_Photon25_CaloIdL_L1OR\", \"HLT_Mu17_Photon22_CaloIdL_L1ISO\", \"HLT_Mu17_Photon30_CaloIdL_L1ISO\", \"HLT_Mu17_Photon35_CaloIdL_L1ISO\", \"HLT_DiMu9_Ele9_CaloIdL_TrackIdL\", \"HLT_TripleMu_5_3_3\", \"HLT_TripleMu_12_10_5\", \"HLT_Mu3er_PFHT140_PFMET125\", \"HLT_Mu6_PFHT200_PFMET80_BTagCSV_p067\", \"HLT_Mu6_PFHT200_PFMET100\", \"HLT_Mu14er_PFMET100\", \"HLT_Ele17_Ele12_CaloIdL_TrackIdL_IsoVL\", \"HLT_Ele23_Ele12_CaloIdL_TrackIdL_IsoVL\", \"HLT_Ele12_CaloIdL_TrackIdL_IsoVL\", \"HLT_Ele17_CaloIdL_GsfTrkIdVL\", \"HLT_Ele17_CaloIdL_TrackIdL_IsoVL\", \"HLT_Ele23_CaloIdL_TrackIdL_IsoVL\", \"HLT_PFHT650_WideJetMJJ900DEtaJJ1p5\", \"HLT_PFHT650_WideJetMJJ950DEtaJJ1p5\", \"HLT_Photon22\", \"HLT_Photon30\", \"HLT_Photon36\", \"HLT_Photon50\", \"HLT_Photon75\", \"HLT_Photon90\", \"HLT_Photon120\", \"HLT_Photon175\", \"HLT_Photon165_HE10\", \"HLT_Photon22_R9Id90_HE10_IsoM\", \"HLT_Photon30_R9Id90_HE10_IsoM\", \"HLT_Photon36_R9Id90_HE10_IsoM\", \"HLT_Photon50_R9Id90_HE10_IsoM\", \"HLT_Photon75_R9Id90_HE10_IsoM\", \"HLT_Photon90_R9Id90_HE10_IsoM\", \"HLT_Photon120_R9Id90_HE10_IsoM\", \"HLT_Photon165_R9Id90_HE10_IsoM\", \"HLT_Diphoton30_18_R9Id_OR_IsoCaloId_AND_HE_R9Id_Mass90\", \"HLT_Diphoton30_18_R9Id_OR_IsoCaloId_AND_HE_R9Id_DoublePixelSeedMatch_Mass70\", \"HLT_Diphoton30PV_18PV_R9Id_AND_IsoCaloId_AND_HE_R9Id_DoublePixelVeto_Mass55\", \"HLT_Diphoton30_18_Solid_R9Id_AND_IsoCaloId_AND_HE_R9Id_Mass55\", \"HLT_Diphoton30EB_18EB_R9Id_OR_IsoCaloId_AND_HE_R9Id_DoublePixelVeto_Mass55\", \"HLT_Dimuon0_Jpsi_Muon\", \"HLT_Dimuon0_Upsilon_Muon\", \"HLT_QuadMuon0_Dimuon0_Jpsi\", \"HLT_QuadMuon0_Dimuon0_Upsilon\", \"HLT_Rsq0p25_Calo\", \"HLT_RsqMR240_Rsq0p09_MR200_4jet_Calo\", \"HLT_RsqMR240_Rsq0p09_MR200_Calo\", \"HLT_Rsq0p25\", \"HLT_Rsq0p30\", \"HLT_RsqMR240_Rsq0p09_MR200\", \"HLT_RsqMR240_Rsq0p09_MR200_4jet\", \"HLT_RsqMR270_Rsq0p09_MR200\", \"HLT_RsqMR270_Rsq0p09_MR200_4jet\", \"HLT_Rsq0p02_MR300_TriPFJet80_60_40_BTagCSV_p063_p20_Mbb60_200\", \"HLT_Rsq0p02_MR400_TriPFJet80_60_40_DoubleBTagCSV_p063_Mbb60_200\", \"HLT_Rsq0p02_MR450_TriPFJet80_60_40_DoubleBTagCSV_p063_Mbb60_200\", \"HLT_Rsq0p02_MR500_TriPFJet80_60_40_DoubleBTagCSV_p063_Mbb60_200\", \"HLT_Rsq0p02_MR550_TriPFJet80_60_40_DoubleBTagCSV_p063_Mbb60_200\", \"HLT_HT200_DisplacedDijet40_DisplacedTrack\", \"HLT_HT250_DisplacedDijet40_DisplacedTrack\", \"HLT_HT350_DisplacedDijet40_DisplacedTrack\", \"HLT_HT350_DisplacedDijet80_DisplacedTrack\", \"HLT_HT350_DisplacedDijet80_Tight_DisplacedTrack\", \"HLT_HT350_DisplacedDijet40_Inclusive\", \"HLT_HT400_DisplacedDijet40_Inclusive\", \"HLT_HT500_DisplacedDijet40_Inclusive\", \"HLT_HT550_DisplacedDijet40_Inclusive\", \"HLT_HT550_DisplacedDijet80_Inclusive\", \"HLT_HT650_DisplacedDijet80_Inclusive\", \"HLT_HT750_DisplacedDijet80_Inclusive\", \"HLT_VBF_DisplacedJet40_DisplacedTrack\", \"HLT_VBF_DisplacedJet40_DisplacedTrack_2TrackIP2DSig5\", \"HLT_VBF_DisplacedJet40_TightID_DisplacedTrack\", \"HLT_VBF_DisplacedJet40_Hadronic\", \"HLT_VBF_DisplacedJet40_Hadronic_2PromptTrack\", \"HLT_VBF_DisplacedJet40_TightID_Hadronic\", \"HLT_VBF_DisplacedJet40_VTightID_Hadronic\", \"HLT_VBF_DisplacedJet40_VVTightID_Hadronic\", \"HLT_VBF_DisplacedJet40_VTightID_DisplacedTrack\", \"HLT_VBF_DisplacedJet40_VVTightID_DisplacedTrack\", \"HLT_PFMETNoMu90_PFMHTNoMu90_IDTight\", \"HLT_PFMETNoMu100_PFMHTNoMu100_IDTight\", \"HLT_PFMETNoMu110_PFMHTNoMu110_IDTight\", \"HLT_PFMETNoMu120_PFMHTNoMu120_IDTight\", \"HLT_MonoCentralPFJet80_PFMETNoMu90_PFMHTNoMu90_IDTight\", \"HLT_MonoCentralPFJet80_PFMETNoMu100_PFMHTNoMu100_IDTight\", \"HLT_MonoCentralPFJet80_PFMETNoMu110_PFMHTNoMu110_IDTight\", \"HLT_MonoCentralPFJet80_PFMETNoMu120_PFMHTNoMu120_IDTight\", \"HLT_Ele27_eta2p1_WPLoose_Gsf_HT200\", \"HLT_Photon90_CaloIdL_PFHT500\", \"HLT_DoubleMu8_Mass8_PFHT250\", \"HLT_Mu8_Ele8_CaloIdM_TrackIdM_Mass8_PFHT250\", \"HLT_DoubleEle8_CaloIdM_TrackIdM_Mass8_PFHT250\", \"HLT_DoubleMu8_Mass8_PFHT300\", \"HLT_Mu8_Ele8_CaloIdM_TrackIdM_Mass8_PFHT300\", \"HLT_DoubleEle8_CaloIdM_TrackIdM_Mass8_PFHT300\", \"HLT_Mu10_CentralPFJet30_BTagCSV_p13\", \"HLT_DoubleMu3_PFMET50\", \"HLT_Ele10_CaloIdM_TrackIdM_CentralPFJet30_BTagCSV_p13\", \"HLT_Ele15_IsoVVVL_BTagCSV_p067_PFHT400\", \"HLT_Ele15_IsoVVVL_PFHT350_PFMET50\", \"HLT_Ele15_IsoVVVL_PFHT600\", \"HLT_Ele15_IsoVVVL_PFHT350\", \"HLT_Ele15_IsoVVVL_PFHT400_PFMET50\", \"HLT_Ele15_IsoVVVL_PFHT400\", \"HLT_Ele50_IsoVVVL_PFHT400\", \"HLT_Mu8_TrkIsoVVL_DiPFJet40_DEta3p5_MJJ750_HTT300_PFMETNoMu60\", \"HLT_Mu10_TrkIsoVVL_DiPFJet40_DEta3p5_MJJ750_HTT350_PFMETNoMu60\", \"HLT_Mu15_IsoVVVL_BTagCSV_p067_PFHT400\", \"HLT_Mu15_IsoVVVL_PFHT350_PFMET50\", \"HLT_Mu15_IsoVVVL_PFHT600\", \"HLT_Mu15_IsoVVVL_PFHT350\", \"HLT_Mu15_IsoVVVL_PFHT400_PFMET50\", \"HLT_Mu15_IsoVVVL_PFHT400\", \"HLT_Mu50_IsoVVVL_PFHT400\", \"HLT_Dimuon16_Jpsi\", \"HLT_Dimuon10_Jpsi_Barrel\", \"HLT_Dimuon8_PsiPrime_Barrel\", \"HLT_Dimuon8_Upsilon_Barrel\", \"HLT_Dimuon0_Phi_Barrel\", \"HLT_Mu16_TkMu0_dEta18_Onia\", \"HLT_Mu16_TkMu0_dEta18_Phi\", \"HLT_TrkMu15_DoubleTrkMu5NoFiltersNoVtx\", \"HLT_TrkMu17_DoubleTrkMu8NoFiltersNoVtx\", \"HLT_Mu8\", \"HLT_Mu17\", \"HLT_Mu3_PFJet40\", \"HLT_Ele8_CaloIdM_TrackIdM_PFJet30\", \"HLT_Ele12_CaloIdM_TrackIdM_PFJet30\", \"HLT_Ele17_CaloIdM_TrackIdM_PFJet30\", \"HLT_Ele23_CaloIdM_TrackIdM_PFJet30\", \"HLT_Ele50_CaloIdVT_GsfTrkIdT_PFJet140\", \"HLT_Ele50_CaloIdVT_GsfTrkIdT_PFJet165\", \"HLT_PFHT400_SixJet30_DoubleBTagCSV_p056\", \"HLT_PFHT450_SixJet40_BTagCSV_p056\", \"HLT_PFHT400_SixJet30\", \"HLT_PFHT450_SixJet40\", \"HLT_Ele115_CaloIdVT_GsfTrkIdT\", \"HLT_Mu55\", \"HLT_Photon42_R9Id85_OR_CaloId24b40e_Iso50T80L_Photon25_AND_HE10_R9Id65_Eta2_Mass15\", \"HLT_Photon90_CaloIdL_PFHT600\", \"HLT_PixelTracks_Multiplicity60ForEndOfFill\", \"HLT_PixelTracks_Multiplicity85ForEndOfFill\", \"HLT_PixelTracks_Multiplicity110ForEndOfFill\", \"HLT_PixelTracks_Multiplicity135ForEndOfFill\", \"HLT_PixelTracks_Multiplicity160ForEndOfFill\", \"HLT_FullTracks_Multiplicity80\", \"HLT_FullTracks_Multiplicity100\", \"HLT_FullTracks_Multiplicity130\", \"HLT_FullTracks_Multiplicity150\", \"HLT_ECALHT800\", \"HLT_DiSC30_18_EIso_AND_HE_Mass70\", \"HLT_Photon125\", \"HLT_MET100\", \"HLT_MET150\", \"HLT_MET200\", \"HLT_Ele27_HighEta_Ele20_Mass55\", \"HLT_L1FatEvents\", \"HLT_Physics\", \"HLT_L1FatEvents_part0\", \"HLT_L1FatEvents_part1\", \"HLT_L1FatEvents_part2\", \"HLT_L1FatEvents_part3\", \"HLT_Random\", \"HLT_ZeroBias\", \"HLT_AK4CaloJet30\", \"HLT_AK4CaloJet40\", \"HLT_AK4CaloJet50\", \"HLT_AK4CaloJet80\", \"HLT_AK4CaloJet100\", \"HLT_AK4PFJet30\", \"HLT_AK4PFJet50\", \"HLT_AK4PFJet80\", \"HLT_AK4PFJet100\", \"HLT_HISinglePhoton10\", \"HLT_HISinglePhoton15\", \"HLT_HISinglePhoton20\", \"HLT_HISinglePhoton40\", \"HLT_HISinglePhoton60\", \"HLT_EcalCalibration\", \"HLT_HcalCalibration\", \"HLT_GlobalRunHPDNoise\", \"HLT_L1BptxMinus\", \"HLT_L1BptxPlus\", \"HLT_L1NotBptxOR\", \"HLT_L1BeamGasMinus\", \"HLT_L1BeamGasPlus\", \"HLT_L1BptxXOR\", \"HLT_L1MinimumBiasHF_OR\", \"HLT_L1MinimumBiasHF_AND\", \"HLT_HcalNZS\", \"HLT_HcalPhiSym\", \"HLT_HcalIsolatedbunch\", \"HLT_ZeroBias_FirstCollisionAfterAbortGap\", \"HLT_ZeroBias_FirstCollisionAfterAbortGap_copy\", \"HLT_ZeroBias_FirstCollisionAfterAbortGap_TCDS\", \"HLT_ZeroBias_IsolatedBunches\", \"HLT_ZeroBias_FirstCollisionInTrain\", \"HLT_ZeroBias_FirstBXAfterTrain\", \"HLT_Photon500\", \"HLT_Photon600\", \"HLT_Mu300\", \"HLT_Mu350\", \"HLT_MET250\", \"HLT_MET300\", \"HLT_MET600\", \"HLT_MET700\", \"HLT_PFMET300\", \"HLT_PFMET400\", \"HLT_PFMET500\", \"HLT_PFMET600\", \"HLT_Ele250_CaloIdVT_GsfTrkIdT\", \"HLT_Ele300_CaloIdVT_GsfTrkIdT\", \"HLT_HT2000\", \"HLT_HT2500\", \"HLT_IsoTrackHE\", \"HLT_IsoTrackHB\", \"HLTriggerFinalPath\", \"Flag_HBHENoiseFilter\", \"Flag_HBHENoiseIsoFilter\", \"Flag_CSCTightHaloFilter\", \"Flag_CSCTightHaloTrkMuUnvetoFilter\", \"Flag_CSCTightHalo2015Filter\", \"Flag_globalTightHalo2016Filter\", \"Flag_globalSuperTightHalo2016Filter\", \"Flag_HcalStripHaloFilter\", \"Flag_hcalLaserEventFilter\", \"Flag_EcalDeadCellTriggerPrimitiveFilter\", \"Flag_EcalDeadCellBoundaryEnergyFilter\", \"Flag_ecalBadCalibFilter\", \"Flag_goodVertices\", \"Flag_eeBadScFilter\", \"Flag_ecalLaserCorrFilter\", \"Flag_trkPOGFilters\", \"Flag_chargedHadronTrackResolutionFilter\", \"Flag_muonBadTrackFilter\", \"Flag_BadChargedCandidateFilter\", \"Flag_BadPFMuonFilter\", \"Flag_BadChargedCandidateSummer16Filter\", \"Flag_BadPFMuonSummer16Filter\", \"Flag_trkPOG_manystripclus53X\", \"Flag_trkPOG_toomanystripclus53X\", \"Flag_trkPOG_logErrorTooManyClusters\", \"Flag_METFilters\" }\n"
     ]
    }
   ],
   "source": [
    "print(PDs[0]['RDF'].GetColumnNames())"
   ]
  },
  {
   "cell_type": "code",
   "execution_count": 11,
   "id": "2169bb93",
   "metadata": {},
   "outputs": [
    {
     "name": "stdout",
     "output_type": "stream",
     "text": [
      "Two or more good electrons: pass=206007     all=4621815    -- eff=4.46 % cumulative eff=4.46 %\n",
      "Come from Z: pass=59439      all=206007     -- eff=28.85 % cumulative eff=1.29 %\n",
      "DeepJet cuts on ele: pass=58892      all=59439      -- eff=99.08 % cumulative eff=1.27 %\n",
      "Z mass cut: pass=58609      all=58892      -- eff=99.52 % cumulative eff=1.27 %\n",
      "Quality1  : pass=58592      all=58609      -- eff=99.97 % cumulative eff=1.27 %\n",
      "Quality3  : pass=58569      all=58592      -- eff=99.96 % cumulative eff=1.27 %\n"
     ]
    }
   ],
   "source": [
    "PDs[0]['RDF'].Report().Print()"
   ]
  },
  {
   "cell_type": "code",
   "execution_count": 12,
   "id": "c0aaf8ea",
   "metadata": {},
   "outputs": [],
   "source": [
    "#PDs[0]['RDF'].Display({\"MyElectron_pt\",\"MyElectron_motherpid1\"}).Print()"
   ]
  }
 ],
 "metadata": {
  "kernelspec": {
   "display_name": "Python 3",
   "language": "python",
   "name": "python3"
  },
  "language_info": {
   "codemirror_mode": {
    "name": "ipython",
    "version": 3
   },
   "file_extension": ".py",
   "mimetype": "text/x-python",
   "name": "python",
   "nbconvert_exporter": "python",
   "pygments_lexer": "ipython3",
   "version": "3.8.6"
  }
 },
 "nbformat": 4,
 "nbformat_minor": 5
}
