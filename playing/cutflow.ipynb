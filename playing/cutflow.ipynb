{
 "cells": [
  {
   "cell_type": "code",
   "execution_count": 1,
   "id": "a160a352",
   "metadata": {},
   "outputs": [
    {
     "name": "stderr",
     "output_type": "stream",
     "text": [
      "/cvmfs/sft-nightlies.cern.ch/lcg/views/devswan/Sat/x86_64-centos7-gcc11-opt/lib/python3.9/site-packages/coffea/nanoevents/schemas/nanoaod.py:193: RuntimeWarning: Missing cross-reference index for FatJet_genJetAK8Idx => GenJetAK8\n",
      "  warnings.warn(\n"
     ]
    }
   ],
   "source": [
    "import awkward as ak\n",
    "from coffea.nanoevents import NanoEventsFactory, NanoAODSchema\n",
    "import numpy as np\n",
    "\n",
    "fname = \"https://raw.githubusercontent.com/CoffeaTeam/coffea/master/tests/samples/nano_dy.root\"\n",
    "events = NanoEventsFactory.from_root(fname, schemaclass=NanoAODSchema).events()"
   ]
  },
  {
   "cell_type": "code",
   "execution_count": null,
   "id": "802cf6e6",
   "metadata": {},
   "outputs": [],
   "source": []
  },
  {
   "cell_type": "code",
   "execution_count": 2,
   "id": "515c97bf",
   "metadata": {},
   "outputs": [],
   "source": [
    "from coffea.analysis_tools import PackedSelection"
   ]
  },
  {
   "cell_type": "code",
   "execution_count": 3,
   "id": "a1fcc049",
   "metadata": {},
   "outputs": [],
   "source": [
    "selections = PackedSelection(dtype='uint64')\n",
    "\n",
    "selections.add(\"leadingelectronpt>10\",ak.pad_none(events.Electron,1).pt[:,0] > 10)\n",
    "selections.add(\"leadingjetpt>20\",events.Jet[:,0].pt > 20)\n",
    "selections.add(\"leadingjetpt>30\",events.Jet[:,0].pt > 30)\n",
    "selections.add(\"leadingjetpt>40\",events.Jet[:,0].pt > 40)"
   ]
  },
  {
   "cell_type": "code",
   "execution_count": null,
   "id": "0630b0d7",
   "metadata": {},
   "outputs": [],
   "source": []
  },
  {
   "cell_type": "code",
   "execution_count": null,
   "id": "98a2cd71",
   "metadata": {},
   "outputs": [],
   "source": []
  },
  {
   "cell_type": "code",
   "execution_count": null,
   "id": "ad3ae7a2",
   "metadata": {},
   "outputs": [],
   "source": []
  },
  {
   "cell_type": "code",
   "execution_count": 15,
   "id": "c6a7e422",
   "metadata": {},
   "outputs": [],
   "source": [
    "def cutflow(hi,events,selections,cumulative=True):\n",
    "    hi = hist.Hist(axes=[hist.Cat(\"selection\", \"selection\"),\n",
    "                    hist.Bin(\"x\", \"x coordinate [m]\", 80, 0, 80)\n",
    "                   ],\n",
    "              label=\"Cutflow\",\n",
    "             )\n",
    "    #if cumulative: print(f'cumulative')\n",
    "    sels=[]\n",
    "    cutflow=[]\n",
    "    ne=[]\n",
    "    cutflow.append(len(events))\n",
    "    ne.append(np.ones(len(events)))\n",
    "    names=[\"all\"]\n",
    "    for ss,n in enumerate(selections.names):\n",
    "        len(events)\n",
    "        if cumulative: sels.append(n)\n",
    "        else: sels=[n]\n",
    "        cutflow.append(np.count_nonzero(selections.all(*sels)))\n",
    "        ne.append(np.ones(np.count_nonzero(selections.all(*sels)))*(ss+2))        \n",
    "        #cutflow.append(selections.all(*sels))\n",
    "    for namesi,ci,ei in zip(names+selections.names,cutflow,ne):\n",
    "        hi.fill(selection=namesi,x=ei)\n",
    "    return hi\n",
    "        #print(f'{n} : {np.count_nonzero(selections.all(*sels))}')"
   ]
  },
  {
   "cell_type": "code",
   "execution_count": null,
   "id": "b0e0012c",
   "metadata": {},
   "outputs": [],
   "source": []
  },
  {
   "cell_type": "code",
   "execution_count": null,
   "id": "ed542798",
   "metadata": {},
   "outputs": [],
   "source": []
  },
  {
   "cell_type": "code",
   "execution_count": 11,
   "id": "c9c02abb",
   "metadata": {},
   "outputs": [],
   "source": [
    "from coffea import hist"
   ]
  },
  {
   "cell_type": "code",
   "execution_count": 16,
   "id": "2e5fe1c8",
   "metadata": {},
   "outputs": [],
   "source": [
    "hi=cutflow(hi,events,selections,cumulative=True)"
   ]
  },
  {
   "cell_type": "code",
   "execution_count": null,
   "id": "726e057e",
   "metadata": {},
   "outputs": [],
   "source": []
  },
  {
   "cell_type": "code",
   "execution_count": 17,
   "id": "eb8f9c1a",
   "metadata": {},
   "outputs": [],
   "source": [
    "hip=hi.project('selection')"
   ]
  },
  {
   "cell_type": "code",
   "execution_count": 18,
   "id": "63ce4875",
   "metadata": {},
   "outputs": [
    {
     "data": {
      "text/plain": [
       "(array([0.5, 1.5, 2.5, 3.5, 4.5]),\n",
       " [Text(0.5, 0, 'all'),\n",
       "  Text(1.5, 0, 'leadingelectronpt>10'),\n",
       "  Text(2.5, 0, 'leadingjetpt>20'),\n",
       "  Text(3.5, 0, 'leadingjetpt>30'),\n",
       "  Text(4.5, 0, 'leadingjetpt>40')])"
      ]
     },
     "execution_count": 18,
     "metadata": {},
     "output_type": "execute_result"
    },
    {
     "data": {
      "image/png": "[encoded data removed]",
      "text/plain": [
       "<Figure size 432x288 with 1 Axes>"
      ]
     },
     "metadata": {
      "needs_background": "light"
     },
     "output_type": "display_data"
    }
   ],
   "source": [
    "import matplotlib.pyplot as plt\n",
    "fig, ax = plt.subplots(figsize=(6, 4))\n",
    "hip.to_hist().plot(ax=ax)\n",
    "plt.xticks(rotation=90)"
   ]
  },
  {
   "cell_type": "code",
   "execution_count": null,
   "id": "e39f038a",
   "metadata": {},
   "outputs": [],
   "source": []
  },
  {
   "cell_type": "code",
   "execution_count": null,
   "id": "998d9af7",
   "metadata": {},
   "outputs": [],
   "source": []
  },
  {
   "cell_type": "code",
   "execution_count": null,
   "id": "434e8017",
   "metadata": {},
   "outputs": [],
   "source": []
  },
  {
   "cell_type": "code",
   "execution_count": null,
   "id": "ae3abaaf",
   "metadata": {},
   "outputs": [],
   "source": []
  }
 ],
 "metadata": {
  "kernelspec": {
   "display_name": "Python 3",
   "language": "python",
   "name": "python3"
  },
  "language_info": {
   "codemirror_mode": {
    "name": "ipython",
    "version": 3
   },
   "file_extension": ".py",
   "mimetype": "text/x-python",
   "name": "python",
   "nbconvert_exporter": "python",
   "pygments_lexer": "ipython3",
   "version": "3.9.12"
  }
 },
 "nbformat": 4,
 "nbformat_minor": 5
}
